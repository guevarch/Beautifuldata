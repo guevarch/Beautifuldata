{
 "cells": [
  {
   "cell_type": "code",
   "execution_count": 23,
   "metadata": {},
   "outputs": [],
   "source": [
    "import pandas as pd\n",
    "import openpyxl\n",
    "\n",
    "\n",
    "# Read the Excel file into a DataFrame\n",
    "df = pd.read_excel('Resources/Courtneyslist.xlsx')\n",
    "\n",
    "# Remove NaN values from the DataFrame\n",
    "df = df.dropna()\n",
    "# Display the DataFrame\n",
    "# Create a new column 'class' and classify each item in the 'List' column\n",
    "df['class'] = df['List'].apply(lambda x: 'Cigarettes' if 'REG' in x else 'Food' if 'BUTTER' in x or 'EGGS' in x or 'SNACKS' in x else 'Other')\n",
    "# Create a new column 'class 2' and further classify the 'class' column\n",
    "# Create a new DataFrame that contains only food items\n",
    "# Save the DataFrame to a CSV file\n",
    "df.to_csv('Resources/Courtneyslist_cleaned.csv', index=False)"
   ]
  },
  {
   "cell_type": "code",
   "execution_count": null,
   "metadata": {},
   "outputs": [],
   "source": []
  }
 ],
 "metadata": {
  "kernelspec": {
   "display_name": "python_data",
   "language": "python",
   "name": "python3"
  },
  "language_info": {
   "codemirror_mode": {
    "name": "ipython",
    "version": 3
   },
   "file_extension": ".py",
   "mimetype": "text/x-python",
   "name": "python",
   "nbconvert_exporter": "python",
   "pygments_lexer": "ipython3",
   "version": "3.11.7"
  }
 },
 "nbformat": 4,
 "nbformat_minor": 2
}
