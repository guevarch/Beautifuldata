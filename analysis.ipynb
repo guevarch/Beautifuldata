{
 "cells": [
  {
   "cell_type": "code",
   "execution_count": 1,
   "metadata": {},
   "outputs": [
    {
     "data": {
      "text/html": [
       "<div>\n",
       "<style scoped>\n",
       "    .dataframe tbody tr th:only-of-type {\n",
       "        vertical-align: middle;\n",
       "    }\n",
       "\n",
       "    .dataframe tbody tr th {\n",
       "        vertical-align: top;\n",
       "    }\n",
       "\n",
       "    .dataframe thead th {\n",
       "        text-align: right;\n",
       "    }\n",
       "</style>\n",
       "<table border=\"1\" class=\"dataframe\">\n",
       "  <thead>\n",
       "    <tr style=\"text-align: right;\">\n",
       "      <th></th>\n",
       "      <th>Token</th>\n",
       "      <th>Course Name</th>\n",
       "      <th>Token Status</th>\n",
       "      <th>Token Expiry Date</th>\n",
       "      <th>Redeemer Name</th>\n",
       "      <th>Redeemer Email</th>\n",
       "      <th>Course Status</th>\n",
       "      <th>Start Date</th>\n",
       "    </tr>\n",
       "  </thead>\n",
       "  <tbody>\n",
       "    <tr>\n",
       "      <th>0</th>\n",
       "      <td>Z3CW2C</td>\n",
       "      <td>Smart Serve Online Training Program 08152022</td>\n",
       "      <td>Redeemed</td>\n",
       "      <td>2024-04-18</td>\n",
       "      <td>Deepthi Parambol</td>\n",
       "      <td>deepthi.nambiar92@gmail.com</td>\n",
       "      <td>Completed</td>\n",
       "      <td>2024-03-20</td>\n",
       "    </tr>\n",
       "    <tr>\n",
       "      <th>1</th>\n",
       "      <td>RPCW2C</td>\n",
       "      <td>Smart Serve Online Training Program 08152022</td>\n",
       "      <td>Redeemed</td>\n",
       "      <td>2024-04-18</td>\n",
       "      <td>Abednego Akwasi Asante Asiedu</td>\n",
       "      <td>asante.asiedu25@gmail.com</td>\n",
       "      <td>In Progress</td>\n",
       "      <td>-</td>\n",
       "    </tr>\n",
       "    <tr>\n",
       "      <th>2</th>\n",
       "      <td>KTEW2C</td>\n",
       "      <td>Smart Serve Online Training Program 08152022</td>\n",
       "      <td>Redeemed</td>\n",
       "      <td>2024-04-18</td>\n",
       "      <td>Mary Jaiyeola</td>\n",
       "      <td>toftehworld@gmail.com</td>\n",
       "      <td>In Progress</td>\n",
       "      <td>-</td>\n",
       "    </tr>\n",
       "    <tr>\n",
       "      <th>3</th>\n",
       "      <td>75ZW2C</td>\n",
       "      <td>Smart Serve Online Training Program 08152022</td>\n",
       "      <td>Redeemed</td>\n",
       "      <td>2024-04-18</td>\n",
       "      <td>Milkah Wakuhi</td>\n",
       "      <td>wakuhimilkah1999@gmail.com</td>\n",
       "      <td>In Progress</td>\n",
       "      <td>-</td>\n",
       "    </tr>\n",
       "    <tr>\n",
       "      <th>4</th>\n",
       "      <td>XEZW2C</td>\n",
       "      <td>Smart Serve Online Training Program 08152022</td>\n",
       "      <td>Redeemed</td>\n",
       "      <td>2024-04-18</td>\n",
       "      <td>John Baptist Matovu</td>\n",
       "      <td>johnkenedym@gmail.com</td>\n",
       "      <td>In Progress</td>\n",
       "      <td>-</td>\n",
       "    </tr>\n",
       "    <tr>\n",
       "      <th>...</th>\n",
       "      <td>...</td>\n",
       "      <td>...</td>\n",
       "      <td>...</td>\n",
       "      <td>...</td>\n",
       "      <td>...</td>\n",
       "      <td>...</td>\n",
       "      <td>...</td>\n",
       "      <td>...</td>\n",
       "    </tr>\n",
       "    <tr>\n",
       "      <th>801</th>\n",
       "      <td>KCQWF</td>\n",
       "      <td>Smart Serve Online Training Program</td>\n",
       "      <td>Redeemed</td>\n",
       "      <td>2021-11-24</td>\n",
       "      <td>Adaeze Emmanuel</td>\n",
       "      <td>preciousemmanuel147@gmail.com</td>\n",
       "      <td>Completed</td>\n",
       "      <td>2021-12-05</td>\n",
       "    </tr>\n",
       "    <tr>\n",
       "      <th>802</th>\n",
       "      <td>7FSWF</td>\n",
       "      <td>Smart Serve Online Training Program</td>\n",
       "      <td>Redeemed</td>\n",
       "      <td>2021-11-24</td>\n",
       "      <td>Nishu Rani Garg</td>\n",
       "      <td>neesha.garg06@gmail.com</td>\n",
       "      <td>Failed</td>\n",
       "      <td>2021-11-10</td>\n",
       "    </tr>\n",
       "    <tr>\n",
       "      <th>803</th>\n",
       "      <td>X4NWF</td>\n",
       "      <td>Smart Serve Online Training Program</td>\n",
       "      <td>Redeemed</td>\n",
       "      <td>2021-11-24</td>\n",
       "      <td>Chelsea Hill McGrowder</td>\n",
       "      <td>mcgrowder8@gmail.com</td>\n",
       "      <td>Failed</td>\n",
       "      <td>2021-11-30</td>\n",
       "    </tr>\n",
       "    <tr>\n",
       "      <th>804</th>\n",
       "      <td>J7YWF</td>\n",
       "      <td>Smart Serve Online Training Program</td>\n",
       "      <td>Expired</td>\n",
       "      <td>2021-11-24</td>\n",
       "      <td>-</td>\n",
       "      <td>-</td>\n",
       "      <td>-</td>\n",
       "      <td>-</td>\n",
       "    </tr>\n",
       "    <tr>\n",
       "      <th>805</th>\n",
       "      <td>QDYWF</td>\n",
       "      <td>Smart Serve Online Training Program</td>\n",
       "      <td>Redeemed</td>\n",
       "      <td>2021-11-24</td>\n",
       "      <td>Mona EL-Khodr</td>\n",
       "      <td>monakhodr@yahoo.com</td>\n",
       "      <td>Completed</td>\n",
       "      <td>2021-10-26</td>\n",
       "    </tr>\n",
       "  </tbody>\n",
       "</table>\n",
       "<p>806 rows × 8 columns</p>\n",
       "</div>"
      ],
      "text/plain": [
       "      Token                                   Course Name Token Status  \\\n",
       "0    Z3CW2C  Smart Serve Online Training Program 08152022     Redeemed   \n",
       "1    RPCW2C  Smart Serve Online Training Program 08152022     Redeemed   \n",
       "2    KTEW2C  Smart Serve Online Training Program 08152022     Redeemed   \n",
       "3    75ZW2C  Smart Serve Online Training Program 08152022     Redeemed   \n",
       "4    XEZW2C  Smart Serve Online Training Program 08152022     Redeemed   \n",
       "..      ...                                           ...          ...   \n",
       "801   KCQWF           Smart Serve Online Training Program     Redeemed   \n",
       "802   7FSWF           Smart Serve Online Training Program     Redeemed   \n",
       "803   X4NWF           Smart Serve Online Training Program     Redeemed   \n",
       "804   J7YWF           Smart Serve Online Training Program      Expired   \n",
       "805   QDYWF           Smart Serve Online Training Program     Redeemed   \n",
       "\n",
       "    Token Expiry Date                  Redeemer Name  \\\n",
       "0          2024-04-18               Deepthi Parambol   \n",
       "1          2024-04-18  Abednego Akwasi Asante Asiedu   \n",
       "2          2024-04-18                  Mary Jaiyeola   \n",
       "3          2024-04-18                  Milkah Wakuhi   \n",
       "4          2024-04-18            John Baptist Matovu   \n",
       "..                ...                            ...   \n",
       "801        2021-11-24                Adaeze Emmanuel   \n",
       "802        2021-11-24                Nishu Rani Garg   \n",
       "803        2021-11-24         Chelsea Hill McGrowder   \n",
       "804        2021-11-24                              -   \n",
       "805        2021-11-24                  Mona EL-Khodr   \n",
       "\n",
       "                    Redeemer Email Course Status  Start Date  \n",
       "0      deepthi.nambiar92@gmail.com     Completed  2024-03-20  \n",
       "1        asante.asiedu25@gmail.com   In Progress           -  \n",
       "2            toftehworld@gmail.com   In Progress           -  \n",
       "3       wakuhimilkah1999@gmail.com   In Progress           -  \n",
       "4            johnkenedym@gmail.com   In Progress           -  \n",
       "..                             ...           ...         ...  \n",
       "801  preciousemmanuel147@gmail.com     Completed  2021-12-05  \n",
       "802        neesha.garg06@gmail.com        Failed  2021-11-10  \n",
       "803           mcgrowder8@gmail.com        Failed  2021-11-30  \n",
       "804                              -             -           -  \n",
       "805            monakhodr@yahoo.com     Completed  2021-10-26  \n",
       "\n",
       "[806 rows x 8 columns]"
      ]
     },
     "execution_count": 1,
     "metadata": {},
     "output_type": "execute_result"
    }
   ],
   "source": [
    "import pandas as pd\n",
    "\n",
    "df = pd.read_csv('tokenreport.csv')\n",
    "df"
   ]
  },
  {
   "cell_type": "code",
   "execution_count": 2,
   "metadata": {},
   "outputs": [],
   "source": [
    "import datetime\n",
    "df['attempts'] = df.apply(lambda row: 1 if row['Token Status'] == 'Redeemed' and row['Course Status'] == 'Completed' else \n",
    "                          (2 if row['Token Status'] == 'Redeemed' and row['Course Status'] == 'Failed' else \n",
    "                          (0 if row['Token Status'] == 'Redeemed' and (row['Course Status'] == 'In Progress' or row['Course Status'] == 'Not Started') else None)), axis=1)\n",
    "# Create a Boolean Series that is True for each 'Redeemer Email' that is duplicated\n",
    "is_duplicated = df['Redeemer Email'].duplicated(keep=False)\n",
    "\n",
    "# Assign 1 to 'attempts' where 'Course Status' is 'Failed' and 'Redeemer Email' is duplicated\n",
    "df.loc[(df['Course Status'] == 'Failed') & is_duplicated, 'attempts'] = 1\n",
    "\n",
    "# Assign 2 to 'attempts' where 'Course Status' is 'Completed' and 'Redeemer Email' is duplicated\n",
    "df.loc[(df['Course Status'] == 'Completed') & is_duplicated, 'attempts'] = 2\n",
    "df.loc[df['Token Status'] != 'Available', 'attempts'] = df['attempts'].fillna(1)\n",
    "df['Token Expiry Date'] = pd.to_datetime(df['Token Expiry Date'])\n",
    "today = datetime.date.today()\n",
    "df.loc[(df['Token Status'] == 'Redeemed') & (df['Course Status'] == 'In Progress') & (df['Token Expiry Date'].dt.date < today), 'attempts'] = 1\n"
   ]
  },
  {
   "cell_type": "code",
   "execution_count": 3,
   "metadata": {},
   "outputs": [
    {
     "data": {
      "text/html": [
       "<div>\n",
       "<style scoped>\n",
       "    .dataframe tbody tr th:only-of-type {\n",
       "        vertical-align: middle;\n",
       "    }\n",
       "\n",
       "    .dataframe tbody tr th {\n",
       "        vertical-align: top;\n",
       "    }\n",
       "\n",
       "    .dataframe thead th {\n",
       "        text-align: right;\n",
       "    }\n",
       "</style>\n",
       "<table border=\"1\" class=\"dataframe\">\n",
       "  <thead>\n",
       "    <tr style=\"text-align: right;\">\n",
       "      <th></th>\n",
       "      <th>Token</th>\n",
       "      <th>Course Name</th>\n",
       "      <th>Token Status</th>\n",
       "      <th>Token Expiry Date</th>\n",
       "      <th>Redeemer Name</th>\n",
       "      <th>Redeemer Email</th>\n",
       "      <th>Course Status</th>\n",
       "      <th>Start Date</th>\n",
       "      <th>attempts</th>\n",
       "    </tr>\n",
       "  </thead>\n",
       "  <tbody>\n",
       "    <tr>\n",
       "      <th>1</th>\n",
       "      <td>RPCW2C</td>\n",
       "      <td>Smart Serve Online Training Program 08152022</td>\n",
       "      <td>Redeemed</td>\n",
       "      <td>2024-04-18</td>\n",
       "      <td>Abednego Akwasi Asante Asiedu</td>\n",
       "      <td>asante.asiedu25@gmail.com</td>\n",
       "      <td>In Progress</td>\n",
       "      <td>-</td>\n",
       "      <td>0.0</td>\n",
       "    </tr>\n",
       "    <tr>\n",
       "      <th>2</th>\n",
       "      <td>KTEW2C</td>\n",
       "      <td>Smart Serve Online Training Program 08152022</td>\n",
       "      <td>Redeemed</td>\n",
       "      <td>2024-04-18</td>\n",
       "      <td>Mary Jaiyeola</td>\n",
       "      <td>toftehworld@gmail.com</td>\n",
       "      <td>In Progress</td>\n",
       "      <td>-</td>\n",
       "      <td>0.0</td>\n",
       "    </tr>\n",
       "    <tr>\n",
       "      <th>3</th>\n",
       "      <td>75ZW2C</td>\n",
       "      <td>Smart Serve Online Training Program 08152022</td>\n",
       "      <td>Redeemed</td>\n",
       "      <td>2024-04-18</td>\n",
       "      <td>Milkah Wakuhi</td>\n",
       "      <td>wakuhimilkah1999@gmail.com</td>\n",
       "      <td>In Progress</td>\n",
       "      <td>-</td>\n",
       "      <td>0.0</td>\n",
       "    </tr>\n",
       "    <tr>\n",
       "      <th>4</th>\n",
       "      <td>XEZW2C</td>\n",
       "      <td>Smart Serve Online Training Program 08152022</td>\n",
       "      <td>Redeemed</td>\n",
       "      <td>2024-04-18</td>\n",
       "      <td>John Baptist Matovu</td>\n",
       "      <td>johnkenedym@gmail.com</td>\n",
       "      <td>In Progress</td>\n",
       "      <td>-</td>\n",
       "      <td>0.0</td>\n",
       "    </tr>\n",
       "    <tr>\n",
       "      <th>7</th>\n",
       "      <td>D7QR2C</td>\n",
       "      <td>Smart Serve Online Training Program 08152022</td>\n",
       "      <td>Redeemed</td>\n",
       "      <td>2024-04-17</td>\n",
       "      <td>Haroon Asamoah</td>\n",
       "      <td>haroonasamoah11@gmail.com</td>\n",
       "      <td>In Progress</td>\n",
       "      <td>-</td>\n",
       "      <td>0.0</td>\n",
       "    </tr>\n",
       "    <tr>\n",
       "      <th>...</th>\n",
       "      <td>...</td>\n",
       "      <td>...</td>\n",
       "      <td>...</td>\n",
       "      <td>...</td>\n",
       "      <td>...</td>\n",
       "      <td>...</td>\n",
       "      <td>...</td>\n",
       "      <td>...</td>\n",
       "      <td>...</td>\n",
       "    </tr>\n",
       "    <tr>\n",
       "      <th>778</th>\n",
       "      <td>PK5GA</td>\n",
       "      <td>Smart Serve Online Training Program</td>\n",
       "      <td>Redeemed</td>\n",
       "      <td>2021-12-16</td>\n",
       "      <td>Lamis Sarag</td>\n",
       "      <td>lames.sarag@gmail.com</td>\n",
       "      <td>In Progress</td>\n",
       "      <td>2021-12-12</td>\n",
       "      <td>1.0</td>\n",
       "    </tr>\n",
       "    <tr>\n",
       "      <th>783</th>\n",
       "      <td>EP3QT</td>\n",
       "      <td>Smart Serve Online Training Program</td>\n",
       "      <td>Redeemed</td>\n",
       "      <td>2021-12-08</td>\n",
       "      <td>zebib kebede</td>\n",
       "      <td>zebibk12@gmail.com</td>\n",
       "      <td>In Progress</td>\n",
       "      <td>-</td>\n",
       "      <td>1.0</td>\n",
       "    </tr>\n",
       "    <tr>\n",
       "      <th>796</th>\n",
       "      <td>C4VWF</td>\n",
       "      <td>Smart Serve Online Training Program</td>\n",
       "      <td>Redeemed</td>\n",
       "      <td>2021-11-24</td>\n",
       "      <td>Simeon Ooper</td>\n",
       "      <td>simeon_cooper@yahoo.com</td>\n",
       "      <td>In Progress</td>\n",
       "      <td>-</td>\n",
       "      <td>1.0</td>\n",
       "    </tr>\n",
       "    <tr>\n",
       "      <th>798</th>\n",
       "      <td>MD7WF</td>\n",
       "      <td>Smart Serve Online Training Program</td>\n",
       "      <td>Redeemed</td>\n",
       "      <td>2021-11-24</td>\n",
       "      <td>Ramon Molinar</td>\n",
       "      <td>rmfeher@hotmail.com</td>\n",
       "      <td>In Progress</td>\n",
       "      <td>-</td>\n",
       "      <td>1.0</td>\n",
       "    </tr>\n",
       "    <tr>\n",
       "      <th>800</th>\n",
       "      <td>RNQWF</td>\n",
       "      <td>Smart Serve Online Training Program</td>\n",
       "      <td>Redeemed</td>\n",
       "      <td>2021-11-24</td>\n",
       "      <td>Iryna Lomteva</td>\n",
       "      <td>koroleva-i@list.ru</td>\n",
       "      <td>In Progress</td>\n",
       "      <td>-</td>\n",
       "      <td>1.0</td>\n",
       "    </tr>\n",
       "  </tbody>\n",
       "</table>\n",
       "<p>213 rows × 9 columns</p>\n",
       "</div>"
      ],
      "text/plain": [
       "      Token                                   Course Name Token Status  \\\n",
       "1    RPCW2C  Smart Serve Online Training Program 08152022     Redeemed   \n",
       "2    KTEW2C  Smart Serve Online Training Program 08152022     Redeemed   \n",
       "3    75ZW2C  Smart Serve Online Training Program 08152022     Redeemed   \n",
       "4    XEZW2C  Smart Serve Online Training Program 08152022     Redeemed   \n",
       "7    D7QR2C  Smart Serve Online Training Program 08152022     Redeemed   \n",
       "..      ...                                           ...          ...   \n",
       "778   PK5GA           Smart Serve Online Training Program     Redeemed   \n",
       "783   EP3QT           Smart Serve Online Training Program     Redeemed   \n",
       "796   C4VWF           Smart Serve Online Training Program     Redeemed   \n",
       "798   MD7WF           Smart Serve Online Training Program     Redeemed   \n",
       "800   RNQWF           Smart Serve Online Training Program     Redeemed   \n",
       "\n",
       "    Token Expiry Date                  Redeemer Name  \\\n",
       "1          2024-04-18  Abednego Akwasi Asante Asiedu   \n",
       "2          2024-04-18                  Mary Jaiyeola   \n",
       "3          2024-04-18                  Milkah Wakuhi   \n",
       "4          2024-04-18            John Baptist Matovu   \n",
       "7          2024-04-17                 Haroon Asamoah   \n",
       "..                ...                            ...   \n",
       "778        2021-12-16                    Lamis Sarag   \n",
       "783        2021-12-08                   zebib kebede   \n",
       "796        2021-11-24                   Simeon Ooper   \n",
       "798        2021-11-24                  Ramon Molinar   \n",
       "800        2021-11-24                  Iryna Lomteva   \n",
       "\n",
       "                 Redeemer Email Course Status  Start Date  attempts  \n",
       "1     asante.asiedu25@gmail.com   In Progress           -       0.0  \n",
       "2         toftehworld@gmail.com   In Progress           -       0.0  \n",
       "3    wakuhimilkah1999@gmail.com   In Progress           -       0.0  \n",
       "4         johnkenedym@gmail.com   In Progress           -       0.0  \n",
       "7     haroonasamoah11@gmail.com   In Progress           -       0.0  \n",
       "..                          ...           ...         ...       ...  \n",
       "778       lames.sarag@gmail.com   In Progress  2021-12-12       1.0  \n",
       "783          zebibk12@gmail.com   In Progress           -       1.0  \n",
       "796     simeon_cooper@yahoo.com   In Progress           -       1.0  \n",
       "798         rmfeher@hotmail.com   In Progress           -       1.0  \n",
       "800          koroleva-i@list.ru   In Progress           -       1.0  \n",
       "\n",
       "[213 rows x 9 columns]"
      ]
     },
     "execution_count": 3,
     "metadata": {},
     "output_type": "execute_result"
    }
   ],
   "source": [
    "in_progress_df = df[df['Course Status'] == 'In Progress']\n",
    "in_progress_df\n"
   ]
  },
  {
   "cell_type": "code",
   "execution_count": 4,
   "metadata": {},
   "outputs": [
    {
     "data": {
      "text/plain": [
       "attempts\n",
       "1.0    634\n",
       "2.0    119\n",
       "0.0     51\n",
       "Name: count, dtype: int64"
      ]
     },
     "execution_count": 4,
     "metadata": {},
     "output_type": "execute_result"
    }
   ],
   "source": [
    "df['attempts'].value_counts()"
   ]
  },
  {
   "cell_type": "code",
   "execution_count": 5,
   "metadata": {},
   "outputs": [
    {
     "data": {
      "text/html": [
       "<div>\n",
       "<style scoped>\n",
       "    .dataframe tbody tr th:only-of-type {\n",
       "        vertical-align: middle;\n",
       "    }\n",
       "\n",
       "    .dataframe tbody tr th {\n",
       "        vertical-align: top;\n",
       "    }\n",
       "\n",
       "    .dataframe thead th {\n",
       "        text-align: right;\n",
       "    }\n",
       "</style>\n",
       "<table border=\"1\" class=\"dataframe\">\n",
       "  <thead>\n",
       "    <tr style=\"text-align: right;\">\n",
       "      <th></th>\n",
       "      <th>Token</th>\n",
       "      <th>Course Name</th>\n",
       "      <th>Token Status</th>\n",
       "      <th>Token Expiry Date</th>\n",
       "      <th>Redeemer Name</th>\n",
       "      <th>Redeemer Email</th>\n",
       "      <th>Course Status</th>\n",
       "      <th>Start Date</th>\n",
       "      <th>attempts</th>\n",
       "    </tr>\n",
       "  </thead>\n",
       "  <tbody>\n",
       "    <tr>\n",
       "      <th>0</th>\n",
       "      <td>Z3CW2C</td>\n",
       "      <td>Smart Serve Online Training Program 08152022</td>\n",
       "      <td>Redeemed</td>\n",
       "      <td>2024-04-18</td>\n",
       "      <td>Deepthi Parambol</td>\n",
       "      <td>deepthi.nambiar92@gmail.com</td>\n",
       "      <td>Completed</td>\n",
       "      <td>2024-03-20</td>\n",
       "      <td>2.0</td>\n",
       "    </tr>\n",
       "    <tr>\n",
       "      <th>45</th>\n",
       "      <td>4T27JC</td>\n",
       "      <td>Smart Serve Online Training Program 08152022</td>\n",
       "      <td>Redeemed</td>\n",
       "      <td>2024-04-11</td>\n",
       "      <td>Deepthi Parambol</td>\n",
       "      <td>deepthi.nambiar92@gmail.com</td>\n",
       "      <td>Failed</td>\n",
       "      <td>2024-03-16</td>\n",
       "      <td>1.0</td>\n",
       "    </tr>\n",
       "  </tbody>\n",
       "</table>\n",
       "</div>"
      ],
      "text/plain": [
       "     Token                                   Course Name Token Status  \\\n",
       "0   Z3CW2C  Smart Serve Online Training Program 08152022     Redeemed   \n",
       "45  4T27JC  Smart Serve Online Training Program 08152022     Redeemed   \n",
       "\n",
       "   Token Expiry Date     Redeemer Name               Redeemer Email  \\\n",
       "0         2024-04-18  Deepthi Parambol  deepthi.nambiar92@gmail.com   \n",
       "45        2024-04-11  Deepthi Parambol  deepthi.nambiar92@gmail.com   \n",
       "\n",
       "   Course Status  Start Date  attempts  \n",
       "0      Completed  2024-03-20       2.0  \n",
       "45        Failed  2024-03-16       1.0  "
      ]
     },
     "execution_count": 5,
     "metadata": {},
     "output_type": "execute_result"
    }
   ],
   "source": [
    "## check1\n",
    "check = df[df['Redeemer Name'] == 'Deepthi Parambol']\n",
    "check"
   ]
  },
  {
   "cell_type": "code",
   "execution_count": 21,
   "metadata": {},
   "outputs": [
    {
     "data": {
      "application/vnd.plotly.v1+json": {
       "config": {
        "plotlyServerURL": "https://plot.ly"
       },
       "data": [
        {
         "labels": [
          "The token wasn't redeemed and left to expire with no claim",
          "The Student passed",
          "The transaction was reversed or a refund was provided",
          "The student failed",
          "The course was started but not completed",
          "The student started but did not complete all modules assigned"
         ],
         "pull": [
          0,
          0,
          0,
          0,
          0,
          0.1
         ],
         "type": "pie",
         "values": [
          18,
          363,
          2,
          64,
          162,
          25
         ]
        }
       ],
       "layout": {
        "template": {
         "data": {
          "bar": [
           {
            "error_x": {
             "color": "#2a3f5f"
            },
            "error_y": {
             "color": "#2a3f5f"
            },
            "marker": {
             "line": {
              "color": "#E5ECF6",
              "width": 0.5
             },
             "pattern": {
              "fillmode": "overlay",
              "size": 10,
              "solidity": 0.2
             }
            },
            "type": "bar"
           }
          ],
          "barpolar": [
           {
            "marker": {
             "line": {
              "color": "#E5ECF6",
              "width": 0.5
             },
             "pattern": {
              "fillmode": "overlay",
              "size": 10,
              "solidity": 0.2
             }
            },
            "type": "barpolar"
           }
          ],
          "carpet": [
           {
            "aaxis": {
             "endlinecolor": "#2a3f5f",
             "gridcolor": "white",
             "linecolor": "white",
             "minorgridcolor": "white",
             "startlinecolor": "#2a3f5f"
            },
            "baxis": {
             "endlinecolor": "#2a3f5f",
             "gridcolor": "white",
             "linecolor": "white",
             "minorgridcolor": "white",
             "startlinecolor": "#2a3f5f"
            },
            "type": "carpet"
           }
          ],
          "choropleth": [
           {
            "colorbar": {
             "outlinewidth": 0,
             "ticks": ""
            },
            "type": "choropleth"
           }
          ],
          "contour": [
           {
            "colorbar": {
             "outlinewidth": 0,
             "ticks": ""
            },
            "colorscale": [
             [
              0,
              "#0d0887"
             ],
             [
              0.1111111111111111,
              "#46039f"
             ],
             [
              0.2222222222222222,
              "#7201a8"
             ],
             [
              0.3333333333333333,
              "#9c179e"
             ],
             [
              0.4444444444444444,
              "#bd3786"
             ],
             [
              0.5555555555555556,
              "#d8576b"
             ],
             [
              0.6666666666666666,
              "#ed7953"
             ],
             [
              0.7777777777777778,
              "#fb9f3a"
             ],
             [
              0.8888888888888888,
              "#fdca26"
             ],
             [
              1,
              "#f0f921"
             ]
            ],
            "type": "contour"
           }
          ],
          "contourcarpet": [
           {
            "colorbar": {
             "outlinewidth": 0,
             "ticks": ""
            },
            "type": "contourcarpet"
           }
          ],
          "heatmap": [
           {
            "colorbar": {
             "outlinewidth": 0,
             "ticks": ""
            },
            "colorscale": [
             [
              0,
              "#0d0887"
             ],
             [
              0.1111111111111111,
              "#46039f"
             ],
             [
              0.2222222222222222,
              "#7201a8"
             ],
             [
              0.3333333333333333,
              "#9c179e"
             ],
             [
              0.4444444444444444,
              "#bd3786"
             ],
             [
              0.5555555555555556,
              "#d8576b"
             ],
             [
              0.6666666666666666,
              "#ed7953"
             ],
             [
              0.7777777777777778,
              "#fb9f3a"
             ],
             [
              0.8888888888888888,
              "#fdca26"
             ],
             [
              1,
              "#f0f921"
             ]
            ],
            "type": "heatmap"
           }
          ],
          "heatmapgl": [
           {
            "colorbar": {
             "outlinewidth": 0,
             "ticks": ""
            },
            "colorscale": [
             [
              0,
              "#0d0887"
             ],
             [
              0.1111111111111111,
              "#46039f"
             ],
             [
              0.2222222222222222,
              "#7201a8"
             ],
             [
              0.3333333333333333,
              "#9c179e"
             ],
             [
              0.4444444444444444,
              "#bd3786"
             ],
             [
              0.5555555555555556,
              "#d8576b"
             ],
             [
              0.6666666666666666,
              "#ed7953"
             ],
             [
              0.7777777777777778,
              "#fb9f3a"
             ],
             [
              0.8888888888888888,
              "#fdca26"
             ],
             [
              1,
              "#f0f921"
             ]
            ],
            "type": "heatmapgl"
           }
          ],
          "histogram": [
           {
            "marker": {
             "pattern": {
              "fillmode": "overlay",
              "size": 10,
              "solidity": 0.2
             }
            },
            "type": "histogram"
           }
          ],
          "histogram2d": [
           {
            "colorbar": {
             "outlinewidth": 0,
             "ticks": ""
            },
            "colorscale": [
             [
              0,
              "#0d0887"
             ],
             [
              0.1111111111111111,
              "#46039f"
             ],
             [
              0.2222222222222222,
              "#7201a8"
             ],
             [
              0.3333333333333333,
              "#9c179e"
             ],
             [
              0.4444444444444444,
              "#bd3786"
             ],
             [
              0.5555555555555556,
              "#d8576b"
             ],
             [
              0.6666666666666666,
              "#ed7953"
             ],
             [
              0.7777777777777778,
              "#fb9f3a"
             ],
             [
              0.8888888888888888,
              "#fdca26"
             ],
             [
              1,
              "#f0f921"
             ]
            ],
            "type": "histogram2d"
           }
          ],
          "histogram2dcontour": [
           {
            "colorbar": {
             "outlinewidth": 0,
             "ticks": ""
            },
            "colorscale": [
             [
              0,
              "#0d0887"
             ],
             [
              0.1111111111111111,
              "#46039f"
             ],
             [
              0.2222222222222222,
              "#7201a8"
             ],
             [
              0.3333333333333333,
              "#9c179e"
             ],
             [
              0.4444444444444444,
              "#bd3786"
             ],
             [
              0.5555555555555556,
              "#d8576b"
             ],
             [
              0.6666666666666666,
              "#ed7953"
             ],
             [
              0.7777777777777778,
              "#fb9f3a"
             ],
             [
              0.8888888888888888,
              "#fdca26"
             ],
             [
              1,
              "#f0f921"
             ]
            ],
            "type": "histogram2dcontour"
           }
          ],
          "mesh3d": [
           {
            "colorbar": {
             "outlinewidth": 0,
             "ticks": ""
            },
            "type": "mesh3d"
           }
          ],
          "parcoords": [
           {
            "line": {
             "colorbar": {
              "outlinewidth": 0,
              "ticks": ""
             }
            },
            "type": "parcoords"
           }
          ],
          "pie": [
           {
            "automargin": true,
            "type": "pie"
           }
          ],
          "scatter": [
           {
            "fillpattern": {
             "fillmode": "overlay",
             "size": 10,
             "solidity": 0.2
            },
            "type": "scatter"
           }
          ],
          "scatter3d": [
           {
            "line": {
             "colorbar": {
              "outlinewidth": 0,
              "ticks": ""
             }
            },
            "marker": {
             "colorbar": {
              "outlinewidth": 0,
              "ticks": ""
             }
            },
            "type": "scatter3d"
           }
          ],
          "scattercarpet": [
           {
            "marker": {
             "colorbar": {
              "outlinewidth": 0,
              "ticks": ""
             }
            },
            "type": "scattercarpet"
           }
          ],
          "scattergeo": [
           {
            "marker": {
             "colorbar": {
              "outlinewidth": 0,
              "ticks": ""
             }
            },
            "type": "scattergeo"
           }
          ],
          "scattergl": [
           {
            "marker": {
             "colorbar": {
              "outlinewidth": 0,
              "ticks": ""
             }
            },
            "type": "scattergl"
           }
          ],
          "scattermapbox": [
           {
            "marker": {
             "colorbar": {
              "outlinewidth": 0,
              "ticks": ""
             }
            },
            "type": "scattermapbox"
           }
          ],
          "scatterpolar": [
           {
            "marker": {
             "colorbar": {
              "outlinewidth": 0,
              "ticks": ""
             }
            },
            "type": "scatterpolar"
           }
          ],
          "scatterpolargl": [
           {
            "marker": {
             "colorbar": {
              "outlinewidth": 0,
              "ticks": ""
             }
            },
            "type": "scatterpolargl"
           }
          ],
          "scatterternary": [
           {
            "marker": {
             "colorbar": {
              "outlinewidth": 0,
              "ticks": ""
             }
            },
            "type": "scatterternary"
           }
          ],
          "surface": [
           {
            "colorbar": {
             "outlinewidth": 0,
             "ticks": ""
            },
            "colorscale": [
             [
              0,
              "#0d0887"
             ],
             [
              0.1111111111111111,
              "#46039f"
             ],
             [
              0.2222222222222222,
              "#7201a8"
             ],
             [
              0.3333333333333333,
              "#9c179e"
             ],
             [
              0.4444444444444444,
              "#bd3786"
             ],
             [
              0.5555555555555556,
              "#d8576b"
             ],
             [
              0.6666666666666666,
              "#ed7953"
             ],
             [
              0.7777777777777778,
              "#fb9f3a"
             ],
             [
              0.8888888888888888,
              "#fdca26"
             ],
             [
              1,
              "#f0f921"
             ]
            ],
            "type": "surface"
           }
          ],
          "table": [
           {
            "cells": {
             "fill": {
              "color": "#EBF0F8"
             },
             "line": {
              "color": "white"
             }
            },
            "header": {
             "fill": {
              "color": "#C8D4E3"
             },
             "line": {
              "color": "white"
             }
            },
            "type": "table"
           }
          ]
         },
         "layout": {
          "annotationdefaults": {
           "arrowcolor": "#2a3f5f",
           "arrowhead": 0,
           "arrowwidth": 1
          },
          "autotypenumbers": "strict",
          "coloraxis": {
           "colorbar": {
            "outlinewidth": 0,
            "ticks": ""
           }
          },
          "colorscale": {
           "diverging": [
            [
             0,
             "#8e0152"
            ],
            [
             0.1,
             "#c51b7d"
            ],
            [
             0.2,
             "#de77ae"
            ],
            [
             0.3,
             "#f1b6da"
            ],
            [
             0.4,
             "#fde0ef"
            ],
            [
             0.5,
             "#f7f7f7"
            ],
            [
             0.6,
             "#e6f5d0"
            ],
            [
             0.7,
             "#b8e186"
            ],
            [
             0.8,
             "#7fbc41"
            ],
            [
             0.9,
             "#4d9221"
            ],
            [
             1,
             "#276419"
            ]
           ],
           "sequential": [
            [
             0,
             "#0d0887"
            ],
            [
             0.1111111111111111,
             "#46039f"
            ],
            [
             0.2222222222222222,
             "#7201a8"
            ],
            [
             0.3333333333333333,
             "#9c179e"
            ],
            [
             0.4444444444444444,
             "#bd3786"
            ],
            [
             0.5555555555555556,
             "#d8576b"
            ],
            [
             0.6666666666666666,
             "#ed7953"
            ],
            [
             0.7777777777777778,
             "#fb9f3a"
            ],
            [
             0.8888888888888888,
             "#fdca26"
            ],
            [
             1,
             "#f0f921"
            ]
           ],
           "sequentialminus": [
            [
             0,
             "#0d0887"
            ],
            [
             0.1111111111111111,
             "#46039f"
            ],
            [
             0.2222222222222222,
             "#7201a8"
            ],
            [
             0.3333333333333333,
             "#9c179e"
            ],
            [
             0.4444444444444444,
             "#bd3786"
            ],
            [
             0.5555555555555556,
             "#d8576b"
            ],
            [
             0.6666666666666666,
             "#ed7953"
            ],
            [
             0.7777777777777778,
             "#fb9f3a"
            ],
            [
             0.8888888888888888,
             "#fdca26"
            ],
            [
             1,
             "#f0f921"
            ]
           ]
          },
          "colorway": [
           "#636efa",
           "#EF553B",
           "#00cc96",
           "#ab63fa",
           "#FFA15A",
           "#19d3f3",
           "#FF6692",
           "#B6E880",
           "#FF97FF",
           "#FECB52"
          ],
          "font": {
           "color": "#2a3f5f"
          },
          "geo": {
           "bgcolor": "white",
           "lakecolor": "white",
           "landcolor": "#E5ECF6",
           "showlakes": true,
           "showland": true,
           "subunitcolor": "white"
          },
          "hoverlabel": {
           "align": "left"
          },
          "hovermode": "closest",
          "mapbox": {
           "style": "light"
          },
          "paper_bgcolor": "white",
          "plot_bgcolor": "#E5ECF6",
          "polar": {
           "angularaxis": {
            "gridcolor": "white",
            "linecolor": "white",
            "ticks": ""
           },
           "bgcolor": "#E5ECF6",
           "radialaxis": {
            "gridcolor": "white",
            "linecolor": "white",
            "ticks": ""
           }
          },
          "scene": {
           "xaxis": {
            "backgroundcolor": "#E5ECF6",
            "gridcolor": "white",
            "gridwidth": 2,
            "linecolor": "white",
            "showbackground": true,
            "ticks": "",
            "zerolinecolor": "white"
           },
           "yaxis": {
            "backgroundcolor": "#E5ECF6",
            "gridcolor": "white",
            "gridwidth": 2,
            "linecolor": "white",
            "showbackground": true,
            "ticks": "",
            "zerolinecolor": "white"
           },
           "zaxis": {
            "backgroundcolor": "#E5ECF6",
            "gridcolor": "white",
            "gridwidth": 2,
            "linecolor": "white",
            "showbackground": true,
            "ticks": "",
            "zerolinecolor": "white"
           }
          },
          "shapedefaults": {
           "line": {
            "color": "#2a3f5f"
           }
          },
          "ternary": {
           "aaxis": {
            "gridcolor": "white",
            "linecolor": "white",
            "ticks": ""
           },
           "baxis": {
            "gridcolor": "white",
            "linecolor": "white",
            "ticks": ""
           },
           "bgcolor": "#E5ECF6",
           "caxis": {
            "gridcolor": "white",
            "linecolor": "white",
            "ticks": ""
           }
          },
          "title": {
           "x": 0.05
          },
          "xaxis": {
           "automargin": true,
           "gridcolor": "white",
           "linecolor": "white",
           "ticks": "",
           "title": {
            "standoff": 15
           },
           "zerolinecolor": "white",
           "zerolinewidth": 2
          },
          "yaxis": {
           "automargin": true,
           "gridcolor": "white",
           "linecolor": "white",
           "ticks": "",
           "title": {
            "standoff": 15
           },
           "zerolinecolor": "white",
           "zerolinewidth": 2
          }
         }
        },
        "title": {
         "text": "Total of 634 Smart Serve 1st Attempt"
        }
       }
      }
     },
     "metadata": {},
     "output_type": "display_data"
    },
    {
     "data": {
      "text/html": [
       "<div>\n",
       "<style scoped>\n",
       "    .dataframe tbody tr th:only-of-type {\n",
       "        vertical-align: middle;\n",
       "    }\n",
       "\n",
       "    .dataframe tbody tr th {\n",
       "        vertical-align: top;\n",
       "    }\n",
       "\n",
       "    .dataframe thead th {\n",
       "        text-align: right;\n",
       "    }\n",
       "</style>\n",
       "<table border=\"1\" class=\"dataframe\">\n",
       "  <thead>\n",
       "    <tr style=\"text-align: right;\">\n",
       "      <th></th>\n",
       "      <th>Token Status</th>\n",
       "      <th>Course Status</th>\n",
       "      <th>Count</th>\n",
       "      <th>Percentage</th>\n",
       "      <th>Explanation</th>\n",
       "    </tr>\n",
       "  </thead>\n",
       "  <tbody>\n",
       "    <tr>\n",
       "      <th>0</th>\n",
       "      <td>Expired</td>\n",
       "      <td>-</td>\n",
       "      <td>18</td>\n",
       "      <td>2.839117</td>\n",
       "      <td>The token wasn't redeemed and left to expire w...</td>\n",
       "    </tr>\n",
       "    <tr>\n",
       "      <th>1</th>\n",
       "      <td>Redeemed</td>\n",
       "      <td>Completed</td>\n",
       "      <td>363</td>\n",
       "      <td>57.255521</td>\n",
       "      <td>The Student passed</td>\n",
       "    </tr>\n",
       "    <tr>\n",
       "      <th>2</th>\n",
       "      <td>Redeemed</td>\n",
       "      <td>Deactivated</td>\n",
       "      <td>2</td>\n",
       "      <td>0.315457</td>\n",
       "      <td>The transaction was reversed or a refund was p...</td>\n",
       "    </tr>\n",
       "    <tr>\n",
       "      <th>3</th>\n",
       "      <td>Redeemed</td>\n",
       "      <td>Failed</td>\n",
       "      <td>64</td>\n",
       "      <td>10.094637</td>\n",
       "      <td>The student failed</td>\n",
       "    </tr>\n",
       "    <tr>\n",
       "      <th>4</th>\n",
       "      <td>Redeemed</td>\n",
       "      <td>In Progress</td>\n",
       "      <td>162</td>\n",
       "      <td>25.552050</td>\n",
       "      <td>The course was started but not completed</td>\n",
       "    </tr>\n",
       "    <tr>\n",
       "      <th>5</th>\n",
       "      <td>Redeemed</td>\n",
       "      <td>Incomplete</td>\n",
       "      <td>25</td>\n",
       "      <td>3.943218</td>\n",
       "      <td>The student started but did not complete all m...</td>\n",
       "    </tr>\n",
       "  </tbody>\n",
       "</table>\n",
       "</div>"
      ],
      "text/plain": [
       "  Token Status Course Status  Count  Percentage  \\\n",
       "0      Expired             -     18    2.839117   \n",
       "1     Redeemed     Completed    363   57.255521   \n",
       "2     Redeemed   Deactivated      2    0.315457   \n",
       "3     Redeemed        Failed     64   10.094637   \n",
       "4     Redeemed   In Progress    162   25.552050   \n",
       "5     Redeemed    Incomplete     25    3.943218   \n",
       "\n",
       "                                         Explanation  \n",
       "0  The token wasn't redeemed and left to expire w...  \n",
       "1                                 The Student passed  \n",
       "2  The transaction was reversed or a refund was p...  \n",
       "3                                 The student failed  \n",
       "4           The course was started but not completed  \n",
       "5  The student started but did not complete all m...  "
      ]
     },
     "execution_count": 21,
     "metadata": {},
     "output_type": "execute_result"
    }
   ],
   "source": [
    "# ATT 1\n",
    "At1 = df[df['attempts'] == 1]\n",
    "At1 = At1.groupby(['Token Status', 'Course Status']).size().reset_index(name='Count')\n",
    "At1['Percentage'] = (At1['Count'] / At1['Count'].sum()) * 100\n",
    "At1['Explanation'] = At1.apply(lambda row: 'The token wasn\\'t redeemed and left to expire with no claim' if row['Token Status'] == 'Expired' and row['Course Status'] == '-' else\n",
    "                              'The Student passed' if row['Token Status'] == 'Redeemed' and row['Course Status'] == 'Completed' else\n",
    "                              'The transaction was reversed or a refund was provided' if row['Token Status'] == 'Redeemed' and row['Course Status'] == 'Deactivated' else\n",
    "                              'The student failed' if row['Token Status'] == 'Redeemed' and row['Course Status'] == 'Failed' else\n",
    "                              'The course was started but not completed' if row['Token Status'] == 'Redeemed' and row['Course Status'] == 'In Progress' else\n",
    "                              'The student started but did not complete all modules assigned' if row['Token Status'] == 'Redeemed' and row['Course Status'] == 'Incomplete' else None, axis=1)\n",
    "\n",
    "total_count = At1['Count'].sum()\n",
    "total_count\n",
    "import plotly.graph_objects as go\n",
    "\n",
    "fig = go.Figure(data=[go.Pie(labels=At1['Explanation'], values=At1['Count'], pull=[0.0, 0, 0, 0, 0, 0.1])])\n",
    "fig.update_layout(title=f\"Total of {total_count} Smart Serve 1st Attempt\")\n",
    "\n",
    "fig.show()\n",
    "\n",
    "\n",
    "At1\n"
   ]
  },
  {
   "cell_type": "code",
   "execution_count": 26,
   "metadata": {},
   "outputs": [
    {
     "data": {
      "text/html": [
       "<div>\n",
       "<style scoped>\n",
       "    .dataframe tbody tr th:only-of-type {\n",
       "        vertical-align: middle;\n",
       "    }\n",
       "\n",
       "    .dataframe tbody tr th {\n",
       "        vertical-align: top;\n",
       "    }\n",
       "\n",
       "    .dataframe thead th {\n",
       "        text-align: right;\n",
       "    }\n",
       "</style>\n",
       "<table border=\"1\" class=\"dataframe\">\n",
       "  <thead>\n",
       "    <tr style=\"text-align: right;\">\n",
       "      <th></th>\n",
       "      <th>Token Status</th>\n",
       "      <th>Course Status</th>\n",
       "      <th>Count</th>\n",
       "      <th>Percentage</th>\n",
       "    </tr>\n",
       "  </thead>\n",
       "  <tbody>\n",
       "    <tr>\n",
       "      <th>0</th>\n",
       "      <td>Redeemed</td>\n",
       "      <td>Completed</td>\n",
       "      <td>36</td>\n",
       "      <td>30.252101</td>\n",
       "    </tr>\n",
       "    <tr>\n",
       "      <th>1</th>\n",
       "      <td>Redeemed</td>\n",
       "      <td>Failed</td>\n",
       "      <td>83</td>\n",
       "      <td>69.747899</td>\n",
       "    </tr>\n",
       "  </tbody>\n",
       "</table>\n",
       "</div>"
      ],
      "text/plain": [
       "  Token Status Course Status  Count  Percentage\n",
       "0     Redeemed     Completed     36   30.252101\n",
       "1     Redeemed        Failed     83   69.747899"
      ]
     },
     "execution_count": 26,
     "metadata": {},
     "output_type": "execute_result"
    }
   ],
   "source": [
    "# ATT 1\n",
    "At2 = df[df['attempts'] == 2]\n",
    "At2 = At2.groupby(['Token Status', 'Course Status']).size().reset_index(name='Count')\n",
    "At2['Percentage'] = (At2['Count'] / At2['Count'].sum()) * 100\n",
    "\n",
    "At2"
   ]
  },
  {
   "cell_type": "code",
   "execution_count": 36,
   "metadata": {},
   "outputs": [
    {
     "data": {
      "application/vnd.plotly.v1+json": {
       "config": {
        "plotlyServerURL": "https://plot.ly"
       },
       "data": [
        {
         "domain": {
          "x": [
           0,
           1
          ],
          "y": [
           0,
           1
          ]
         },
         "hovertemplate": "Combined Status=%{label}<br>Count=%{value}<extra></extra>",
         "labels": [
          "Available - -",
          "Expired - -",
          "Redeemed - Completed",
          "Redeemed - Deactivated",
          "Redeemed - Failed",
          "Redeemed - In Progress",
          "Redeemed - Incomplete"
         ],
         "legendgroup": "",
         "name": "",
         "showlegend": true,
         "type": "pie",
         "values": [
          2,
          18,
          399,
          2,
          147,
          213,
          25
         ]
        }
       ],
       "layout": {
        "legend": {
         "tracegroupgap": 0
        },
        "template": {
         "data": {
          "bar": [
           {
            "error_x": {
             "color": "#2a3f5f"
            },
            "error_y": {
             "color": "#2a3f5f"
            },
            "marker": {
             "line": {
              "color": "#E5ECF6",
              "width": 0.5
             },
             "pattern": {
              "fillmode": "overlay",
              "size": 10,
              "solidity": 0.2
             }
            },
            "type": "bar"
           }
          ],
          "barpolar": [
           {
            "marker": {
             "line": {
              "color": "#E5ECF6",
              "width": 0.5
             },
             "pattern": {
              "fillmode": "overlay",
              "size": 10,
              "solidity": 0.2
             }
            },
            "type": "barpolar"
           }
          ],
          "carpet": [
           {
            "aaxis": {
             "endlinecolor": "#2a3f5f",
             "gridcolor": "white",
             "linecolor": "white",
             "minorgridcolor": "white",
             "startlinecolor": "#2a3f5f"
            },
            "baxis": {
             "endlinecolor": "#2a3f5f",
             "gridcolor": "white",
             "linecolor": "white",
             "minorgridcolor": "white",
             "startlinecolor": "#2a3f5f"
            },
            "type": "carpet"
           }
          ],
          "choropleth": [
           {
            "colorbar": {
             "outlinewidth": 0,
             "ticks": ""
            },
            "type": "choropleth"
           }
          ],
          "contour": [
           {
            "colorbar": {
             "outlinewidth": 0,
             "ticks": ""
            },
            "colorscale": [
             [
              0,
              "#0d0887"
             ],
             [
              0.1111111111111111,
              "#46039f"
             ],
             [
              0.2222222222222222,
              "#7201a8"
             ],
             [
              0.3333333333333333,
              "#9c179e"
             ],
             [
              0.4444444444444444,
              "#bd3786"
             ],
             [
              0.5555555555555556,
              "#d8576b"
             ],
             [
              0.6666666666666666,
              "#ed7953"
             ],
             [
              0.7777777777777778,
              "#fb9f3a"
             ],
             [
              0.8888888888888888,
              "#fdca26"
             ],
             [
              1,
              "#f0f921"
             ]
            ],
            "type": "contour"
           }
          ],
          "contourcarpet": [
           {
            "colorbar": {
             "outlinewidth": 0,
             "ticks": ""
            },
            "type": "contourcarpet"
           }
          ],
          "heatmap": [
           {
            "colorbar": {
             "outlinewidth": 0,
             "ticks": ""
            },
            "colorscale": [
             [
              0,
              "#0d0887"
             ],
             [
              0.1111111111111111,
              "#46039f"
             ],
             [
              0.2222222222222222,
              "#7201a8"
             ],
             [
              0.3333333333333333,
              "#9c179e"
             ],
             [
              0.4444444444444444,
              "#bd3786"
             ],
             [
              0.5555555555555556,
              "#d8576b"
             ],
             [
              0.6666666666666666,
              "#ed7953"
             ],
             [
              0.7777777777777778,
              "#fb9f3a"
             ],
             [
              0.8888888888888888,
              "#fdca26"
             ],
             [
              1,
              "#f0f921"
             ]
            ],
            "type": "heatmap"
           }
          ],
          "heatmapgl": [
           {
            "colorbar": {
             "outlinewidth": 0,
             "ticks": ""
            },
            "colorscale": [
             [
              0,
              "#0d0887"
             ],
             [
              0.1111111111111111,
              "#46039f"
             ],
             [
              0.2222222222222222,
              "#7201a8"
             ],
             [
              0.3333333333333333,
              "#9c179e"
             ],
             [
              0.4444444444444444,
              "#bd3786"
             ],
             [
              0.5555555555555556,
              "#d8576b"
             ],
             [
              0.6666666666666666,
              "#ed7953"
             ],
             [
              0.7777777777777778,
              "#fb9f3a"
             ],
             [
              0.8888888888888888,
              "#fdca26"
             ],
             [
              1,
              "#f0f921"
             ]
            ],
            "type": "heatmapgl"
           }
          ],
          "histogram": [
           {
            "marker": {
             "pattern": {
              "fillmode": "overlay",
              "size": 10,
              "solidity": 0.2
             }
            },
            "type": "histogram"
           }
          ],
          "histogram2d": [
           {
            "colorbar": {
             "outlinewidth": 0,
             "ticks": ""
            },
            "colorscale": [
             [
              0,
              "#0d0887"
             ],
             [
              0.1111111111111111,
              "#46039f"
             ],
             [
              0.2222222222222222,
              "#7201a8"
             ],
             [
              0.3333333333333333,
              "#9c179e"
             ],
             [
              0.4444444444444444,
              "#bd3786"
             ],
             [
              0.5555555555555556,
              "#d8576b"
             ],
             [
              0.6666666666666666,
              "#ed7953"
             ],
             [
              0.7777777777777778,
              "#fb9f3a"
             ],
             [
              0.8888888888888888,
              "#fdca26"
             ],
             [
              1,
              "#f0f921"
             ]
            ],
            "type": "histogram2d"
           }
          ],
          "histogram2dcontour": [
           {
            "colorbar": {
             "outlinewidth": 0,
             "ticks": ""
            },
            "colorscale": [
             [
              0,
              "#0d0887"
             ],
             [
              0.1111111111111111,
              "#46039f"
             ],
             [
              0.2222222222222222,
              "#7201a8"
             ],
             [
              0.3333333333333333,
              "#9c179e"
             ],
             [
              0.4444444444444444,
              "#bd3786"
             ],
             [
              0.5555555555555556,
              "#d8576b"
             ],
             [
              0.6666666666666666,
              "#ed7953"
             ],
             [
              0.7777777777777778,
              "#fb9f3a"
             ],
             [
              0.8888888888888888,
              "#fdca26"
             ],
             [
              1,
              "#f0f921"
             ]
            ],
            "type": "histogram2dcontour"
           }
          ],
          "mesh3d": [
           {
            "colorbar": {
             "outlinewidth": 0,
             "ticks": ""
            },
            "type": "mesh3d"
           }
          ],
          "parcoords": [
           {
            "line": {
             "colorbar": {
              "outlinewidth": 0,
              "ticks": ""
             }
            },
            "type": "parcoords"
           }
          ],
          "pie": [
           {
            "automargin": true,
            "type": "pie"
           }
          ],
          "scatter": [
           {
            "fillpattern": {
             "fillmode": "overlay",
             "size": 10,
             "solidity": 0.2
            },
            "type": "scatter"
           }
          ],
          "scatter3d": [
           {
            "line": {
             "colorbar": {
              "outlinewidth": 0,
              "ticks": ""
             }
            },
            "marker": {
             "colorbar": {
              "outlinewidth": 0,
              "ticks": ""
             }
            },
            "type": "scatter3d"
           }
          ],
          "scattercarpet": [
           {
            "marker": {
             "colorbar": {
              "outlinewidth": 0,
              "ticks": ""
             }
            },
            "type": "scattercarpet"
           }
          ],
          "scattergeo": [
           {
            "marker": {
             "colorbar": {
              "outlinewidth": 0,
              "ticks": ""
             }
            },
            "type": "scattergeo"
           }
          ],
          "scattergl": [
           {
            "marker": {
             "colorbar": {
              "outlinewidth": 0,
              "ticks": ""
             }
            },
            "type": "scattergl"
           }
          ],
          "scattermapbox": [
           {
            "marker": {
             "colorbar": {
              "outlinewidth": 0,
              "ticks": ""
             }
            },
            "type": "scattermapbox"
           }
          ],
          "scatterpolar": [
           {
            "marker": {
             "colorbar": {
              "outlinewidth": 0,
              "ticks": ""
             }
            },
            "type": "scatterpolar"
           }
          ],
          "scatterpolargl": [
           {
            "marker": {
             "colorbar": {
              "outlinewidth": 0,
              "ticks": ""
             }
            },
            "type": "scatterpolargl"
           }
          ],
          "scatterternary": [
           {
            "marker": {
             "colorbar": {
              "outlinewidth": 0,
              "ticks": ""
             }
            },
            "type": "scatterternary"
           }
          ],
          "surface": [
           {
            "colorbar": {
             "outlinewidth": 0,
             "ticks": ""
            },
            "colorscale": [
             [
              0,
              "#0d0887"
             ],
             [
              0.1111111111111111,
              "#46039f"
             ],
             [
              0.2222222222222222,
              "#7201a8"
             ],
             [
              0.3333333333333333,
              "#9c179e"
             ],
             [
              0.4444444444444444,
              "#bd3786"
             ],
             [
              0.5555555555555556,
              "#d8576b"
             ],
             [
              0.6666666666666666,
              "#ed7953"
             ],
             [
              0.7777777777777778,
              "#fb9f3a"
             ],
             [
              0.8888888888888888,
              "#fdca26"
             ],
             [
              1,
              "#f0f921"
             ]
            ],
            "type": "surface"
           }
          ],
          "table": [
           {
            "cells": {
             "fill": {
              "color": "#EBF0F8"
             },
             "line": {
              "color": "white"
             }
            },
            "header": {
             "fill": {
              "color": "#C8D4E3"
             },
             "line": {
              "color": "white"
             }
            },
            "type": "table"
           }
          ]
         },
         "layout": {
          "annotationdefaults": {
           "arrowcolor": "#2a3f5f",
           "arrowhead": 0,
           "arrowwidth": 1
          },
          "autotypenumbers": "strict",
          "coloraxis": {
           "colorbar": {
            "outlinewidth": 0,
            "ticks": ""
           }
          },
          "colorscale": {
           "diverging": [
            [
             0,
             "#8e0152"
            ],
            [
             0.1,
             "#c51b7d"
            ],
            [
             0.2,
             "#de77ae"
            ],
            [
             0.3,
             "#f1b6da"
            ],
            [
             0.4,
             "#fde0ef"
            ],
            [
             0.5,
             "#f7f7f7"
            ],
            [
             0.6,
             "#e6f5d0"
            ],
            [
             0.7,
             "#b8e186"
            ],
            [
             0.8,
             "#7fbc41"
            ],
            [
             0.9,
             "#4d9221"
            ],
            [
             1,
             "#276419"
            ]
           ],
           "sequential": [
            [
             0,
             "#0d0887"
            ],
            [
             0.1111111111111111,
             "#46039f"
            ],
            [
             0.2222222222222222,
             "#7201a8"
            ],
            [
             0.3333333333333333,
             "#9c179e"
            ],
            [
             0.4444444444444444,
             "#bd3786"
            ],
            [
             0.5555555555555556,
             "#d8576b"
            ],
            [
             0.6666666666666666,
             "#ed7953"
            ],
            [
             0.7777777777777778,
             "#fb9f3a"
            ],
            [
             0.8888888888888888,
             "#fdca26"
            ],
            [
             1,
             "#f0f921"
            ]
           ],
           "sequentialminus": [
            [
             0,
             "#0d0887"
            ],
            [
             0.1111111111111111,
             "#46039f"
            ],
            [
             0.2222222222222222,
             "#7201a8"
            ],
            [
             0.3333333333333333,
             "#9c179e"
            ],
            [
             0.4444444444444444,
             "#bd3786"
            ],
            [
             0.5555555555555556,
             "#d8576b"
            ],
            [
             0.6666666666666666,
             "#ed7953"
            ],
            [
             0.7777777777777778,
             "#fb9f3a"
            ],
            [
             0.8888888888888888,
             "#fdca26"
            ],
            [
             1,
             "#f0f921"
            ]
           ]
          },
          "colorway": [
           "#636efa",
           "#EF553B",
           "#00cc96",
           "#ab63fa",
           "#FFA15A",
           "#19d3f3",
           "#FF6692",
           "#B6E880",
           "#FF97FF",
           "#FECB52"
          ],
          "font": {
           "color": "#2a3f5f"
          },
          "geo": {
           "bgcolor": "white",
           "lakecolor": "white",
           "landcolor": "#E5ECF6",
           "showlakes": true,
           "showland": true,
           "subunitcolor": "white"
          },
          "hoverlabel": {
           "align": "left"
          },
          "hovermode": "closest",
          "mapbox": {
           "style": "light"
          },
          "paper_bgcolor": "white",
          "plot_bgcolor": "#E5ECF6",
          "polar": {
           "angularaxis": {
            "gridcolor": "white",
            "linecolor": "white",
            "ticks": ""
           },
           "bgcolor": "#E5ECF6",
           "radialaxis": {
            "gridcolor": "white",
            "linecolor": "white",
            "ticks": ""
           }
          },
          "scene": {
           "xaxis": {
            "backgroundcolor": "#E5ECF6",
            "gridcolor": "white",
            "gridwidth": 2,
            "linecolor": "white",
            "showbackground": true,
            "ticks": "",
            "zerolinecolor": "white"
           },
           "yaxis": {
            "backgroundcolor": "#E5ECF6",
            "gridcolor": "white",
            "gridwidth": 2,
            "linecolor": "white",
            "showbackground": true,
            "ticks": "",
            "zerolinecolor": "white"
           },
           "zaxis": {
            "backgroundcolor": "#E5ECF6",
            "gridcolor": "white",
            "gridwidth": 2,
            "linecolor": "white",
            "showbackground": true,
            "ticks": "",
            "zerolinecolor": "white"
           }
          },
          "shapedefaults": {
           "line": {
            "color": "#2a3f5f"
           }
          },
          "ternary": {
           "aaxis": {
            "gridcolor": "white",
            "linecolor": "white",
            "ticks": ""
           },
           "baxis": {
            "gridcolor": "white",
            "linecolor": "white",
            "ticks": ""
           },
           "bgcolor": "#E5ECF6",
           "caxis": {
            "gridcolor": "white",
            "linecolor": "white",
            "ticks": ""
           }
          },
          "title": {
           "x": 0.05
          },
          "xaxis": {
           "automargin": true,
           "gridcolor": "white",
           "linecolor": "white",
           "ticks": "",
           "title": {
            "standoff": 15
           },
           "zerolinecolor": "white",
           "zerolinewidth": 2
          },
          "yaxis": {
           "automargin": true,
           "gridcolor": "white",
           "linecolor": "white",
           "ticks": "",
           "title": {
            "standoff": 15
           },
           "zerolinecolor": "white",
           "zerolinewidth": 2
          }
         }
        },
        "title": {
         "text": "Combined Status Distribution"
        }
       }
      }
     },
     "metadata": {},
     "output_type": "display_data"
    },
    {
     "data": {
      "text/html": [
       "<div>\n",
       "<style scoped>\n",
       "    .dataframe tbody tr th:only-of-type {\n",
       "        vertical-align: middle;\n",
       "    }\n",
       "\n",
       "    .dataframe tbody tr th {\n",
       "        vertical-align: top;\n",
       "    }\n",
       "\n",
       "    .dataframe thead th {\n",
       "        text-align: right;\n",
       "    }\n",
       "</style>\n",
       "<table border=\"1\" class=\"dataframe\">\n",
       "  <thead>\n",
       "    <tr style=\"text-align: right;\">\n",
       "      <th></th>\n",
       "      <th>Token Status</th>\n",
       "      <th>Course Status</th>\n",
       "      <th>Count</th>\n",
       "      <th>Combined Status</th>\n",
       "      <th>Percentage</th>\n",
       "    </tr>\n",
       "  </thead>\n",
       "  <tbody>\n",
       "    <tr>\n",
       "      <th>0</th>\n",
       "      <td>Available</td>\n",
       "      <td>-</td>\n",
       "      <td>2</td>\n",
       "      <td>Available - -</td>\n",
       "      <td>0.248139</td>\n",
       "    </tr>\n",
       "    <tr>\n",
       "      <th>1</th>\n",
       "      <td>Expired</td>\n",
       "      <td>-</td>\n",
       "      <td>18</td>\n",
       "      <td>Expired - -</td>\n",
       "      <td>2.233251</td>\n",
       "    </tr>\n",
       "    <tr>\n",
       "      <th>2</th>\n",
       "      <td>Redeemed</td>\n",
       "      <td>Completed</td>\n",
       "      <td>399</td>\n",
       "      <td>Redeemed - Completed</td>\n",
       "      <td>49.503722</td>\n",
       "    </tr>\n",
       "    <tr>\n",
       "      <th>3</th>\n",
       "      <td>Redeemed</td>\n",
       "      <td>Deactivated</td>\n",
       "      <td>2</td>\n",
       "      <td>Redeemed - Deactivated</td>\n",
       "      <td>0.248139</td>\n",
       "    </tr>\n",
       "    <tr>\n",
       "      <th>4</th>\n",
       "      <td>Redeemed</td>\n",
       "      <td>Failed</td>\n",
       "      <td>147</td>\n",
       "      <td>Redeemed - Failed</td>\n",
       "      <td>18.238213</td>\n",
       "    </tr>\n",
       "    <tr>\n",
       "      <th>5</th>\n",
       "      <td>Redeemed</td>\n",
       "      <td>In Progress</td>\n",
       "      <td>213</td>\n",
       "      <td>Redeemed - In Progress</td>\n",
       "      <td>26.426799</td>\n",
       "    </tr>\n",
       "    <tr>\n",
       "      <th>6</th>\n",
       "      <td>Redeemed</td>\n",
       "      <td>Incomplete</td>\n",
       "      <td>25</td>\n",
       "      <td>Redeemed - Incomplete</td>\n",
       "      <td>3.101737</td>\n",
       "    </tr>\n",
       "  </tbody>\n",
       "</table>\n",
       "</div>"
      ],
      "text/plain": [
       "  Token Status Course Status  Count         Combined Status  Percentage\n",
       "0    Available             -      2           Available - -    0.248139\n",
       "1      Expired             -     18             Expired - -    2.233251\n",
       "2     Redeemed     Completed    399    Redeemed - Completed   49.503722\n",
       "3     Redeemed   Deactivated      2  Redeemed - Deactivated    0.248139\n",
       "4     Redeemed        Failed    147       Redeemed - Failed   18.238213\n",
       "5     Redeemed   In Progress    213  Redeemed - In Progress   26.426799\n",
       "6     Redeemed    Incomplete     25   Redeemed - Incomplete    3.101737"
      ]
     },
     "execution_count": 36,
     "metadata": {},
     "output_type": "execute_result"
    }
   ],
   "source": [
    "# Total Attempts 1 and 2\n",
    "grouped_df = df.groupby(['Token Status', 'Course Status']).size().reset_index(name='Count')\n",
    "grouped_df['Combined Status'] = grouped_df['Token Status'] + ' - ' + grouped_df['Course Status']\n",
    "grouped_df['Percentage'] = (grouped_df['Count'] / grouped_df['Count'].sum()) * 100\n",
    "import plotly.express as px\n",
    "\n",
    "fig = px.pie(grouped_df, values='Count', names='Combined Status', title='Combined Status Distribution')\n",
    "fig.show()\n",
    "\n",
    "grouped_df\n"
   ]
  }
 ],
 "metadata": {
  "kernelspec": {
   "display_name": "python_data",
   "language": "python",
   "name": "python3"
  },
  "language_info": {
   "codemirror_mode": {
    "name": "ipython",
    "version": 3
   },
   "file_extension": ".py",
   "mimetype": "text/x-python",
   "name": "python",
   "nbconvert_exporter": "python",
   "pygments_lexer": "ipython3",
   "version": "3.11.7"
  }
 },
 "nbformat": 4,
 "nbformat_minor": 2
}
