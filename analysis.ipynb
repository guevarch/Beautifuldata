{
 "cells": [
  {
   "cell_type": "code",
   "execution_count": 1,
   "metadata": {},
   "outputs": [
    {
     "data": {
      "text/html": [
       "<div>\n",
       "<style scoped>\n",
       "    .dataframe tbody tr th:only-of-type {\n",
       "        vertical-align: middle;\n",
       "    }\n",
       "\n",
       "    .dataframe tbody tr th {\n",
       "        vertical-align: top;\n",
       "    }\n",
       "\n",
       "    .dataframe thead th {\n",
       "        text-align: right;\n",
       "    }\n",
       "</style>\n",
       "<table border=\"1\" class=\"dataframe\">\n",
       "  <thead>\n",
       "    <tr style=\"text-align: right;\">\n",
       "      <th></th>\n",
       "      <th>Token</th>\n",
       "      <th>Course Name</th>\n",
       "      <th>Token Status</th>\n",
       "      <th>Token Expiry Date</th>\n",
       "      <th>Redeemer Name</th>\n",
       "      <th>Redeemer Email</th>\n",
       "      <th>Course Status</th>\n",
       "      <th>Start Date</th>\n",
       "    </tr>\n",
       "  </thead>\n",
       "  <tbody>\n",
       "    <tr>\n",
       "      <th>0</th>\n",
       "      <td>Z3CW2C</td>\n",
       "      <td>Smart Serve Online Training Program 08152022</td>\n",
       "      <td>Redeemed</td>\n",
       "      <td>2024-04-18</td>\n",
       "      <td>Deepthi Parambol</td>\n",
       "      <td>deepthi.nambiar92@gmail.com</td>\n",
       "      <td>Completed</td>\n",
       "      <td>2024-03-20</td>\n",
       "    </tr>\n",
       "    <tr>\n",
       "      <th>1</th>\n",
       "      <td>RPCW2C</td>\n",
       "      <td>Smart Serve Online Training Program 08152022</td>\n",
       "      <td>Redeemed</td>\n",
       "      <td>2024-04-18</td>\n",
       "      <td>Abednego Akwasi Asante Asiedu</td>\n",
       "      <td>asante.asiedu25@gmail.com</td>\n",
       "      <td>In Progress</td>\n",
       "      <td>-</td>\n",
       "    </tr>\n",
       "    <tr>\n",
       "      <th>2</th>\n",
       "      <td>KTEW2C</td>\n",
       "      <td>Smart Serve Online Training Program 08152022</td>\n",
       "      <td>Redeemed</td>\n",
       "      <td>2024-04-18</td>\n",
       "      <td>Mary Jaiyeola</td>\n",
       "      <td>toftehworld@gmail.com</td>\n",
       "      <td>In Progress</td>\n",
       "      <td>-</td>\n",
       "    </tr>\n",
       "    <tr>\n",
       "      <th>3</th>\n",
       "      <td>75ZW2C</td>\n",
       "      <td>Smart Serve Online Training Program 08152022</td>\n",
       "      <td>Redeemed</td>\n",
       "      <td>2024-04-18</td>\n",
       "      <td>Milkah Wakuhi</td>\n",
       "      <td>wakuhimilkah1999@gmail.com</td>\n",
       "      <td>In Progress</td>\n",
       "      <td>-</td>\n",
       "    </tr>\n",
       "    <tr>\n",
       "      <th>4</th>\n",
       "      <td>XEZW2C</td>\n",
       "      <td>Smart Serve Online Training Program 08152022</td>\n",
       "      <td>Redeemed</td>\n",
       "      <td>2024-04-18</td>\n",
       "      <td>John Baptist Matovu</td>\n",
       "      <td>johnkenedym@gmail.com</td>\n",
       "      <td>In Progress</td>\n",
       "      <td>-</td>\n",
       "    </tr>\n",
       "    <tr>\n",
       "      <th>...</th>\n",
       "      <td>...</td>\n",
       "      <td>...</td>\n",
       "      <td>...</td>\n",
       "      <td>...</td>\n",
       "      <td>...</td>\n",
       "      <td>...</td>\n",
       "      <td>...</td>\n",
       "      <td>...</td>\n",
       "    </tr>\n",
       "    <tr>\n",
       "      <th>801</th>\n",
       "      <td>KCQWF</td>\n",
       "      <td>Smart Serve Online Training Program</td>\n",
       "      <td>Redeemed</td>\n",
       "      <td>2021-11-24</td>\n",
       "      <td>Adaeze Emmanuel</td>\n",
       "      <td>preciousemmanuel147@gmail.com</td>\n",
       "      <td>Completed</td>\n",
       "      <td>2021-12-05</td>\n",
       "    </tr>\n",
       "    <tr>\n",
       "      <th>802</th>\n",
       "      <td>7FSWF</td>\n",
       "      <td>Smart Serve Online Training Program</td>\n",
       "      <td>Redeemed</td>\n",
       "      <td>2021-11-24</td>\n",
       "      <td>Nishu Rani Garg</td>\n",
       "      <td>neesha.garg06@gmail.com</td>\n",
       "      <td>Failed</td>\n",
       "      <td>2021-11-10</td>\n",
       "    </tr>\n",
       "    <tr>\n",
       "      <th>803</th>\n",
       "      <td>X4NWF</td>\n",
       "      <td>Smart Serve Online Training Program</td>\n",
       "      <td>Redeemed</td>\n",
       "      <td>2021-11-24</td>\n",
       "      <td>Chelsea Hill McGrowder</td>\n",
       "      <td>mcgrowder8@gmail.com</td>\n",
       "      <td>Failed</td>\n",
       "      <td>2021-11-30</td>\n",
       "    </tr>\n",
       "    <tr>\n",
       "      <th>804</th>\n",
       "      <td>J7YWF</td>\n",
       "      <td>Smart Serve Online Training Program</td>\n",
       "      <td>Expired</td>\n",
       "      <td>2021-11-24</td>\n",
       "      <td>-</td>\n",
       "      <td>-</td>\n",
       "      <td>-</td>\n",
       "      <td>-</td>\n",
       "    </tr>\n",
       "    <tr>\n",
       "      <th>805</th>\n",
       "      <td>QDYWF</td>\n",
       "      <td>Smart Serve Online Training Program</td>\n",
       "      <td>Redeemed</td>\n",
       "      <td>2021-11-24</td>\n",
       "      <td>Mona EL-Khodr</td>\n",
       "      <td>monakhodr@yahoo.com</td>\n",
       "      <td>Completed</td>\n",
       "      <td>2021-10-26</td>\n",
       "    </tr>\n",
       "  </tbody>\n",
       "</table>\n",
       "<p>806 rows × 8 columns</p>\n",
       "</div>"
      ],
      "text/plain": [
       "      Token                                   Course Name Token Status  \\\n",
       "0    Z3CW2C  Smart Serve Online Training Program 08152022     Redeemed   \n",
       "1    RPCW2C  Smart Serve Online Training Program 08152022     Redeemed   \n",
       "2    KTEW2C  Smart Serve Online Training Program 08152022     Redeemed   \n",
       "3    75ZW2C  Smart Serve Online Training Program 08152022     Redeemed   \n",
       "4    XEZW2C  Smart Serve Online Training Program 08152022     Redeemed   \n",
       "..      ...                                           ...          ...   \n",
       "801   KCQWF           Smart Serve Online Training Program     Redeemed   \n",
       "802   7FSWF           Smart Serve Online Training Program     Redeemed   \n",
       "803   X4NWF           Smart Serve Online Training Program     Redeemed   \n",
       "804   J7YWF           Smart Serve Online Training Program      Expired   \n",
       "805   QDYWF           Smart Serve Online Training Program     Redeemed   \n",
       "\n",
       "    Token Expiry Date                  Redeemer Name  \\\n",
       "0          2024-04-18               Deepthi Parambol   \n",
       "1          2024-04-18  Abednego Akwasi Asante Asiedu   \n",
       "2          2024-04-18                  Mary Jaiyeola   \n",
       "3          2024-04-18                  Milkah Wakuhi   \n",
       "4          2024-04-18            John Baptist Matovu   \n",
       "..                ...                            ...   \n",
       "801        2021-11-24                Adaeze Emmanuel   \n",
       "802        2021-11-24                Nishu Rani Garg   \n",
       "803        2021-11-24         Chelsea Hill McGrowder   \n",
       "804        2021-11-24                              -   \n",
       "805        2021-11-24                  Mona EL-Khodr   \n",
       "\n",
       "                    Redeemer Email Course Status  Start Date  \n",
       "0      deepthi.nambiar92@gmail.com     Completed  2024-03-20  \n",
       "1        asante.asiedu25@gmail.com   In Progress           -  \n",
       "2            toftehworld@gmail.com   In Progress           -  \n",
       "3       wakuhimilkah1999@gmail.com   In Progress           -  \n",
       "4            johnkenedym@gmail.com   In Progress           -  \n",
       "..                             ...           ...         ...  \n",
       "801  preciousemmanuel147@gmail.com     Completed  2021-12-05  \n",
       "802        neesha.garg06@gmail.com        Failed  2021-11-10  \n",
       "803           mcgrowder8@gmail.com        Failed  2021-11-30  \n",
       "804                              -             -           -  \n",
       "805            monakhodr@yahoo.com     Completed  2021-10-26  \n",
       "\n",
       "[806 rows x 8 columns]"
      ]
     },
     "execution_count": 1,
     "metadata": {},
     "output_type": "execute_result"
    }
   ],
   "source": [
    "import pandas as pd\n",
    "\n",
    "df = pd.read_csv('Resources/tokenreport.csv')\n",
    "df"
   ]
  },
  {
   "cell_type": "code",
   "execution_count": 2,
   "metadata": {},
   "outputs": [
    {
     "data": {
      "text/html": [
       "<div>\n",
       "<style scoped>\n",
       "    .dataframe tbody tr th:only-of-type {\n",
       "        vertical-align: middle;\n",
       "    }\n",
       "\n",
       "    .dataframe tbody tr th {\n",
       "        vertical-align: top;\n",
       "    }\n",
       "\n",
       "    .dataframe thead th {\n",
       "        text-align: right;\n",
       "    }\n",
       "</style>\n",
       "<table border=\"1\" class=\"dataframe\">\n",
       "  <thead>\n",
       "    <tr style=\"text-align: right;\">\n",
       "      <th></th>\n",
       "      <th>Token</th>\n",
       "      <th>Course Name</th>\n",
       "      <th>Token Status</th>\n",
       "      <th>Token Expiry Date</th>\n",
       "      <th>Redeemer Name</th>\n",
       "      <th>Redeemer Email</th>\n",
       "      <th>Course Status</th>\n",
       "      <th>Start Date</th>\n",
       "    </tr>\n",
       "  </thead>\n",
       "  <tbody>\n",
       "    <tr>\n",
       "      <th>0</th>\n",
       "      <td>Z3CW2C</td>\n",
       "      <td>Smart Serve Online Training Program 08152022</td>\n",
       "      <td>Redeemed</td>\n",
       "      <td>2024-04-18</td>\n",
       "      <td>Deepthi Parambol</td>\n",
       "      <td>deepthi.nambiar92@gmail.com</td>\n",
       "      <td>Completed</td>\n",
       "      <td>2024-03-20</td>\n",
       "    </tr>\n",
       "    <tr>\n",
       "      <th>1</th>\n",
       "      <td>RPCW2C</td>\n",
       "      <td>Smart Serve Online Training Program 08152022</td>\n",
       "      <td>Redeemed</td>\n",
       "      <td>2024-04-18</td>\n",
       "      <td>Abednego Akwasi Asante Asiedu</td>\n",
       "      <td>asante.asiedu25@gmail.com</td>\n",
       "      <td>In Progress</td>\n",
       "      <td>-</td>\n",
       "    </tr>\n",
       "    <tr>\n",
       "      <th>2</th>\n",
       "      <td>KTEW2C</td>\n",
       "      <td>Smart Serve Online Training Program 08152022</td>\n",
       "      <td>Redeemed</td>\n",
       "      <td>2024-04-18</td>\n",
       "      <td>Mary Jaiyeola</td>\n",
       "      <td>toftehworld@gmail.com</td>\n",
       "      <td>In Progress</td>\n",
       "      <td>-</td>\n",
       "    </tr>\n",
       "    <tr>\n",
       "      <th>3</th>\n",
       "      <td>75ZW2C</td>\n",
       "      <td>Smart Serve Online Training Program 08152022</td>\n",
       "      <td>Redeemed</td>\n",
       "      <td>2024-04-18</td>\n",
       "      <td>Milkah Wakuhi</td>\n",
       "      <td>wakuhimilkah1999@gmail.com</td>\n",
       "      <td>In Progress</td>\n",
       "      <td>-</td>\n",
       "    </tr>\n",
       "    <tr>\n",
       "      <th>4</th>\n",
       "      <td>XEZW2C</td>\n",
       "      <td>Smart Serve Online Training Program 08152022</td>\n",
       "      <td>Redeemed</td>\n",
       "      <td>2024-04-18</td>\n",
       "      <td>John Baptist Matovu</td>\n",
       "      <td>johnkenedym@gmail.com</td>\n",
       "      <td>In Progress</td>\n",
       "      <td>-</td>\n",
       "    </tr>\n",
       "  </tbody>\n",
       "</table>\n",
       "</div>"
      ],
      "text/plain": [
       "    Token                                   Course Name Token Status  \\\n",
       "0  Z3CW2C  Smart Serve Online Training Program 08152022     Redeemed   \n",
       "1  RPCW2C  Smart Serve Online Training Program 08152022     Redeemed   \n",
       "2  KTEW2C  Smart Serve Online Training Program 08152022     Redeemed   \n",
       "3  75ZW2C  Smart Serve Online Training Program 08152022     Redeemed   \n",
       "4  XEZW2C  Smart Serve Online Training Program 08152022     Redeemed   \n",
       "\n",
       "  Token Expiry Date                  Redeemer Name  \\\n",
       "0        2024-04-18               Deepthi Parambol   \n",
       "1        2024-04-18  Abednego Akwasi Asante Asiedu   \n",
       "2        2024-04-18                  Mary Jaiyeola   \n",
       "3        2024-04-18                  Milkah Wakuhi   \n",
       "4        2024-04-18            John Baptist Matovu   \n",
       "\n",
       "                Redeemer Email Course Status  Start Date  \n",
       "0  deepthi.nambiar92@gmail.com     Completed  2024-03-20  \n",
       "1    asante.asiedu25@gmail.com   In Progress           -  \n",
       "2        toftehworld@gmail.com   In Progress           -  \n",
       "3   wakuhimilkah1999@gmail.com   In Progress           -  \n",
       "4        johnkenedym@gmail.com   In Progress           -  "
      ]
     },
     "execution_count": 2,
     "metadata": {},
     "output_type": "execute_result"
    }
   ],
   "source": [
    "df['Token Expiry Date'] = pd.to_datetime(df['Token Expiry Date'])\n",
    "df['Token Expiry Date'] = pd.to_datetime(df['Token Expiry Date'])\n",
    "start_date = pd.to_datetime('2021-01-01')\n",
    "end_date = pd.to_datetime('2024-05-25')\n",
    "\n",
    "df = df[df['Token Expiry Date'].between(start_date, end_date)]\n",
    "df.head(5)"
   ]
  },
  {
   "cell_type": "code",
   "execution_count": 3,
   "metadata": {},
   "outputs": [
    {
     "data": {
      "text/html": [
       "<div>\n",
       "<style scoped>\n",
       "    .dataframe tbody tr th:only-of-type {\n",
       "        vertical-align: middle;\n",
       "    }\n",
       "\n",
       "    .dataframe tbody tr th {\n",
       "        vertical-align: top;\n",
       "    }\n",
       "\n",
       "    .dataframe thead th {\n",
       "        text-align: right;\n",
       "    }\n",
       "</style>\n",
       "<table border=\"1\" class=\"dataframe\">\n",
       "  <thead>\n",
       "    <tr style=\"text-align: right;\">\n",
       "      <th></th>\n",
       "      <th>Token</th>\n",
       "      <th>Course Name</th>\n",
       "      <th>Token Status</th>\n",
       "      <th>Token Expiry Date</th>\n",
       "      <th>Redeemer Name</th>\n",
       "      <th>Redeemer Email</th>\n",
       "      <th>Course Status</th>\n",
       "      <th>Start Date</th>\n",
       "    </tr>\n",
       "  </thead>\n",
       "  <tbody>\n",
       "    <tr>\n",
       "      <th>97</th>\n",
       "      <td>Y44QHC</td>\n",
       "      <td>Smart Serve Online Training Program 08152022</td>\n",
       "      <td>Redeemed</td>\n",
       "      <td>2024-03-21</td>\n",
       "      <td>Fehim Buyukgural</td>\n",
       "      <td>fehimbuyukgural@yahoo.com</td>\n",
       "      <td>Failed</td>\n",
       "      <td>2024-03-20</td>\n",
       "    </tr>\n",
       "  </tbody>\n",
       "</table>\n",
       "</div>"
      ],
      "text/plain": [
       "     Token                                   Course Name Token Status  \\\n",
       "97  Y44QHC  Smart Serve Online Training Program 08152022     Redeemed   \n",
       "\n",
       "   Token Expiry Date     Redeemer Name             Redeemer Email  \\\n",
       "97        2024-03-21  Fehim Buyukgural  fehimbuyukgural@yahoo.com   \n",
       "\n",
       "   Course Status  Start Date  \n",
       "97        Failed  2024-03-20  "
      ]
     },
     "execution_count": 3,
     "metadata": {},
     "output_type": "execute_result"
    }
   ],
   "source": [
    "fehim_buyukgural_df = df[df['Redeemer Name'] == 'Fehim Buyukgural']\n",
    "fehim_buyukgural_df\n"
   ]
  },
  {
   "cell_type": "code",
   "execution_count": 4,
   "metadata": {},
   "outputs": [
    {
     "data": {
      "text/html": [
       "<div>\n",
       "<style scoped>\n",
       "    .dataframe tbody tr th:only-of-type {\n",
       "        vertical-align: middle;\n",
       "    }\n",
       "\n",
       "    .dataframe tbody tr th {\n",
       "        vertical-align: top;\n",
       "    }\n",
       "\n",
       "    .dataframe thead th {\n",
       "        text-align: right;\n",
       "    }\n",
       "</style>\n",
       "<table border=\"1\" class=\"dataframe\">\n",
       "  <thead>\n",
       "    <tr style=\"text-align: right;\">\n",
       "      <th></th>\n",
       "      <th>Token</th>\n",
       "      <th>Course Name</th>\n",
       "      <th>Token Status</th>\n",
       "      <th>Token Expiry Date</th>\n",
       "      <th>Redeemer Name</th>\n",
       "      <th>Redeemer Email</th>\n",
       "      <th>Course Status</th>\n",
       "      <th>Start Date</th>\n",
       "    </tr>\n",
       "  </thead>\n",
       "  <tbody>\n",
       "    <tr>\n",
       "      <th>302</th>\n",
       "      <td>CRMXDC</td>\n",
       "      <td>Smart Serve Online Training Program 08152022</td>\n",
       "      <td>Redeemed</td>\n",
       "      <td>2023-10-19</td>\n",
       "      <td>Liam Edmonds</td>\n",
       "      <td>liam.edmonds.7@gmail.com</td>\n",
       "      <td>Failed</td>\n",
       "      <td>2023-09-29</td>\n",
       "    </tr>\n",
       "  </tbody>\n",
       "</table>\n",
       "</div>"
      ],
      "text/plain": [
       "      Token                                   Course Name Token Status  \\\n",
       "302  CRMXDC  Smart Serve Online Training Program 08152022     Redeemed   \n",
       "\n",
       "    Token Expiry Date Redeemer Name            Redeemer Email Course Status  \\\n",
       "302        2023-10-19  Liam Edmonds  liam.edmonds.7@gmail.com        Failed   \n",
       "\n",
       "     Start Date  \n",
       "302  2023-09-29  "
      ]
     },
     "execution_count": 4,
     "metadata": {},
     "output_type": "execute_result"
    }
   ],
   "source": [
    "Liam_Edmonds = df[df['Redeemer Name'] == 'Liam Edmonds']\n",
    "Liam_Edmonds"
   ]
  },
  {
   "cell_type": "code",
   "execution_count": 5,
   "metadata": {},
   "outputs": [],
   "source": [
    "# Work with Duplicates\n",
    "df['attempts'] = None\n",
    "df['Token Expiry Date'] = pd.to_datetime(df['Token Expiry Date'], errors='coerce')\n",
    "df['attempts'] = df.groupby('Redeemer Name')['Token Expiry Date'].rank(ascending=True).apply(lambda x: 1 if x == 1 else 2)\n",
    "df['attempts'] = df.apply(lambda row: 1 if row['Token Status'] == 'Expired' else row['attempts'], axis=1)\n"
   ]
  },
  {
   "cell_type": "code",
   "execution_count": 6,
   "metadata": {},
   "outputs": [
    {
     "data": {
      "text/html": [
       "<div>\n",
       "<style scoped>\n",
       "    .dataframe tbody tr th:only-of-type {\n",
       "        vertical-align: middle;\n",
       "    }\n",
       "\n",
       "    .dataframe tbody tr th {\n",
       "        vertical-align: top;\n",
       "    }\n",
       "\n",
       "    .dataframe thead th {\n",
       "        text-align: right;\n",
       "    }\n",
       "</style>\n",
       "<table border=\"1\" class=\"dataframe\">\n",
       "  <thead>\n",
       "    <tr style=\"text-align: right;\">\n",
       "      <th></th>\n",
       "      <th>Token</th>\n",
       "      <th>Course Name</th>\n",
       "      <th>Token Status</th>\n",
       "      <th>Token Expiry Date</th>\n",
       "      <th>Redeemer Name</th>\n",
       "      <th>Redeemer Email</th>\n",
       "      <th>Course Status</th>\n",
       "      <th>Start Date</th>\n",
       "      <th>attempts</th>\n",
       "    </tr>\n",
       "  </thead>\n",
       "  <tbody>\n",
       "    <tr>\n",
       "      <th>465</th>\n",
       "      <td>MRQ4SE</td>\n",
       "      <td>Smart Serve Online Training Program 08152022</td>\n",
       "      <td>Redeemed</td>\n",
       "      <td>2023-06-18</td>\n",
       "      <td>szonja cseresznyes</td>\n",
       "      <td>lovecanada6271@gmail.com</td>\n",
       "      <td>Failed</td>\n",
       "      <td>2023-05-23</td>\n",
       "      <td>1</td>\n",
       "    </tr>\n",
       "    <tr>\n",
       "      <th>454</th>\n",
       "      <td>7TTWQE</td>\n",
       "      <td>Smart Serve Online Training Program 08152022</td>\n",
       "      <td>Redeemed</td>\n",
       "      <td>2023-06-25</td>\n",
       "      <td>szonja cseresznyes</td>\n",
       "      <td>lovecanada6271@gmail.com</td>\n",
       "      <td>Failed</td>\n",
       "      <td>2023-06-12</td>\n",
       "      <td>2</td>\n",
       "    </tr>\n",
       "    <tr>\n",
       "      <th>715</th>\n",
       "      <td>9E5JV</td>\n",
       "      <td>Smart Serve Final Test</td>\n",
       "      <td>Redeemed</td>\n",
       "      <td>2022-07-07</td>\n",
       "      <td>shechem bourne</td>\n",
       "      <td>shechembourne3@gmail.com</td>\n",
       "      <td>Failed</td>\n",
       "      <td>2022-07-06</td>\n",
       "      <td>2</td>\n",
       "    </tr>\n",
       "    <tr>\n",
       "      <th>721</th>\n",
       "      <td>TDAX3</td>\n",
       "      <td>Smart Serve Online Training Program</td>\n",
       "      <td>Redeemed</td>\n",
       "      <td>2022-06-25</td>\n",
       "      <td>shechem bourne</td>\n",
       "      <td>shechembourne3@gmail.com</td>\n",
       "      <td>Failed</td>\n",
       "      <td>2022-06-02</td>\n",
       "      <td>1</td>\n",
       "    </tr>\n",
       "    <tr>\n",
       "      <th>522</th>\n",
       "      <td>GSARKE</td>\n",
       "      <td>Smart Serve Online Training Program 08152022</td>\n",
       "      <td>Redeemed</td>\n",
       "      <td>2023-04-23</td>\n",
       "      <td>marvelous Godstime</td>\n",
       "      <td>marvelousgodstime123@gmail.com</td>\n",
       "      <td>Completed</td>\n",
       "      <td>2023-03-27</td>\n",
       "      <td>2</td>\n",
       "    </tr>\n",
       "    <tr>\n",
       "      <th>524</th>\n",
       "      <td>NWBY2E</td>\n",
       "      <td>Smart Serve Online Training Program 08152022</td>\n",
       "      <td>Redeemed</td>\n",
       "      <td>2023-04-15</td>\n",
       "      <td>marvelous Godstime</td>\n",
       "      <td>marvelousgodstime123@gmail.com</td>\n",
       "      <td>Failed</td>\n",
       "      <td>2023-03-24</td>\n",
       "      <td>1</td>\n",
       "    </tr>\n",
       "    <tr>\n",
       "      <th>791</th>\n",
       "      <td>HD8GF</td>\n",
       "      <td>Smart Serve Online Training Program</td>\n",
       "      <td>Redeemed</td>\n",
       "      <td>2021-11-24</td>\n",
       "      <td>joan Hamilton</td>\n",
       "      <td>jamaican252010@gmail.com</td>\n",
       "      <td>Failed</td>\n",
       "      <td>2021-10-28</td>\n",
       "      <td>1</td>\n",
       "    </tr>\n",
       "    <tr>\n",
       "      <th>787</th>\n",
       "      <td>PXJHW</td>\n",
       "      <td>Smart Serve Online Training Program</td>\n",
       "      <td>Redeemed</td>\n",
       "      <td>2021-11-27</td>\n",
       "      <td>joan Hamilton</td>\n",
       "      <td>jamaican252010@gmail.com</td>\n",
       "      <td>Failed</td>\n",
       "      <td>2021-11-09</td>\n",
       "      <td>2</td>\n",
       "    </tr>\n",
       "    <tr>\n",
       "      <th>377</th>\n",
       "      <td>VXNBCC</td>\n",
       "      <td>Smart Serve Online Training Program 08152022</td>\n",
       "      <td>Redeemed</td>\n",
       "      <td>2023-08-26</td>\n",
       "      <td>jeremy glenn</td>\n",
       "      <td>glennjeremy254@gmail.com</td>\n",
       "      <td>Failed</td>\n",
       "      <td>2023-08-07</td>\n",
       "      <td>1</td>\n",
       "    </tr>\n",
       "    <tr>\n",
       "      <th>357</th>\n",
       "      <td>YMVMCC</td>\n",
       "      <td>Smart Serve Online Training Program 08152022</td>\n",
       "      <td>Redeemed</td>\n",
       "      <td>2023-09-08</td>\n",
       "      <td>jeremy glenn</td>\n",
       "      <td>glennjeremy254@gmail.com</td>\n",
       "      <td>Completed</td>\n",
       "      <td>2023-09-06</td>\n",
       "      <td>2</td>\n",
       "    </tr>\n",
       "    <tr>\n",
       "      <th>536</th>\n",
       "      <td>P48NHE</td>\n",
       "      <td>Smart Serve Online Training Program 08152022</td>\n",
       "      <td>Redeemed</td>\n",
       "      <td>2023-03-18</td>\n",
       "      <td>graciela leon</td>\n",
       "      <td>gracielaleonm@yahoo.com</td>\n",
       "      <td>Failed</td>\n",
       "      <td>2023-03-17</td>\n",
       "      <td>1</td>\n",
       "    </tr>\n",
       "    <tr>\n",
       "      <th>523</th>\n",
       "      <td>58ARKE</td>\n",
       "      <td>Smart Serve Online Training Program 08152022</td>\n",
       "      <td>Redeemed</td>\n",
       "      <td>2023-04-23</td>\n",
       "      <td>graciela leon</td>\n",
       "      <td>gracielaleonm@yahoo.com</td>\n",
       "      <td>Completed</td>\n",
       "      <td>2023-04-22</td>\n",
       "      <td>2</td>\n",
       "    </tr>\n",
       "    <tr>\n",
       "      <th>693</th>\n",
       "      <td>PJYEEE</td>\n",
       "      <td>Smart Serve Online Training Program</td>\n",
       "      <td>Redeemed</td>\n",
       "      <td>2022-08-10</td>\n",
       "      <td>William Burton</td>\n",
       "      <td>william@hospitalitytrainingcentre.com</td>\n",
       "      <td>Completed</td>\n",
       "      <td>2022-08-08</td>\n",
       "      <td>2</td>\n",
       "    </tr>\n",
       "    <tr>\n",
       "      <th>703</th>\n",
       "      <td>GSXAZE</td>\n",
       "      <td>Smart Serve Online Training Program</td>\n",
       "      <td>Redeemed</td>\n",
       "      <td>2022-07-23</td>\n",
       "      <td>William Burton</td>\n",
       "      <td>william@hospitalitytrainingcentre.com</td>\n",
       "      <td>In Progress</td>\n",
       "      <td>-</td>\n",
       "      <td>1</td>\n",
       "    </tr>\n",
       "    <tr>\n",
       "      <th>631</th>\n",
       "      <td>8EAGXE</td>\n",
       "      <td>Smart Serve Final Test 08152022</td>\n",
       "      <td>Redeemed</td>\n",
       "      <td>2022-11-04</td>\n",
       "      <td>Trinity McDonald</td>\n",
       "      <td>trinitymcdonald8@gmail.com</td>\n",
       "      <td>In Progress</td>\n",
       "      <td>-</td>\n",
       "      <td>2</td>\n",
       "    </tr>\n",
       "    <tr>\n",
       "      <th>637</th>\n",
       "      <td>QV5TDE</td>\n",
       "      <td>Smart Serve Online Training Program 08152022</td>\n",
       "      <td>Redeemed</td>\n",
       "      <td>2022-10-26</td>\n",
       "      <td>Trinity McDonald</td>\n",
       "      <td>trinitymcdonald8@gmail.com</td>\n",
       "      <td>Failed</td>\n",
       "      <td>2022-09-27</td>\n",
       "      <td>1</td>\n",
       "    </tr>\n",
       "    <tr>\n",
       "      <th>237</th>\n",
       "      <td>XDGFRC</td>\n",
       "      <td>Smart Serve Online Training Program 08152022</td>\n",
       "      <td>Redeemed</td>\n",
       "      <td>2023-11-22</td>\n",
       "      <td>Titilayo Apo</td>\n",
       "      <td>titilayo.apata2@gmail.com</td>\n",
       "      <td>In Progress</td>\n",
       "      <td>-</td>\n",
       "      <td>2</td>\n",
       "    </tr>\n",
       "    <tr>\n",
       "      <th>308</th>\n",
       "      <td>ARB8DC</td>\n",
       "      <td>Smart Serve Online Training Program 08152022</td>\n",
       "      <td>Redeemed</td>\n",
       "      <td>2023-10-18</td>\n",
       "      <td>Titilayo Apo</td>\n",
       "      <td>titilayo.apata2@gmail.com</td>\n",
       "      <td>Failed</td>\n",
       "      <td>2023-10-17</td>\n",
       "      <td>1</td>\n",
       "    </tr>\n",
       "    <tr>\n",
       "      <th>444</th>\n",
       "      <td>Y3J73E</td>\n",
       "      <td>Smart Serve Online Training Program 08152022</td>\n",
       "      <td>Redeemed</td>\n",
       "      <td>2023-07-09</td>\n",
       "      <td>Teresa Cristina Mafra de Oliveira</td>\n",
       "      <td>tcmafra@gmail.com</td>\n",
       "      <td>Completed</td>\n",
       "      <td>2023-07-09</td>\n",
       "      <td>2</td>\n",
       "    </tr>\n",
       "    <tr>\n",
       "      <th>476</th>\n",
       "      <td>HS45YE</td>\n",
       "      <td>Smart Serve Online Training Program 08152022</td>\n",
       "      <td>Redeemed</td>\n",
       "      <td>2023-06-04</td>\n",
       "      <td>Teresa Cristina Mafra de Oliveira</td>\n",
       "      <td>tcmafra@gmail.com</td>\n",
       "      <td>In Progress</td>\n",
       "      <td>-</td>\n",
       "      <td>1</td>\n",
       "    </tr>\n",
       "    <tr>\n",
       "      <th>296</th>\n",
       "      <td>D2SXDC</td>\n",
       "      <td>Smart Serve Online Training Program 08152022</td>\n",
       "      <td>Redeemed</td>\n",
       "      <td>2023-10-19</td>\n",
       "      <td>Tanjam Bin Islam</td>\n",
       "      <td>islamtanjam33@gmail.com</td>\n",
       "      <td>In Progress</td>\n",
       "      <td>-</td>\n",
       "      <td>1</td>\n",
       "    </tr>\n",
       "    <tr>\n",
       "      <th>90</th>\n",
       "      <td>24SQHC</td>\n",
       "      <td>Smart Serve Online Training Program 08152022</td>\n",
       "      <td>Redeemed</td>\n",
       "      <td>2024-03-21</td>\n",
       "      <td>Tanjam Bin Islam</td>\n",
       "      <td>islamtanjam33@gmail.com</td>\n",
       "      <td>In Progress</td>\n",
       "      <td>-</td>\n",
       "      <td>2</td>\n",
       "    </tr>\n",
       "    <tr>\n",
       "      <th>169</th>\n",
       "      <td>4DXKFC</td>\n",
       "      <td>Smart Serve Online Training Program 08152022</td>\n",
       "      <td>Redeemed</td>\n",
       "      <td>2023-12-10</td>\n",
       "      <td>Sylvern Bynoe</td>\n",
       "      <td>shabbawilliams91@gmail.com</td>\n",
       "      <td>Failed</td>\n",
       "      <td>2023-12-07</td>\n",
       "      <td>1</td>\n",
       "    </tr>\n",
       "    <tr>\n",
       "      <th>152</th>\n",
       "      <td>W3YDWC</td>\n",
       "      <td>Smart Serve Online Training Program 08152022</td>\n",
       "      <td>Redeemed</td>\n",
       "      <td>2023-12-23</td>\n",
       "      <td>Sylvern Bynoe</td>\n",
       "      <td>shabbawilliams91@gmail.com</td>\n",
       "      <td>Completed</td>\n",
       "      <td>2023-12-17</td>\n",
       "      <td>2</td>\n",
       "    </tr>\n",
       "    <tr>\n",
       "      <th>463</th>\n",
       "      <td>CY34SE</td>\n",
       "      <td>Smart Serve Online Training Program 08152022</td>\n",
       "      <td>Redeemed</td>\n",
       "      <td>2023-06-18</td>\n",
       "      <td>Sthefanye Suarez</td>\n",
       "      <td>sth.suarez@gmail.com</td>\n",
       "      <td>Failed</td>\n",
       "      <td>2023-05-23</td>\n",
       "      <td>1</td>\n",
       "    </tr>\n",
       "    <tr>\n",
       "      <th>453</th>\n",
       "      <td>KPAWQE</td>\n",
       "      <td>Smart Serve Online Training Program 08152022</td>\n",
       "      <td>Redeemed</td>\n",
       "      <td>2023-06-25</td>\n",
       "      <td>Sthefanye Suarez</td>\n",
       "      <td>sth.suarez@gmail.com</td>\n",
       "      <td>Completed</td>\n",
       "      <td>2023-05-26</td>\n",
       "      <td>2</td>\n",
       "    </tr>\n",
       "    <tr>\n",
       "      <th>720</th>\n",
       "      <td>B7AX3</td>\n",
       "      <td>Smart Serve Online Training Program</td>\n",
       "      <td>Redeemed</td>\n",
       "      <td>2022-06-25</td>\n",
       "      <td>Sole Cole</td>\n",
       "      <td>ssbebe.cole@gmail.com</td>\n",
       "      <td>Failed</td>\n",
       "      <td>2022-06-18</td>\n",
       "      <td>1</td>\n",
       "    </tr>\n",
       "    <tr>\n",
       "      <th>695</th>\n",
       "      <td>7HTAZE</td>\n",
       "      <td>Smart Serve Final Test</td>\n",
       "      <td>Redeemed</td>\n",
       "      <td>2022-07-23</td>\n",
       "      <td>Sole Cole</td>\n",
       "      <td>ssbebe.cole@gmail.com</td>\n",
       "      <td>Completed</td>\n",
       "      <td>2022-06-28</td>\n",
       "      <td>2</td>\n",
       "    </tr>\n",
       "    <tr>\n",
       "      <th>171</th>\n",
       "      <td>PQ9JFC</td>\n",
       "      <td>Smart Serve Online Training Program 08152022</td>\n",
       "      <td>Redeemed</td>\n",
       "      <td>2023-12-09</td>\n",
       "      <td>Simiat Ajayi</td>\n",
       "      <td>simiatajayi2019@gmail.com</td>\n",
       "      <td>Completed</td>\n",
       "      <td>2023-11-23</td>\n",
       "      <td>2</td>\n",
       "    </tr>\n",
       "    <tr>\n",
       "      <th>238</th>\n",
       "      <td>JAWFRC</td>\n",
       "      <td>Smart Serve Online Training Program 08152022</td>\n",
       "      <td>Redeemed</td>\n",
       "      <td>2023-11-22</td>\n",
       "      <td>Simiat Ajayi</td>\n",
       "      <td>simiatajayi2019@gmail.com</td>\n",
       "      <td>Failed</td>\n",
       "      <td>2023-11-05</td>\n",
       "      <td>1</td>\n",
       "    </tr>\n",
       "    <tr>\n",
       "      <th>780</th>\n",
       "      <td>NPMGA</td>\n",
       "      <td>Smart Serve Online Training Program</td>\n",
       "      <td>Redeemed</td>\n",
       "      <td>2021-12-16</td>\n",
       "      <td>Sheferna Simmons</td>\n",
       "      <td>ssheferna57@yahoo.com</td>\n",
       "      <td>Completed</td>\n",
       "      <td>2021-11-25</td>\n",
       "      <td>2</td>\n",
       "    </tr>\n",
       "    <tr>\n",
       "      <th>775</th>\n",
       "      <td>XYNGA</td>\n",
       "      <td>Smart Serve Online Training Program</td>\n",
       "      <td>Redeemed</td>\n",
       "      <td>2021-12-16</td>\n",
       "      <td>Sheferna Simmons</td>\n",
       "      <td>ssheferna57@yahoo.com</td>\n",
       "      <td>Failed</td>\n",
       "      <td>2021-11-18</td>\n",
       "      <td>2</td>\n",
       "    </tr>\n",
       "    <tr>\n",
       "      <th>515</th>\n",
       "      <td>V7YE4E</td>\n",
       "      <td>Smart Serve Online Training Program 08152022</td>\n",
       "      <td>Redeemed</td>\n",
       "      <td>2023-05-04</td>\n",
       "      <td>Sharif Bhuiyan</td>\n",
       "      <td>1sharif.bhuiyan@gmail.com</td>\n",
       "      <td>Failed</td>\n",
       "      <td>2023-04-14</td>\n",
       "      <td>1</td>\n",
       "    </tr>\n",
       "    <tr>\n",
       "      <th>499</th>\n",
       "      <td>8V5PME</td>\n",
       "      <td>Smart Serve Online Training Program 08152022</td>\n",
       "      <td>Redeemed</td>\n",
       "      <td>2023-05-20</td>\n",
       "      <td>Sharif Bhuiyan</td>\n",
       "      <td>1sharif.bhuiyan@gmail.com</td>\n",
       "      <td>Failed</td>\n",
       "      <td>2023-05-17</td>\n",
       "      <td>2</td>\n",
       "    </tr>\n",
       "    <tr>\n",
       "      <th>398</th>\n",
       "      <td>7RZXEC</td>\n",
       "      <td>Smart Serve Online Training Program 08152022</td>\n",
       "      <td>Redeemed</td>\n",
       "      <td>2023-08-09</td>\n",
       "      <td>Shama Perween</td>\n",
       "      <td>shamaehjaz@gmail.com</td>\n",
       "      <td>Completed</td>\n",
       "      <td>2023-07-13</td>\n",
       "      <td>2</td>\n",
       "    </tr>\n",
       "    <tr>\n",
       "      <th>402</th>\n",
       "      <td>82V8EC</td>\n",
       "      <td>Smart Serve Online Training Program 08152022</td>\n",
       "      <td>Redeemed</td>\n",
       "      <td>2023-08-06</td>\n",
       "      <td>Shama Perween</td>\n",
       "      <td>shamaehjaz@gmail.com</td>\n",
       "      <td>Failed</td>\n",
       "      <td>2023-07-09</td>\n",
       "      <td>1</td>\n",
       "    </tr>\n",
       "    <tr>\n",
       "      <th>163</th>\n",
       "      <td>NAWKFC</td>\n",
       "      <td>Smart Serve Online Training Program 08152022</td>\n",
       "      <td>Redeemed</td>\n",
       "      <td>2023-12-10</td>\n",
       "      <td>Shallon Kyokunda</td>\n",
       "      <td>shallonkyokunda2@gmail.com</td>\n",
       "      <td>Failed</td>\n",
       "      <td>2023-11-17</td>\n",
       "      <td>1</td>\n",
       "    </tr>\n",
       "    <tr>\n",
       "      <th>155</th>\n",
       "      <td>JHPPWC</td>\n",
       "      <td>Smart Serve Online Training Program 08152022</td>\n",
       "      <td>Redeemed</td>\n",
       "      <td>2023-12-22</td>\n",
       "      <td>Shallon Kyokunda</td>\n",
       "      <td>shallonkyokunda2@gmail.com</td>\n",
       "      <td>Completed</td>\n",
       "      <td>2023-11-27</td>\n",
       "      <td>2</td>\n",
       "    </tr>\n",
       "    <tr>\n",
       "      <th>456</th>\n",
       "      <td>HKZWQE</td>\n",
       "      <td>Smart Serve Online Training Program 08152022</td>\n",
       "      <td>Redeemed</td>\n",
       "      <td>2023-06-25</td>\n",
       "      <td>Samuel Musa</td>\n",
       "      <td>sammusa676@gmail.com</td>\n",
       "      <td>Failed</td>\n",
       "      <td>2023-05-27</td>\n",
       "      <td>1</td>\n",
       "    </tr>\n",
       "    <tr>\n",
       "      <th>442</th>\n",
       "      <td>EVST7E</td>\n",
       "      <td>Smart Serve Online Training Program 08152022</td>\n",
       "      <td>Redeemed</td>\n",
       "      <td>2023-07-14</td>\n",
       "      <td>Samuel Musa</td>\n",
       "      <td>sammusa676@gmail.com</td>\n",
       "      <td>Completed</td>\n",
       "      <td>2023-06-16</td>\n",
       "      <td>2</td>\n",
       "    </tr>\n",
       "    <tr>\n",
       "      <th>452</th>\n",
       "      <td>Z2NMQE</td>\n",
       "      <td>Smart Serve Online Training Program 08152022</td>\n",
       "      <td>Redeemed</td>\n",
       "      <td>2023-06-28</td>\n",
       "      <td>Samuel Musa</td>\n",
       "      <td>sammusa676@gmail.com</td>\n",
       "      <td>Failed</td>\n",
       "      <td>2023-06-09</td>\n",
       "      <td>2</td>\n",
       "    </tr>\n",
       "    <tr>\n",
       "      <th>462</th>\n",
       "      <td>MXGRQE</td>\n",
       "      <td>Smart Serve Online Training Program 08152022</td>\n",
       "      <td>Redeemed</td>\n",
       "      <td>2023-06-24</td>\n",
       "      <td>Samantha Adjei</td>\n",
       "      <td>smileeybeefly@gmail.com</td>\n",
       "      <td>Failed</td>\n",
       "      <td>2023-06-16</td>\n",
       "      <td>1</td>\n",
       "    </tr>\n",
       "    <tr>\n",
       "      <th>439</th>\n",
       "      <td>XDYFVE</td>\n",
       "      <td>Smart Serve Online Training Program 08152022</td>\n",
       "      <td>Redeemed</td>\n",
       "      <td>2023-07-20</td>\n",
       "      <td>Samantha Adjei</td>\n",
       "      <td>smileeybeefly@gmail.com</td>\n",
       "      <td>Completed</td>\n",
       "      <td>2023-06-26</td>\n",
       "      <td>2</td>\n",
       "    </tr>\n",
       "    <tr>\n",
       "      <th>390</th>\n",
       "      <td>9EWXEC</td>\n",
       "      <td>Smart Serve Online Training Program 08152022</td>\n",
       "      <td>Redeemed</td>\n",
       "      <td>2023-08-09</td>\n",
       "      <td>Saleha Kamal</td>\n",
       "      <td>saleha1.kamal1@gmail.com</td>\n",
       "      <td>Failed</td>\n",
       "      <td>2023-07-12</td>\n",
       "      <td>1</td>\n",
       "    </tr>\n",
       "    <tr>\n",
       "      <th>384</th>\n",
       "      <td>J8WTEC</td>\n",
       "      <td>Smart Serve Online Training Program 08152022</td>\n",
       "      <td>Redeemed</td>\n",
       "      <td>2023-08-11</td>\n",
       "      <td>Saleha Kamal</td>\n",
       "      <td>saleha1.kamal1@gmail.com</td>\n",
       "      <td>Completed</td>\n",
       "      <td>2023-07-12</td>\n",
       "      <td>2</td>\n",
       "    </tr>\n",
       "    <tr>\n",
       "      <th>380</th>\n",
       "      <td>385BCC</td>\n",
       "      <td>Smart Serve Online Training Program 08152022</td>\n",
       "      <td>Redeemed</td>\n",
       "      <td>2023-08-26</td>\n",
       "      <td>Rose Mukah</td>\n",
       "      <td>leahmukah@gmail.com</td>\n",
       "      <td>Failed</td>\n",
       "      <td>2023-08-07</td>\n",
       "      <td>1</td>\n",
       "    </tr>\n",
       "    <tr>\n",
       "      <th>344</th>\n",
       "      <td>G357CC</td>\n",
       "      <td>Smart Serve Online Training Program 08152022</td>\n",
       "      <td>Redeemed</td>\n",
       "      <td>2023-09-10</td>\n",
       "      <td>Rose Mukah</td>\n",
       "      <td>leahmukah@gmail.com</td>\n",
       "      <td>In Progress</td>\n",
       "      <td>2023-08-16</td>\n",
       "      <td>2</td>\n",
       "    </tr>\n",
       "    <tr>\n",
       "      <th>595</th>\n",
       "      <td>DFPV9E</td>\n",
       "      <td>Smart Serve Online Training Program 08152022</td>\n",
       "      <td>Redeemed</td>\n",
       "      <td>2022-11-27</td>\n",
       "      <td>Romeo Viray</td>\n",
       "      <td>romeoviray0929@gmail.com</td>\n",
       "      <td>Failed</td>\n",
       "      <td>2022-10-31</td>\n",
       "      <td>1</td>\n",
       "    </tr>\n",
       "    <tr>\n",
       "      <th>560</th>\n",
       "      <td>XWSKRE</td>\n",
       "      <td>Smart Serve Online Training Program 08152022</td>\n",
       "      <td>Redeemed</td>\n",
       "      <td>2022-12-14</td>\n",
       "      <td>Romeo Viray</td>\n",
       "      <td>romeoviray0929@gmail.com</td>\n",
       "      <td>Failed</td>\n",
       "      <td>2022-12-12</td>\n",
       "      <td>2</td>\n",
       "    </tr>\n",
       "    <tr>\n",
       "      <th>105</th>\n",
       "      <td>XCFKHC</td>\n",
       "      <td>Smart Serve Online Training Program 08152022</td>\n",
       "      <td>Redeemed</td>\n",
       "      <td>2024-03-13</td>\n",
       "      <td>RUTH FRIDAY</td>\n",
       "      <td>fridayruth664@gmail.com</td>\n",
       "      <td>Failed</td>\n",
       "      <td>2024-02-23</td>\n",
       "      <td>1</td>\n",
       "    </tr>\n",
       "    <tr>\n",
       "      <th>60</th>\n",
       "      <td>C3PHJC</td>\n",
       "      <td>Smart Serve Online Training Program 08152022</td>\n",
       "      <td>Redeemed</td>\n",
       "      <td>2024-04-05</td>\n",
       "      <td>RUTH FRIDAY</td>\n",
       "      <td>fridayruth664@gmail.com</td>\n",
       "      <td>In Progress</td>\n",
       "      <td>-</td>\n",
       "      <td>2</td>\n",
       "    </tr>\n",
       "  </tbody>\n",
       "</table>\n",
       "</div>"
      ],
      "text/plain": [
       "      Token                                   Course Name Token Status  \\\n",
       "465  MRQ4SE  Smart Serve Online Training Program 08152022     Redeemed   \n",
       "454  7TTWQE  Smart Serve Online Training Program 08152022     Redeemed   \n",
       "715   9E5JV                        Smart Serve Final Test     Redeemed   \n",
       "721   TDAX3           Smart Serve Online Training Program     Redeemed   \n",
       "522  GSARKE  Smart Serve Online Training Program 08152022     Redeemed   \n",
       "524  NWBY2E  Smart Serve Online Training Program 08152022     Redeemed   \n",
       "791   HD8GF           Smart Serve Online Training Program     Redeemed   \n",
       "787   PXJHW           Smart Serve Online Training Program     Redeemed   \n",
       "377  VXNBCC  Smart Serve Online Training Program 08152022     Redeemed   \n",
       "357  YMVMCC  Smart Serve Online Training Program 08152022     Redeemed   \n",
       "536  P48NHE  Smart Serve Online Training Program 08152022     Redeemed   \n",
       "523  58ARKE  Smart Serve Online Training Program 08152022     Redeemed   \n",
       "693  PJYEEE           Smart Serve Online Training Program     Redeemed   \n",
       "703  GSXAZE           Smart Serve Online Training Program     Redeemed   \n",
       "631  8EAGXE               Smart Serve Final Test 08152022     Redeemed   \n",
       "637  QV5TDE  Smart Serve Online Training Program 08152022     Redeemed   \n",
       "237  XDGFRC  Smart Serve Online Training Program 08152022     Redeemed   \n",
       "308  ARB8DC  Smart Serve Online Training Program 08152022     Redeemed   \n",
       "444  Y3J73E  Smart Serve Online Training Program 08152022     Redeemed   \n",
       "476  HS45YE  Smart Serve Online Training Program 08152022     Redeemed   \n",
       "296  D2SXDC  Smart Serve Online Training Program 08152022     Redeemed   \n",
       "90   24SQHC  Smart Serve Online Training Program 08152022     Redeemed   \n",
       "169  4DXKFC  Smart Serve Online Training Program 08152022     Redeemed   \n",
       "152  W3YDWC  Smart Serve Online Training Program 08152022     Redeemed   \n",
       "463  CY34SE  Smart Serve Online Training Program 08152022     Redeemed   \n",
       "453  KPAWQE  Smart Serve Online Training Program 08152022     Redeemed   \n",
       "720   B7AX3           Smart Serve Online Training Program     Redeemed   \n",
       "695  7HTAZE                        Smart Serve Final Test     Redeemed   \n",
       "171  PQ9JFC  Smart Serve Online Training Program 08152022     Redeemed   \n",
       "238  JAWFRC  Smart Serve Online Training Program 08152022     Redeemed   \n",
       "780   NPMGA           Smart Serve Online Training Program     Redeemed   \n",
       "775   XYNGA           Smart Serve Online Training Program     Redeemed   \n",
       "515  V7YE4E  Smart Serve Online Training Program 08152022     Redeemed   \n",
       "499  8V5PME  Smart Serve Online Training Program 08152022     Redeemed   \n",
       "398  7RZXEC  Smart Serve Online Training Program 08152022     Redeemed   \n",
       "402  82V8EC  Smart Serve Online Training Program 08152022     Redeemed   \n",
       "163  NAWKFC  Smart Serve Online Training Program 08152022     Redeemed   \n",
       "155  JHPPWC  Smart Serve Online Training Program 08152022     Redeemed   \n",
       "456  HKZWQE  Smart Serve Online Training Program 08152022     Redeemed   \n",
       "442  EVST7E  Smart Serve Online Training Program 08152022     Redeemed   \n",
       "452  Z2NMQE  Smart Serve Online Training Program 08152022     Redeemed   \n",
       "462  MXGRQE  Smart Serve Online Training Program 08152022     Redeemed   \n",
       "439  XDYFVE  Smart Serve Online Training Program 08152022     Redeemed   \n",
       "390  9EWXEC  Smart Serve Online Training Program 08152022     Redeemed   \n",
       "384  J8WTEC  Smart Serve Online Training Program 08152022     Redeemed   \n",
       "380  385BCC  Smart Serve Online Training Program 08152022     Redeemed   \n",
       "344  G357CC  Smart Serve Online Training Program 08152022     Redeemed   \n",
       "595  DFPV9E  Smart Serve Online Training Program 08152022     Redeemed   \n",
       "560  XWSKRE  Smart Serve Online Training Program 08152022     Redeemed   \n",
       "105  XCFKHC  Smart Serve Online Training Program 08152022     Redeemed   \n",
       "60   C3PHJC  Smart Serve Online Training Program 08152022     Redeemed   \n",
       "\n",
       "    Token Expiry Date                      Redeemer Name  \\\n",
       "465        2023-06-18                 szonja cseresznyes   \n",
       "454        2023-06-25                 szonja cseresznyes   \n",
       "715        2022-07-07                     shechem bourne   \n",
       "721        2022-06-25                     shechem bourne   \n",
       "522        2023-04-23                 marvelous Godstime   \n",
       "524        2023-04-15                 marvelous Godstime   \n",
       "791        2021-11-24                      joan Hamilton   \n",
       "787        2021-11-27                      joan Hamilton   \n",
       "377        2023-08-26                       jeremy glenn   \n",
       "357        2023-09-08                       jeremy glenn   \n",
       "536        2023-03-18                      graciela leon   \n",
       "523        2023-04-23                      graciela leon   \n",
       "693        2022-08-10                     William Burton   \n",
       "703        2022-07-23                     William Burton   \n",
       "631        2022-11-04                   Trinity McDonald   \n",
       "637        2022-10-26                   Trinity McDonald   \n",
       "237        2023-11-22                       Titilayo Apo   \n",
       "308        2023-10-18                       Titilayo Apo   \n",
       "444        2023-07-09  Teresa Cristina Mafra de Oliveira   \n",
       "476        2023-06-04  Teresa Cristina Mafra de Oliveira   \n",
       "296        2023-10-19                   Tanjam Bin Islam   \n",
       "90         2024-03-21                   Tanjam Bin Islam   \n",
       "169        2023-12-10                      Sylvern Bynoe   \n",
       "152        2023-12-23                      Sylvern Bynoe   \n",
       "463        2023-06-18                   Sthefanye Suarez   \n",
       "453        2023-06-25                   Sthefanye Suarez   \n",
       "720        2022-06-25                          Sole Cole   \n",
       "695        2022-07-23                          Sole Cole   \n",
       "171        2023-12-09                       Simiat Ajayi   \n",
       "238        2023-11-22                       Simiat Ajayi   \n",
       "780        2021-12-16                   Sheferna Simmons   \n",
       "775        2021-12-16                   Sheferna Simmons   \n",
       "515        2023-05-04                     Sharif Bhuiyan   \n",
       "499        2023-05-20                     Sharif Bhuiyan   \n",
       "398        2023-08-09                      Shama Perween   \n",
       "402        2023-08-06                      Shama Perween   \n",
       "163        2023-12-10                   Shallon Kyokunda   \n",
       "155        2023-12-22                   Shallon Kyokunda   \n",
       "456        2023-06-25                        Samuel Musa   \n",
       "442        2023-07-14                        Samuel Musa   \n",
       "452        2023-06-28                        Samuel Musa   \n",
       "462        2023-06-24                     Samantha Adjei   \n",
       "439        2023-07-20                     Samantha Adjei   \n",
       "390        2023-08-09                       Saleha Kamal   \n",
       "384        2023-08-11                       Saleha Kamal   \n",
       "380        2023-08-26                         Rose Mukah   \n",
       "344        2023-09-10                         Rose Mukah   \n",
       "595        2022-11-27                        Romeo Viray   \n",
       "560        2022-12-14                        Romeo Viray   \n",
       "105        2024-03-13                        RUTH FRIDAY   \n",
       "60         2024-04-05                        RUTH FRIDAY   \n",
       "\n",
       "                            Redeemer Email Course Status  Start Date  attempts  \n",
       "465               lovecanada6271@gmail.com        Failed  2023-05-23         1  \n",
       "454               lovecanada6271@gmail.com        Failed  2023-06-12         2  \n",
       "715               shechembourne3@gmail.com        Failed  2022-07-06         2  \n",
       "721               shechembourne3@gmail.com        Failed  2022-06-02         1  \n",
       "522         marvelousgodstime123@gmail.com     Completed  2023-03-27         2  \n",
       "524         marvelousgodstime123@gmail.com        Failed  2023-03-24         1  \n",
       "791               jamaican252010@gmail.com        Failed  2021-10-28         1  \n",
       "787               jamaican252010@gmail.com        Failed  2021-11-09         2  \n",
       "377               glennjeremy254@gmail.com        Failed  2023-08-07         1  \n",
       "357               glennjeremy254@gmail.com     Completed  2023-09-06         2  \n",
       "536                gracielaleonm@yahoo.com        Failed  2023-03-17         1  \n",
       "523                gracielaleonm@yahoo.com     Completed  2023-04-22         2  \n",
       "693  william@hospitalitytrainingcentre.com     Completed  2022-08-08         2  \n",
       "703  william@hospitalitytrainingcentre.com   In Progress           -         1  \n",
       "631             trinitymcdonald8@gmail.com   In Progress           -         2  \n",
       "637             trinitymcdonald8@gmail.com        Failed  2022-09-27         1  \n",
       "237              titilayo.apata2@gmail.com   In Progress           -         2  \n",
       "308              titilayo.apata2@gmail.com        Failed  2023-10-17         1  \n",
       "444                      tcmafra@gmail.com     Completed  2023-07-09         2  \n",
       "476                      tcmafra@gmail.com   In Progress           -         1  \n",
       "296                islamtanjam33@gmail.com   In Progress           -         1  \n",
       "90                 islamtanjam33@gmail.com   In Progress           -         2  \n",
       "169             shabbawilliams91@gmail.com        Failed  2023-12-07         1  \n",
       "152             shabbawilliams91@gmail.com     Completed  2023-12-17         2  \n",
       "463                   sth.suarez@gmail.com        Failed  2023-05-23         1  \n",
       "453                   sth.suarez@gmail.com     Completed  2023-05-26         2  \n",
       "720                  ssbebe.cole@gmail.com        Failed  2022-06-18         1  \n",
       "695                  ssbebe.cole@gmail.com     Completed  2022-06-28         2  \n",
       "171              simiatajayi2019@gmail.com     Completed  2023-11-23         2  \n",
       "238              simiatajayi2019@gmail.com        Failed  2023-11-05         1  \n",
       "780                  ssheferna57@yahoo.com     Completed  2021-11-25         2  \n",
       "775                  ssheferna57@yahoo.com        Failed  2021-11-18         2  \n",
       "515              1sharif.bhuiyan@gmail.com        Failed  2023-04-14         1  \n",
       "499              1sharif.bhuiyan@gmail.com        Failed  2023-05-17         2  \n",
       "398                   shamaehjaz@gmail.com     Completed  2023-07-13         2  \n",
       "402                   shamaehjaz@gmail.com        Failed  2023-07-09         1  \n",
       "163             shallonkyokunda2@gmail.com        Failed  2023-11-17         1  \n",
       "155             shallonkyokunda2@gmail.com     Completed  2023-11-27         2  \n",
       "456                   sammusa676@gmail.com        Failed  2023-05-27         1  \n",
       "442                   sammusa676@gmail.com     Completed  2023-06-16         2  \n",
       "452                   sammusa676@gmail.com        Failed  2023-06-09         2  \n",
       "462                smileeybeefly@gmail.com        Failed  2023-06-16         1  \n",
       "439                smileeybeefly@gmail.com     Completed  2023-06-26         2  \n",
       "390               saleha1.kamal1@gmail.com        Failed  2023-07-12         1  \n",
       "384               saleha1.kamal1@gmail.com     Completed  2023-07-12         2  \n",
       "380                    leahmukah@gmail.com        Failed  2023-08-07         1  \n",
       "344                    leahmukah@gmail.com   In Progress  2023-08-16         2  \n",
       "595               romeoviray0929@gmail.com        Failed  2022-10-31         1  \n",
       "560               romeoviray0929@gmail.com        Failed  2022-12-12         2  \n",
       "105                fridayruth664@gmail.com        Failed  2024-02-23         1  \n",
       "60                 fridayruth664@gmail.com   In Progress           -         2  "
      ]
     },
     "execution_count": 6,
     "metadata": {},
     "output_type": "execute_result"
    }
   ],
   "source": [
    "## Check for duplicates if attempts are correcty assigned\n",
    "df_duplicates = df[df['Redeemer Name'].duplicated(keep=False)]\n",
    "df_sort = df_duplicates.sort_values(by='Redeemer Name', ascending=False)\n",
    "df_sort.head(51)"
   ]
  },
  {
   "cell_type": "code",
   "execution_count": 7,
   "metadata": {},
   "outputs": [
    {
     "data": {
      "text/html": [
       "<div>\n",
       "<style scoped>\n",
       "    .dataframe tbody tr th:only-of-type {\n",
       "        vertical-align: middle;\n",
       "    }\n",
       "\n",
       "    .dataframe tbody tr th {\n",
       "        vertical-align: top;\n",
       "    }\n",
       "\n",
       "    .dataframe thead th {\n",
       "        text-align: right;\n",
       "    }\n",
       "</style>\n",
       "<table border=\"1\" class=\"dataframe\">\n",
       "  <thead>\n",
       "    <tr style=\"text-align: right;\">\n",
       "      <th></th>\n",
       "      <th>Token</th>\n",
       "      <th>Course Name</th>\n",
       "      <th>Token Status</th>\n",
       "      <th>Token Expiry Date</th>\n",
       "      <th>Redeemer Name</th>\n",
       "      <th>Redeemer Email</th>\n",
       "      <th>Course Status</th>\n",
       "      <th>Start Date</th>\n",
       "      <th>attempts</th>\n",
       "    </tr>\n",
       "  </thead>\n",
       "  <tbody>\n",
       "    <tr>\n",
       "      <th>801</th>\n",
       "      <td>KCQWF</td>\n",
       "      <td>Smart Serve Online Training Program</td>\n",
       "      <td>Redeemed</td>\n",
       "      <td>2021-11-24</td>\n",
       "      <td>Adaeze Emmanuel</td>\n",
       "      <td>preciousemmanuel147@gmail.com</td>\n",
       "      <td>Completed</td>\n",
       "      <td>2021-12-05</td>\n",
       "      <td>1</td>\n",
       "    </tr>\n",
       "    <tr>\n",
       "      <th>802</th>\n",
       "      <td>7FSWF</td>\n",
       "      <td>Smart Serve Online Training Program</td>\n",
       "      <td>Redeemed</td>\n",
       "      <td>2021-11-24</td>\n",
       "      <td>Nishu Rani Garg</td>\n",
       "      <td>neesha.garg06@gmail.com</td>\n",
       "      <td>Failed</td>\n",
       "      <td>2021-11-10</td>\n",
       "      <td>1</td>\n",
       "    </tr>\n",
       "    <tr>\n",
       "      <th>803</th>\n",
       "      <td>X4NWF</td>\n",
       "      <td>Smart Serve Online Training Program</td>\n",
       "      <td>Redeemed</td>\n",
       "      <td>2021-11-24</td>\n",
       "      <td>Chelsea Hill McGrowder</td>\n",
       "      <td>mcgrowder8@gmail.com</td>\n",
       "      <td>Failed</td>\n",
       "      <td>2021-11-30</td>\n",
       "      <td>1</td>\n",
       "    </tr>\n",
       "    <tr>\n",
       "      <th>804</th>\n",
       "      <td>J7YWF</td>\n",
       "      <td>Smart Serve Online Training Program</td>\n",
       "      <td>Expired</td>\n",
       "      <td>2021-11-24</td>\n",
       "      <td>-</td>\n",
       "      <td>-</td>\n",
       "      <td>-</td>\n",
       "      <td>-</td>\n",
       "      <td>1</td>\n",
       "    </tr>\n",
       "    <tr>\n",
       "      <th>805</th>\n",
       "      <td>QDYWF</td>\n",
       "      <td>Smart Serve Online Training Program</td>\n",
       "      <td>Redeemed</td>\n",
       "      <td>2021-11-24</td>\n",
       "      <td>Mona EL-Khodr</td>\n",
       "      <td>monakhodr@yahoo.com</td>\n",
       "      <td>Completed</td>\n",
       "      <td>2021-10-26</td>\n",
       "      <td>1</td>\n",
       "    </tr>\n",
       "  </tbody>\n",
       "</table>\n",
       "</div>"
      ],
      "text/plain": [
       "     Token                          Course Name Token Status  \\\n",
       "801  KCQWF  Smart Serve Online Training Program     Redeemed   \n",
       "802  7FSWF  Smart Serve Online Training Program     Redeemed   \n",
       "803  X4NWF  Smart Serve Online Training Program     Redeemed   \n",
       "804  J7YWF  Smart Serve Online Training Program      Expired   \n",
       "805  QDYWF  Smart Serve Online Training Program     Redeemed   \n",
       "\n",
       "    Token Expiry Date           Redeemer Name                 Redeemer Email  \\\n",
       "801        2021-11-24         Adaeze Emmanuel  preciousemmanuel147@gmail.com   \n",
       "802        2021-11-24         Nishu Rani Garg        neesha.garg06@gmail.com   \n",
       "803        2021-11-24  Chelsea Hill McGrowder           mcgrowder8@gmail.com   \n",
       "804        2021-11-24                       -                              -   \n",
       "805        2021-11-24           Mona EL-Khodr            monakhodr@yahoo.com   \n",
       "\n",
       "    Course Status  Start Date  attempts  \n",
       "801     Completed  2021-12-05         1  \n",
       "802        Failed  2021-11-10         1  \n",
       "803        Failed  2021-11-30         1  \n",
       "804             -           -         1  \n",
       "805     Completed  2021-10-26         1  "
      ]
     },
     "execution_count": 7,
     "metadata": {},
     "output_type": "execute_result"
    }
   ],
   "source": [
    "df['attempts'] = df.apply(lambda row: 1 if row['Redeemer Name'] not in df_duplicates['Redeemer Name'].values and row['Course Status'] == 'Completed' else row['attempts'], axis=1)\n",
    "df.tail(5)"
   ]
  },
  {
   "cell_type": "code",
   "execution_count": 8,
   "metadata": {},
   "outputs": [
    {
     "data": {
      "text/plain": [
       "attempts\n",
       "1    737\n",
       "2     69\n",
       "Name: count, dtype: int64"
      ]
     },
     "execution_count": 8,
     "metadata": {},
     "output_type": "execute_result"
    }
   ],
   "source": [
    "nan_check = df['attempts'].value_counts()\n",
    "nan_check\n"
   ]
  },
  {
   "cell_type": "code",
   "execution_count": 9,
   "metadata": {},
   "outputs": [
    {
     "data": {
      "text/html": [
       "<div>\n",
       "<style scoped>\n",
       "    .dataframe tbody tr th:only-of-type {\n",
       "        vertical-align: middle;\n",
       "    }\n",
       "\n",
       "    .dataframe tbody tr th {\n",
       "        vertical-align: top;\n",
       "    }\n",
       "\n",
       "    .dataframe thead th {\n",
       "        text-align: right;\n",
       "    }\n",
       "</style>\n",
       "<table border=\"1\" class=\"dataframe\">\n",
       "  <thead>\n",
       "    <tr style=\"text-align: right;\">\n",
       "      <th></th>\n",
       "      <th>Token</th>\n",
       "      <th>Course Name</th>\n",
       "      <th>Token Status</th>\n",
       "      <th>Token Expiry Date</th>\n",
       "      <th>Redeemer Name</th>\n",
       "      <th>Redeemer Email</th>\n",
       "      <th>Course Status</th>\n",
       "      <th>Start Date</th>\n",
       "      <th>attempts</th>\n",
       "    </tr>\n",
       "  </thead>\n",
       "  <tbody>\n",
       "    <tr>\n",
       "      <th>719</th>\n",
       "      <td>SKHX3</td>\n",
       "      <td>Smart Serve Online Training Program</td>\n",
       "      <td>Redeemed</td>\n",
       "      <td>2022-06-25</td>\n",
       "      <td>Zoya George</td>\n",
       "      <td>georgezoy92@gmail.com</td>\n",
       "      <td>In Progress</td>\n",
       "      <td>-</td>\n",
       "      <td>1</td>\n",
       "    </tr>\n",
       "    <tr>\n",
       "      <th>23</th>\n",
       "      <td>PHAR2C</td>\n",
       "      <td>Smart Serve Online Training Program 08152022</td>\n",
       "      <td>Redeemed</td>\n",
       "      <td>2024-04-17</td>\n",
       "      <td>davonya saunders</td>\n",
       "      <td>davonya_saunders444@outlook.com</td>\n",
       "      <td>In Progress</td>\n",
       "      <td>-</td>\n",
       "      <td>1</td>\n",
       "    </tr>\n",
       "    <tr>\n",
       "      <th>9</th>\n",
       "      <td>SASR2C</td>\n",
       "      <td>Smart Serve Online Training Program 08152022</td>\n",
       "      <td>Redeemed</td>\n",
       "      <td>2024-04-17</td>\n",
       "      <td>gladys kanini waithaka</td>\n",
       "      <td>gkanini76@gmail.com</td>\n",
       "      <td>In Progress</td>\n",
       "      <td>-</td>\n",
       "      <td>1</td>\n",
       "    </tr>\n",
       "    <tr>\n",
       "      <th>33</th>\n",
       "      <td>7Z37JC</td>\n",
       "      <td>Smart Serve Online Training Program 08152022</td>\n",
       "      <td>Redeemed</td>\n",
       "      <td>2024-04-11</td>\n",
       "      <td>mabel iesha Brown</td>\n",
       "      <td>tekalahgrant@gmail.com</td>\n",
       "      <td>In Progress</td>\n",
       "      <td>-</td>\n",
       "      <td>1</td>\n",
       "    </tr>\n",
       "    <tr>\n",
       "      <th>772</th>\n",
       "      <td>HEZ52</td>\n",
       "      <td>Smart Serve Final Test</td>\n",
       "      <td>Redeemed</td>\n",
       "      <td>2022-02-10</td>\n",
       "      <td>marianne walters</td>\n",
       "      <td>mwalters802@gmail.com</td>\n",
       "      <td>In Progress</td>\n",
       "      <td>2022-01-11</td>\n",
       "      <td>1</td>\n",
       "    </tr>\n",
       "    <tr>\n",
       "      <th>472</th>\n",
       "      <td>9MY5YE</td>\n",
       "      <td>Smart Serve Online Training Program 08152022</td>\n",
       "      <td>Redeemed</td>\n",
       "      <td>2023-06-04</td>\n",
       "      <td>marlon Benoit</td>\n",
       "      <td>marlonbenoit1@me.com</td>\n",
       "      <td>In Progress</td>\n",
       "      <td>-</td>\n",
       "      <td>1</td>\n",
       "    </tr>\n",
       "    <tr>\n",
       "      <th>587</th>\n",
       "      <td>22DBRE</td>\n",
       "      <td>Smart Serve Online Training Program 08152022</td>\n",
       "      <td>Redeemed</td>\n",
       "      <td>2022-12-02</td>\n",
       "      <td>mohamed nawas abdul rahuman</td>\n",
       "      <td>nawashe@gmail.com</td>\n",
       "      <td>In Progress</td>\n",
       "      <td>2022-11-06</td>\n",
       "      <td>1</td>\n",
       "    </tr>\n",
       "    <tr>\n",
       "      <th>242</th>\n",
       "      <td>NK9FRC</td>\n",
       "      <td>Smart Serve Online Training Program 08152022</td>\n",
       "      <td>Redeemed</td>\n",
       "      <td>2023-11-22</td>\n",
       "      <td>thomasina higgins</td>\n",
       "      <td>Thomasinahiggins12@hotmail.com</td>\n",
       "      <td>In Progress</td>\n",
       "      <td>2023-10-28</td>\n",
       "      <td>1</td>\n",
       "    </tr>\n",
       "    <tr>\n",
       "      <th>24</th>\n",
       "      <td>ANTR2C</td>\n",
       "      <td>Smart Serve Online Training Program 08152022</td>\n",
       "      <td>Redeemed</td>\n",
       "      <td>2024-04-17</td>\n",
       "      <td>walakira rashid</td>\n",
       "      <td>walakirarashid12345@gmail.com</td>\n",
       "      <td>In Progress</td>\n",
       "      <td>-</td>\n",
       "      <td>1</td>\n",
       "    </tr>\n",
       "    <tr>\n",
       "      <th>783</th>\n",
       "      <td>EP3QT</td>\n",
       "      <td>Smart Serve Online Training Program</td>\n",
       "      <td>Redeemed</td>\n",
       "      <td>2021-12-08</td>\n",
       "      <td>zebib kebede</td>\n",
       "      <td>zebibk12@gmail.com</td>\n",
       "      <td>In Progress</td>\n",
       "      <td>-</td>\n",
       "      <td>1</td>\n",
       "    </tr>\n",
       "  </tbody>\n",
       "</table>\n",
       "</div>"
      ],
      "text/plain": [
       "      Token                                   Course Name Token Status  \\\n",
       "719   SKHX3           Smart Serve Online Training Program     Redeemed   \n",
       "23   PHAR2C  Smart Serve Online Training Program 08152022     Redeemed   \n",
       "9    SASR2C  Smart Serve Online Training Program 08152022     Redeemed   \n",
       "33   7Z37JC  Smart Serve Online Training Program 08152022     Redeemed   \n",
       "772   HEZ52                        Smart Serve Final Test     Redeemed   \n",
       "472  9MY5YE  Smart Serve Online Training Program 08152022     Redeemed   \n",
       "587  22DBRE  Smart Serve Online Training Program 08152022     Redeemed   \n",
       "242  NK9FRC  Smart Serve Online Training Program 08152022     Redeemed   \n",
       "24   ANTR2C  Smart Serve Online Training Program 08152022     Redeemed   \n",
       "783   EP3QT           Smart Serve Online Training Program     Redeemed   \n",
       "\n",
       "    Token Expiry Date                Redeemer Name  \\\n",
       "719        2022-06-25                  Zoya George   \n",
       "23         2024-04-17             davonya saunders   \n",
       "9          2024-04-17       gladys kanini waithaka   \n",
       "33         2024-04-11            mabel iesha Brown   \n",
       "772        2022-02-10             marianne walters   \n",
       "472        2023-06-04                marlon Benoit   \n",
       "587        2022-12-02  mohamed nawas abdul rahuman   \n",
       "242        2023-11-22            thomasina higgins   \n",
       "24         2024-04-17              walakira rashid   \n",
       "783        2021-12-08                 zebib kebede   \n",
       "\n",
       "                      Redeemer Email Course Status  Start Date  attempts  \n",
       "719            georgezoy92@gmail.com   In Progress           -         1  \n",
       "23   davonya_saunders444@outlook.com   In Progress           -         1  \n",
       "9                gkanini76@gmail.com   In Progress           -         1  \n",
       "33            tekalahgrant@gmail.com   In Progress           -         1  \n",
       "772            mwalters802@gmail.com   In Progress  2022-01-11         1  \n",
       "472             marlonbenoit1@me.com   In Progress           -         1  \n",
       "587                nawashe@gmail.com   In Progress  2022-11-06         1  \n",
       "242   Thomasinahiggins12@hotmail.com   In Progress  2023-10-28         1  \n",
       "24     walakirarashid12345@gmail.com   In Progress           -         1  \n",
       "783               zebibk12@gmail.com   In Progress           -         1  "
      ]
     },
     "execution_count": 9,
     "metadata": {},
     "output_type": "execute_result"
    }
   ],
   "source": [
    "in_progress_df = df[df['Course Status'] == 'In Progress']\n",
    "in_progress_df_sorted = in_progress_df.sort_values(by='Redeemer Name')\n",
    "in_progress_df_sorted.tail(10)\n"
   ]
  },
  {
   "cell_type": "code",
   "execution_count": 10,
   "metadata": {},
   "outputs": [
    {
     "data": {
      "text/plain": [
       "attempts\n",
       "1    737\n",
       "2     69\n",
       "Name: count, dtype: int64"
      ]
     },
     "execution_count": 10,
     "metadata": {},
     "output_type": "execute_result"
    }
   ],
   "source": [
    "df['attempts'].value_counts()"
   ]
  },
  {
   "cell_type": "code",
   "execution_count": 11,
   "metadata": {},
   "outputs": [
    {
     "data": {
      "text/html": [
       "<div>\n",
       "<style scoped>\n",
       "    .dataframe tbody tr th:only-of-type {\n",
       "        vertical-align: middle;\n",
       "    }\n",
       "\n",
       "    .dataframe tbody tr th {\n",
       "        vertical-align: top;\n",
       "    }\n",
       "\n",
       "    .dataframe thead th {\n",
       "        text-align: right;\n",
       "    }\n",
       "</style>\n",
       "<table border=\"1\" class=\"dataframe\">\n",
       "  <thead>\n",
       "    <tr style=\"text-align: right;\">\n",
       "      <th></th>\n",
       "      <th>Token</th>\n",
       "      <th>Course Name</th>\n",
       "      <th>Token Status</th>\n",
       "      <th>Token Expiry Date</th>\n",
       "      <th>Redeemer Name</th>\n",
       "      <th>Redeemer Email</th>\n",
       "      <th>Course Status</th>\n",
       "      <th>Start Date</th>\n",
       "      <th>attempts</th>\n",
       "    </tr>\n",
       "  </thead>\n",
       "  <tbody>\n",
       "    <tr>\n",
       "      <th>804</th>\n",
       "      <td>J7YWF</td>\n",
       "      <td>Smart Serve Online Training Program</td>\n",
       "      <td>Expired</td>\n",
       "      <td>2021-11-24</td>\n",
       "      <td>-</td>\n",
       "      <td>-</td>\n",
       "      <td>-</td>\n",
       "      <td>-</td>\n",
       "      <td>1</td>\n",
       "    </tr>\n",
       "    <tr>\n",
       "      <th>797</th>\n",
       "      <td>W77WF</td>\n",
       "      <td>Smart Serve Online Training Program</td>\n",
       "      <td>Expired</td>\n",
       "      <td>2021-11-24</td>\n",
       "      <td>-</td>\n",
       "      <td>-</td>\n",
       "      <td>-</td>\n",
       "      <td>-</td>\n",
       "      <td>1</td>\n",
       "    </tr>\n",
       "    <tr>\n",
       "      <th>646</th>\n",
       "      <td>MWMYBE</td>\n",
       "      <td>Smart Serve Online Training Program</td>\n",
       "      <td>Expired</td>\n",
       "      <td>2022-09-01</td>\n",
       "      <td>-</td>\n",
       "      <td>-</td>\n",
       "      <td>-</td>\n",
       "      <td>-</td>\n",
       "      <td>1</td>\n",
       "    </tr>\n",
       "    <tr>\n",
       "      <th>647</th>\n",
       "      <td>ZM4YBE</td>\n",
       "      <td>Smart Serve Online Training Program</td>\n",
       "      <td>Expired</td>\n",
       "      <td>2022-09-01</td>\n",
       "      <td>-</td>\n",
       "      <td>-</td>\n",
       "      <td>-</td>\n",
       "      <td>-</td>\n",
       "      <td>1</td>\n",
       "    </tr>\n",
       "    <tr>\n",
       "      <th>648</th>\n",
       "      <td>RVKYBE</td>\n",
       "      <td>Smart Serve Online Training Program</td>\n",
       "      <td>Expired</td>\n",
       "      <td>2022-09-01</td>\n",
       "      <td>-</td>\n",
       "      <td>-</td>\n",
       "      <td>-</td>\n",
       "      <td>-</td>\n",
       "      <td>1</td>\n",
       "    </tr>\n",
       "    <tr>\n",
       "      <th>...</th>\n",
       "      <td>...</td>\n",
       "      <td>...</td>\n",
       "      <td>...</td>\n",
       "      <td>...</td>\n",
       "      <td>...</td>\n",
       "      <td>...</td>\n",
       "      <td>...</td>\n",
       "      <td>...</td>\n",
       "      <td>...</td>\n",
       "    </tr>\n",
       "    <tr>\n",
       "      <th>522</th>\n",
       "      <td>GSARKE</td>\n",
       "      <td>Smart Serve Online Training Program 08152022</td>\n",
       "      <td>Redeemed</td>\n",
       "      <td>2023-04-23</td>\n",
       "      <td>marvelous Godstime</td>\n",
       "      <td>marvelousgodstime123@gmail.com</td>\n",
       "      <td>Completed</td>\n",
       "      <td>2023-03-27</td>\n",
       "      <td>2</td>\n",
       "    </tr>\n",
       "    <tr>\n",
       "      <th>715</th>\n",
       "      <td>9E5JV</td>\n",
       "      <td>Smart Serve Final Test</td>\n",
       "      <td>Redeemed</td>\n",
       "      <td>2022-07-07</td>\n",
       "      <td>shechem bourne</td>\n",
       "      <td>shechembourne3@gmail.com</td>\n",
       "      <td>Failed</td>\n",
       "      <td>2022-07-06</td>\n",
       "      <td>2</td>\n",
       "    </tr>\n",
       "    <tr>\n",
       "      <th>721</th>\n",
       "      <td>TDAX3</td>\n",
       "      <td>Smart Serve Online Training Program</td>\n",
       "      <td>Redeemed</td>\n",
       "      <td>2022-06-25</td>\n",
       "      <td>shechem bourne</td>\n",
       "      <td>shechembourne3@gmail.com</td>\n",
       "      <td>Failed</td>\n",
       "      <td>2022-06-02</td>\n",
       "      <td>1</td>\n",
       "    </tr>\n",
       "    <tr>\n",
       "      <th>465</th>\n",
       "      <td>MRQ4SE</td>\n",
       "      <td>Smart Serve Online Training Program 08152022</td>\n",
       "      <td>Redeemed</td>\n",
       "      <td>2023-06-18</td>\n",
       "      <td>szonja cseresznyes</td>\n",
       "      <td>lovecanada6271@gmail.com</td>\n",
       "      <td>Failed</td>\n",
       "      <td>2023-05-23</td>\n",
       "      <td>1</td>\n",
       "    </tr>\n",
       "    <tr>\n",
       "      <th>454</th>\n",
       "      <td>7TTWQE</td>\n",
       "      <td>Smart Serve Online Training Program 08152022</td>\n",
       "      <td>Redeemed</td>\n",
       "      <td>2023-06-25</td>\n",
       "      <td>szonja cseresznyes</td>\n",
       "      <td>lovecanada6271@gmail.com</td>\n",
       "      <td>Failed</td>\n",
       "      <td>2023-06-12</td>\n",
       "      <td>2</td>\n",
       "    </tr>\n",
       "  </tbody>\n",
       "</table>\n",
       "<p>141 rows × 9 columns</p>\n",
       "</div>"
      ],
      "text/plain": [
       "      Token                                   Course Name Token Status  \\\n",
       "804   J7YWF           Smart Serve Online Training Program      Expired   \n",
       "797   W77WF           Smart Serve Online Training Program      Expired   \n",
       "646  MWMYBE           Smart Serve Online Training Program      Expired   \n",
       "647  ZM4YBE           Smart Serve Online Training Program      Expired   \n",
       "648  RVKYBE           Smart Serve Online Training Program      Expired   \n",
       "..      ...                                           ...          ...   \n",
       "522  GSARKE  Smart Serve Online Training Program 08152022     Redeemed   \n",
       "715   9E5JV                        Smart Serve Final Test     Redeemed   \n",
       "721   TDAX3           Smart Serve Online Training Program     Redeemed   \n",
       "465  MRQ4SE  Smart Serve Online Training Program 08152022     Redeemed   \n",
       "454  7TTWQE  Smart Serve Online Training Program 08152022     Redeemed   \n",
       "\n",
       "    Token Expiry Date       Redeemer Name                  Redeemer Email  \\\n",
       "804        2021-11-24                   -                               -   \n",
       "797        2021-11-24                   -                               -   \n",
       "646        2022-09-01                   -                               -   \n",
       "647        2022-09-01                   -                               -   \n",
       "648        2022-09-01                   -                               -   \n",
       "..                ...                 ...                             ...   \n",
       "522        2023-04-23  marvelous Godstime  marvelousgodstime123@gmail.com   \n",
       "715        2022-07-07      shechem bourne        shechembourne3@gmail.com   \n",
       "721        2022-06-25      shechem bourne        shechembourne3@gmail.com   \n",
       "465        2023-06-18  szonja cseresznyes        lovecanada6271@gmail.com   \n",
       "454        2023-06-25  szonja cseresznyes        lovecanada6271@gmail.com   \n",
       "\n",
       "    Course Status  Start Date  attempts  \n",
       "804             -           -         1  \n",
       "797             -           -         1  \n",
       "646             -           -         1  \n",
       "647             -           -         1  \n",
       "648             -           -         1  \n",
       "..            ...         ...       ...  \n",
       "522     Completed  2023-03-27         2  \n",
       "715        Failed  2022-07-06         2  \n",
       "721        Failed  2022-06-02         1  \n",
       "465        Failed  2023-05-23         1  \n",
       "454        Failed  2023-06-12         2  \n",
       "\n",
       "[141 rows x 9 columns]"
      ]
     },
     "execution_count": 11,
     "metadata": {},
     "output_type": "execute_result"
    }
   ],
   "source": [
    "## check 2\n",
    "duplicate_names = df[df.duplicated(subset='Redeemer Name', keep=False)]\n",
    "df_sorted = duplicate_names.sort_values(by='Redeemer Name')\n",
    "df_sorted\n"
   ]
  },
  {
   "cell_type": "code",
   "execution_count": 12,
   "metadata": {},
   "outputs": [
    {
     "data": {
      "text/html": [
       "<div>\n",
       "<style scoped>\n",
       "    .dataframe tbody tr th:only-of-type {\n",
       "        vertical-align: middle;\n",
       "    }\n",
       "\n",
       "    .dataframe tbody tr th {\n",
       "        vertical-align: top;\n",
       "    }\n",
       "\n",
       "    .dataframe thead th {\n",
       "        text-align: right;\n",
       "    }\n",
       "</style>\n",
       "<table border=\"1\" class=\"dataframe\">\n",
       "  <thead>\n",
       "    <tr style=\"text-align: right;\">\n",
       "      <th></th>\n",
       "      <th>Token</th>\n",
       "      <th>Course Name</th>\n",
       "      <th>Token Status</th>\n",
       "      <th>Token Expiry Date</th>\n",
       "      <th>Redeemer Name</th>\n",
       "      <th>Redeemer Email</th>\n",
       "      <th>Course Status</th>\n",
       "      <th>Start Date</th>\n",
       "      <th>attempts</th>\n",
       "    </tr>\n",
       "  </thead>\n",
       "  <tbody>\n",
       "    <tr>\n",
       "      <th>63</th>\n",
       "      <td>YDNTJC</td>\n",
       "      <td>Smart Serve Online Training Program 08152022</td>\n",
       "      <td>Redeemed</td>\n",
       "      <td>2024-04-04</td>\n",
       "      <td>James Kabera</td>\n",
       "      <td>kaberajames356@gmail.com</td>\n",
       "      <td>Failed</td>\n",
       "      <td>2024-03-18</td>\n",
       "      <td>1</td>\n",
       "    </tr>\n",
       "  </tbody>\n",
       "</table>\n",
       "</div>"
      ],
      "text/plain": [
       "     Token                                   Course Name Token Status  \\\n",
       "63  YDNTJC  Smart Serve Online Training Program 08152022     Redeemed   \n",
       "\n",
       "   Token Expiry Date Redeemer Name            Redeemer Email Course Status  \\\n",
       "63        2024-04-04  James Kabera  kaberajames356@gmail.com        Failed   \n",
       "\n",
       "    Start Date  attempts  \n",
       "63  2024-03-18         1  "
      ]
     },
     "execution_count": 12,
     "metadata": {},
     "output_type": "execute_result"
    }
   ],
   "source": [
    "## check 3\n",
    "result = df[df['Redeemer Name'] == 'James Kabera']\n",
    "result\n"
   ]
  },
  {
   "cell_type": "code",
   "execution_count": 13,
   "metadata": {},
   "outputs": [
    {
     "data": {
      "application/vnd.plotly.v1+json": {
       "config": {
        "plotlyServerURL": "https://plot.ly"
       },
       "data": [
        {
         "labels": [
          "The token wasn't redeemed and left to expire with no claim",
          "The Student passed",
          "The transaction was reversed or a refund was provided",
          "The student failed",
          "The course was started but not completed",
          "The student started but did not complete all modules assigned"
         ],
         "pull": [
          0,
          0,
          0,
          0,
          0,
          0.1
         ],
         "type": "pie",
         "values": [
          18,
          363,
          2,
          131,
          198,
          25
         ]
        }
       ],
       "layout": {
        "template": {
         "data": {
          "bar": [
           {
            "error_x": {
             "color": "#2a3f5f"
            },
            "error_y": {
             "color": "#2a3f5f"
            },
            "marker": {
             "line": {
              "color": "#E5ECF6",
              "width": 0.5
             },
             "pattern": {
              "fillmode": "overlay",
              "size": 10,
              "solidity": 0.2
             }
            },
            "type": "bar"
           }
          ],
          "barpolar": [
           {
            "marker": {
             "line": {
              "color": "#E5ECF6",
              "width": 0.5
             },
             "pattern": {
              "fillmode": "overlay",
              "size": 10,
              "solidity": 0.2
             }
            },
            "type": "barpolar"
           }
          ],
          "carpet": [
           {
            "aaxis": {
             "endlinecolor": "#2a3f5f",
             "gridcolor": "white",
             "linecolor": "white",
             "minorgridcolor": "white",
             "startlinecolor": "#2a3f5f"
            },
            "baxis": {
             "endlinecolor": "#2a3f5f",
             "gridcolor": "white",
             "linecolor": "white",
             "minorgridcolor": "white",
             "startlinecolor": "#2a3f5f"
            },
            "type": "carpet"
           }
          ],
          "choropleth": [
           {
            "colorbar": {
             "outlinewidth": 0,
             "ticks": ""
            },
            "type": "choropleth"
           }
          ],
          "contour": [
           {
            "colorbar": {
             "outlinewidth": 0,
             "ticks": ""
            },
            "colorscale": [
             [
              0,
              "#0d0887"
             ],
             [
              0.1111111111111111,
              "#46039f"
             ],
             [
              0.2222222222222222,
              "#7201a8"
             ],
             [
              0.3333333333333333,
              "#9c179e"
             ],
             [
              0.4444444444444444,
              "#bd3786"
             ],
             [
              0.5555555555555556,
              "#d8576b"
             ],
             [
              0.6666666666666666,
              "#ed7953"
             ],
             [
              0.7777777777777778,
              "#fb9f3a"
             ],
             [
              0.8888888888888888,
              "#fdca26"
             ],
             [
              1,
              "#f0f921"
             ]
            ],
            "type": "contour"
           }
          ],
          "contourcarpet": [
           {
            "colorbar": {
             "outlinewidth": 0,
             "ticks": ""
            },
            "type": "contourcarpet"
           }
          ],
          "heatmap": [
           {
            "colorbar": {
             "outlinewidth": 0,
             "ticks": ""
            },
            "colorscale": [
             [
              0,
              "#0d0887"
             ],
             [
              0.1111111111111111,
              "#46039f"
             ],
             [
              0.2222222222222222,
              "#7201a8"
             ],
             [
              0.3333333333333333,
              "#9c179e"
             ],
             [
              0.4444444444444444,
              "#bd3786"
             ],
             [
              0.5555555555555556,
              "#d8576b"
             ],
             [
              0.6666666666666666,
              "#ed7953"
             ],
             [
              0.7777777777777778,
              "#fb9f3a"
             ],
             [
              0.8888888888888888,
              "#fdca26"
             ],
             [
              1,
              "#f0f921"
             ]
            ],
            "type": "heatmap"
           }
          ],
          "heatmapgl": [
           {
            "colorbar": {
             "outlinewidth": 0,
             "ticks": ""
            },
            "colorscale": [
             [
              0,
              "#0d0887"
             ],
             [
              0.1111111111111111,
              "#46039f"
             ],
             [
              0.2222222222222222,
              "#7201a8"
             ],
             [
              0.3333333333333333,
              "#9c179e"
             ],
             [
              0.4444444444444444,
              "#bd3786"
             ],
             [
              0.5555555555555556,
              "#d8576b"
             ],
             [
              0.6666666666666666,
              "#ed7953"
             ],
             [
              0.7777777777777778,
              "#fb9f3a"
             ],
             [
              0.8888888888888888,
              "#fdca26"
             ],
             [
              1,
              "#f0f921"
             ]
            ],
            "type": "heatmapgl"
           }
          ],
          "histogram": [
           {
            "marker": {
             "pattern": {
              "fillmode": "overlay",
              "size": 10,
              "solidity": 0.2
             }
            },
            "type": "histogram"
           }
          ],
          "histogram2d": [
           {
            "colorbar": {
             "outlinewidth": 0,
             "ticks": ""
            },
            "colorscale": [
             [
              0,
              "#0d0887"
             ],
             [
              0.1111111111111111,
              "#46039f"
             ],
             [
              0.2222222222222222,
              "#7201a8"
             ],
             [
              0.3333333333333333,
              "#9c179e"
             ],
             [
              0.4444444444444444,
              "#bd3786"
             ],
             [
              0.5555555555555556,
              "#d8576b"
             ],
             [
              0.6666666666666666,
              "#ed7953"
             ],
             [
              0.7777777777777778,
              "#fb9f3a"
             ],
             [
              0.8888888888888888,
              "#fdca26"
             ],
             [
              1,
              "#f0f921"
             ]
            ],
            "type": "histogram2d"
           }
          ],
          "histogram2dcontour": [
           {
            "colorbar": {
             "outlinewidth": 0,
             "ticks": ""
            },
            "colorscale": [
             [
              0,
              "#0d0887"
             ],
             [
              0.1111111111111111,
              "#46039f"
             ],
             [
              0.2222222222222222,
              "#7201a8"
             ],
             [
              0.3333333333333333,
              "#9c179e"
             ],
             [
              0.4444444444444444,
              "#bd3786"
             ],
             [
              0.5555555555555556,
              "#d8576b"
             ],
             [
              0.6666666666666666,
              "#ed7953"
             ],
             [
              0.7777777777777778,
              "#fb9f3a"
             ],
             [
              0.8888888888888888,
              "#fdca26"
             ],
             [
              1,
              "#f0f921"
             ]
            ],
            "type": "histogram2dcontour"
           }
          ],
          "mesh3d": [
           {
            "colorbar": {
             "outlinewidth": 0,
             "ticks": ""
            },
            "type": "mesh3d"
           }
          ],
          "parcoords": [
           {
            "line": {
             "colorbar": {
              "outlinewidth": 0,
              "ticks": ""
             }
            },
            "type": "parcoords"
           }
          ],
          "pie": [
           {
            "automargin": true,
            "type": "pie"
           }
          ],
          "scatter": [
           {
            "fillpattern": {
             "fillmode": "overlay",
             "size": 10,
             "solidity": 0.2
            },
            "type": "scatter"
           }
          ],
          "scatter3d": [
           {
            "line": {
             "colorbar": {
              "outlinewidth": 0,
              "ticks": ""
             }
            },
            "marker": {
             "colorbar": {
              "outlinewidth": 0,
              "ticks": ""
             }
            },
            "type": "scatter3d"
           }
          ],
          "scattercarpet": [
           {
            "marker": {
             "colorbar": {
              "outlinewidth": 0,
              "ticks": ""
             }
            },
            "type": "scattercarpet"
           }
          ],
          "scattergeo": [
           {
            "marker": {
             "colorbar": {
              "outlinewidth": 0,
              "ticks": ""
             }
            },
            "type": "scattergeo"
           }
          ],
          "scattergl": [
           {
            "marker": {
             "colorbar": {
              "outlinewidth": 0,
              "ticks": ""
             }
            },
            "type": "scattergl"
           }
          ],
          "scattermapbox": [
           {
            "marker": {
             "colorbar": {
              "outlinewidth": 0,
              "ticks": ""
             }
            },
            "type": "scattermapbox"
           }
          ],
          "scatterpolar": [
           {
            "marker": {
             "colorbar": {
              "outlinewidth": 0,
              "ticks": ""
             }
            },
            "type": "scatterpolar"
           }
          ],
          "scatterpolargl": [
           {
            "marker": {
             "colorbar": {
              "outlinewidth": 0,
              "ticks": ""
             }
            },
            "type": "scatterpolargl"
           }
          ],
          "scatterternary": [
           {
            "marker": {
             "colorbar": {
              "outlinewidth": 0,
              "ticks": ""
             }
            },
            "type": "scatterternary"
           }
          ],
          "surface": [
           {
            "colorbar": {
             "outlinewidth": 0,
             "ticks": ""
            },
            "colorscale": [
             [
              0,
              "#0d0887"
             ],
             [
              0.1111111111111111,
              "#46039f"
             ],
             [
              0.2222222222222222,
              "#7201a8"
             ],
             [
              0.3333333333333333,
              "#9c179e"
             ],
             [
              0.4444444444444444,
              "#bd3786"
             ],
             [
              0.5555555555555556,
              "#d8576b"
             ],
             [
              0.6666666666666666,
              "#ed7953"
             ],
             [
              0.7777777777777778,
              "#fb9f3a"
             ],
             [
              0.8888888888888888,
              "#fdca26"
             ],
             [
              1,
              "#f0f921"
             ]
            ],
            "type": "surface"
           }
          ],
          "table": [
           {
            "cells": {
             "fill": {
              "color": "#EBF0F8"
             },
             "line": {
              "color": "white"
             }
            },
            "header": {
             "fill": {
              "color": "#C8D4E3"
             },
             "line": {
              "color": "white"
             }
            },
            "type": "table"
           }
          ]
         },
         "layout": {
          "annotationdefaults": {
           "arrowcolor": "#2a3f5f",
           "arrowhead": 0,
           "arrowwidth": 1
          },
          "autotypenumbers": "strict",
          "coloraxis": {
           "colorbar": {
            "outlinewidth": 0,
            "ticks": ""
           }
          },
          "colorscale": {
           "diverging": [
            [
             0,
             "#8e0152"
            ],
            [
             0.1,
             "#c51b7d"
            ],
            [
             0.2,
             "#de77ae"
            ],
            [
             0.3,
             "#f1b6da"
            ],
            [
             0.4,
             "#fde0ef"
            ],
            [
             0.5,
             "#f7f7f7"
            ],
            [
             0.6,
             "#e6f5d0"
            ],
            [
             0.7,
             "#b8e186"
            ],
            [
             0.8,
             "#7fbc41"
            ],
            [
             0.9,
             "#4d9221"
            ],
            [
             1,
             "#276419"
            ]
           ],
           "sequential": [
            [
             0,
             "#0d0887"
            ],
            [
             0.1111111111111111,
             "#46039f"
            ],
            [
             0.2222222222222222,
             "#7201a8"
            ],
            [
             0.3333333333333333,
             "#9c179e"
            ],
            [
             0.4444444444444444,
             "#bd3786"
            ],
            [
             0.5555555555555556,
             "#d8576b"
            ],
            [
             0.6666666666666666,
             "#ed7953"
            ],
            [
             0.7777777777777778,
             "#fb9f3a"
            ],
            [
             0.8888888888888888,
             "#fdca26"
            ],
            [
             1,
             "#f0f921"
            ]
           ],
           "sequentialminus": [
            [
             0,
             "#0d0887"
            ],
            [
             0.1111111111111111,
             "#46039f"
            ],
            [
             0.2222222222222222,
             "#7201a8"
            ],
            [
             0.3333333333333333,
             "#9c179e"
            ],
            [
             0.4444444444444444,
             "#bd3786"
            ],
            [
             0.5555555555555556,
             "#d8576b"
            ],
            [
             0.6666666666666666,
             "#ed7953"
            ],
            [
             0.7777777777777778,
             "#fb9f3a"
            ],
            [
             0.8888888888888888,
             "#fdca26"
            ],
            [
             1,
             "#f0f921"
            ]
           ]
          },
          "colorway": [
           "#636efa",
           "#EF553B",
           "#00cc96",
           "#ab63fa",
           "#FFA15A",
           "#19d3f3",
           "#FF6692",
           "#B6E880",
           "#FF97FF",
           "#FECB52"
          ],
          "font": {
           "color": "#2a3f5f"
          },
          "geo": {
           "bgcolor": "white",
           "lakecolor": "white",
           "landcolor": "#E5ECF6",
           "showlakes": true,
           "showland": true,
           "subunitcolor": "white"
          },
          "hoverlabel": {
           "align": "left"
          },
          "hovermode": "closest",
          "mapbox": {
           "style": "light"
          },
          "paper_bgcolor": "white",
          "plot_bgcolor": "#E5ECF6",
          "polar": {
           "angularaxis": {
            "gridcolor": "white",
            "linecolor": "white",
            "ticks": ""
           },
           "bgcolor": "#E5ECF6",
           "radialaxis": {
            "gridcolor": "white",
            "linecolor": "white",
            "ticks": ""
           }
          },
          "scene": {
           "xaxis": {
            "backgroundcolor": "#E5ECF6",
            "gridcolor": "white",
            "gridwidth": 2,
            "linecolor": "white",
            "showbackground": true,
            "ticks": "",
            "zerolinecolor": "white"
           },
           "yaxis": {
            "backgroundcolor": "#E5ECF6",
            "gridcolor": "white",
            "gridwidth": 2,
            "linecolor": "white",
            "showbackground": true,
            "ticks": "",
            "zerolinecolor": "white"
           },
           "zaxis": {
            "backgroundcolor": "#E5ECF6",
            "gridcolor": "white",
            "gridwidth": 2,
            "linecolor": "white",
            "showbackground": true,
            "ticks": "",
            "zerolinecolor": "white"
           }
          },
          "shapedefaults": {
           "line": {
            "color": "#2a3f5f"
           }
          },
          "ternary": {
           "aaxis": {
            "gridcolor": "white",
            "linecolor": "white",
            "ticks": ""
           },
           "baxis": {
            "gridcolor": "white",
            "linecolor": "white",
            "ticks": ""
           },
           "bgcolor": "#E5ECF6",
           "caxis": {
            "gridcolor": "white",
            "linecolor": "white",
            "ticks": ""
           }
          },
          "title": {
           "x": 0.05
          },
          "xaxis": {
           "automargin": true,
           "gridcolor": "white",
           "linecolor": "white",
           "ticks": "",
           "title": {
            "standoff": 15
           },
           "zerolinecolor": "white",
           "zerolinewidth": 2
          },
          "yaxis": {
           "automargin": true,
           "gridcolor": "white",
           "linecolor": "white",
           "ticks": "",
           "title": {
            "standoff": 15
           },
           "zerolinecolor": "white",
           "zerolinewidth": 2
          }
         }
        },
        "title": {
         "text": "Total of 737 Smart Serve 1st Attempt"
        }
       }
      }
     },
     "metadata": {},
     "output_type": "display_data"
    },
    {
     "data": {
      "text/html": [
       "<div>\n",
       "<style scoped>\n",
       "    .dataframe tbody tr th:only-of-type {\n",
       "        vertical-align: middle;\n",
       "    }\n",
       "\n",
       "    .dataframe tbody tr th {\n",
       "        vertical-align: top;\n",
       "    }\n",
       "\n",
       "    .dataframe thead th {\n",
       "        text-align: right;\n",
       "    }\n",
       "</style>\n",
       "<table border=\"1\" class=\"dataframe\">\n",
       "  <thead>\n",
       "    <tr style=\"text-align: right;\">\n",
       "      <th></th>\n",
       "      <th>Token Status</th>\n",
       "      <th>Course Status</th>\n",
       "      <th>Count</th>\n",
       "      <th>Percentage</th>\n",
       "      <th>Explanation</th>\n",
       "    </tr>\n",
       "  </thead>\n",
       "  <tbody>\n",
       "    <tr>\n",
       "      <th>0</th>\n",
       "      <td>Expired</td>\n",
       "      <td>-</td>\n",
       "      <td>18</td>\n",
       "      <td>2.442334</td>\n",
       "      <td>The token wasn't redeemed and left to expire w...</td>\n",
       "    </tr>\n",
       "    <tr>\n",
       "      <th>1</th>\n",
       "      <td>Redeemed</td>\n",
       "      <td>Completed</td>\n",
       "      <td>363</td>\n",
       "      <td>49.253731</td>\n",
       "      <td>The Student passed</td>\n",
       "    </tr>\n",
       "    <tr>\n",
       "      <th>2</th>\n",
       "      <td>Redeemed</td>\n",
       "      <td>Deactivated</td>\n",
       "      <td>2</td>\n",
       "      <td>0.271370</td>\n",
       "      <td>The transaction was reversed or a refund was p...</td>\n",
       "    </tr>\n",
       "    <tr>\n",
       "      <th>3</th>\n",
       "      <td>Redeemed</td>\n",
       "      <td>Failed</td>\n",
       "      <td>131</td>\n",
       "      <td>17.774763</td>\n",
       "      <td>The student failed</td>\n",
       "    </tr>\n",
       "    <tr>\n",
       "      <th>4</th>\n",
       "      <td>Redeemed</td>\n",
       "      <td>In Progress</td>\n",
       "      <td>198</td>\n",
       "      <td>26.865672</td>\n",
       "      <td>The course was started but not completed</td>\n",
       "    </tr>\n",
       "    <tr>\n",
       "      <th>5</th>\n",
       "      <td>Redeemed</td>\n",
       "      <td>Incomplete</td>\n",
       "      <td>25</td>\n",
       "      <td>3.392130</td>\n",
       "      <td>The student started but did not complete all m...</td>\n",
       "    </tr>\n",
       "  </tbody>\n",
       "</table>\n",
       "</div>"
      ],
      "text/plain": [
       "  Token Status Course Status  Count  Percentage  \\\n",
       "0      Expired             -     18    2.442334   \n",
       "1     Redeemed     Completed    363   49.253731   \n",
       "2     Redeemed   Deactivated      2    0.271370   \n",
       "3     Redeemed        Failed    131   17.774763   \n",
       "4     Redeemed   In Progress    198   26.865672   \n",
       "5     Redeemed    Incomplete     25    3.392130   \n",
       "\n",
       "                                         Explanation  \n",
       "0  The token wasn't redeemed and left to expire w...  \n",
       "1                                 The Student passed  \n",
       "2  The transaction was reversed or a refund was p...  \n",
       "3                                 The student failed  \n",
       "4           The course was started but not completed  \n",
       "5  The student started but did not complete all m...  "
      ]
     },
     "execution_count": 13,
     "metadata": {},
     "output_type": "execute_result"
    }
   ],
   "source": [
    "# ATT 1\n",
    "At1 = df[df['attempts'] == 1]\n",
    "At1 = At1.groupby(['Token Status', 'Course Status']).size().reset_index(name='Count')\n",
    "At1['Percentage'] = (At1['Count'] / At1['Count'].sum()) * 100\n",
    "At1['Explanation'] = At1.apply(lambda row: 'The token wasn\\'t redeemed and left to expire with no claim' if row['Token Status'] == 'Expired' and row['Course Status'] == '-' else\n",
    "                              'The Student passed' if row['Token Status'] == 'Redeemed' and row['Course Status'] == 'Completed' else\n",
    "                              'The transaction was reversed or a refund was provided' if row['Token Status'] == 'Redeemed' and row['Course Status'] == 'Deactivated' else\n",
    "                              'The student failed' if row['Token Status'] == 'Redeemed' and row['Course Status'] == 'Failed' else\n",
    "                              'The course was started but not completed' if row['Token Status'] == 'Redeemed' and row['Course Status'] == 'In Progress' else\n",
    "                              'The student started but did not complete all modules assigned' if row['Token Status'] == 'Redeemed' and row['Course Status'] == 'Incomplete' else None, axis=1)\n",
    "\n",
    "total_count = At1['Count'].sum()\n",
    "total_count\n",
    "import plotly.graph_objects as go\n",
    "\n",
    "fig = go.Figure(data=[go.Pie(labels=At1['Explanation'], values=At1['Count'], pull=[0.0, 0, 0, 0, 0, 0.1])])\n",
    "fig.update_layout(title=f\"Total of {total_count} Smart Serve 1st Attempt\")\n",
    "\n",
    "fig.show()\n",
    "\n",
    "\n",
    "At1\n"
   ]
  },
  {
   "cell_type": "code",
   "execution_count": 14,
   "metadata": {},
   "outputs": [
    {
     "data": {
      "application/vnd.plotly.v1+json": {
       "config": {
        "plotlyServerURL": "https://plot.ly"
       },
       "data": [
        {
         "labels": [
          "Available - -",
          "Redeemed - Completed",
          "Redeemed - Failed",
          "Redeemed - In Progress"
         ],
         "type": "pie",
         "values": [
          2,
          36,
          16,
          15
         ]
        }
       ],
       "layout": {
        "template": {
         "data": {
          "bar": [
           {
            "error_x": {
             "color": "#2a3f5f"
            },
            "error_y": {
             "color": "#2a3f5f"
            },
            "marker": {
             "line": {
              "color": "#E5ECF6",
              "width": 0.5
             },
             "pattern": {
              "fillmode": "overlay",
              "size": 10,
              "solidity": 0.2
             }
            },
            "type": "bar"
           }
          ],
          "barpolar": [
           {
            "marker": {
             "line": {
              "color": "#E5ECF6",
              "width": 0.5
             },
             "pattern": {
              "fillmode": "overlay",
              "size": 10,
              "solidity": 0.2
             }
            },
            "type": "barpolar"
           }
          ],
          "carpet": [
           {
            "aaxis": {
             "endlinecolor": "#2a3f5f",
             "gridcolor": "white",
             "linecolor": "white",
             "minorgridcolor": "white",
             "startlinecolor": "#2a3f5f"
            },
            "baxis": {
             "endlinecolor": "#2a3f5f",
             "gridcolor": "white",
             "linecolor": "white",
             "minorgridcolor": "white",
             "startlinecolor": "#2a3f5f"
            },
            "type": "carpet"
           }
          ],
          "choropleth": [
           {
            "colorbar": {
             "outlinewidth": 0,
             "ticks": ""
            },
            "type": "choropleth"
           }
          ],
          "contour": [
           {
            "colorbar": {
             "outlinewidth": 0,
             "ticks": ""
            },
            "colorscale": [
             [
              0,
              "#0d0887"
             ],
             [
              0.1111111111111111,
              "#46039f"
             ],
             [
              0.2222222222222222,
              "#7201a8"
             ],
             [
              0.3333333333333333,
              "#9c179e"
             ],
             [
              0.4444444444444444,
              "#bd3786"
             ],
             [
              0.5555555555555556,
              "#d8576b"
             ],
             [
              0.6666666666666666,
              "#ed7953"
             ],
             [
              0.7777777777777778,
              "#fb9f3a"
             ],
             [
              0.8888888888888888,
              "#fdca26"
             ],
             [
              1,
              "#f0f921"
             ]
            ],
            "type": "contour"
           }
          ],
          "contourcarpet": [
           {
            "colorbar": {
             "outlinewidth": 0,
             "ticks": ""
            },
            "type": "contourcarpet"
           }
          ],
          "heatmap": [
           {
            "colorbar": {
             "outlinewidth": 0,
             "ticks": ""
            },
            "colorscale": [
             [
              0,
              "#0d0887"
             ],
             [
              0.1111111111111111,
              "#46039f"
             ],
             [
              0.2222222222222222,
              "#7201a8"
             ],
             [
              0.3333333333333333,
              "#9c179e"
             ],
             [
              0.4444444444444444,
              "#bd3786"
             ],
             [
              0.5555555555555556,
              "#d8576b"
             ],
             [
              0.6666666666666666,
              "#ed7953"
             ],
             [
              0.7777777777777778,
              "#fb9f3a"
             ],
             [
              0.8888888888888888,
              "#fdca26"
             ],
             [
              1,
              "#f0f921"
             ]
            ],
            "type": "heatmap"
           }
          ],
          "heatmapgl": [
           {
            "colorbar": {
             "outlinewidth": 0,
             "ticks": ""
            },
            "colorscale": [
             [
              0,
              "#0d0887"
             ],
             [
              0.1111111111111111,
              "#46039f"
             ],
             [
              0.2222222222222222,
              "#7201a8"
             ],
             [
              0.3333333333333333,
              "#9c179e"
             ],
             [
              0.4444444444444444,
              "#bd3786"
             ],
             [
              0.5555555555555556,
              "#d8576b"
             ],
             [
              0.6666666666666666,
              "#ed7953"
             ],
             [
              0.7777777777777778,
              "#fb9f3a"
             ],
             [
              0.8888888888888888,
              "#fdca26"
             ],
             [
              1,
              "#f0f921"
             ]
            ],
            "type": "heatmapgl"
           }
          ],
          "histogram": [
           {
            "marker": {
             "pattern": {
              "fillmode": "overlay",
              "size": 10,
              "solidity": 0.2
             }
            },
            "type": "histogram"
           }
          ],
          "histogram2d": [
           {
            "colorbar": {
             "outlinewidth": 0,
             "ticks": ""
            },
            "colorscale": [
             [
              0,
              "#0d0887"
             ],
             [
              0.1111111111111111,
              "#46039f"
             ],
             [
              0.2222222222222222,
              "#7201a8"
             ],
             [
              0.3333333333333333,
              "#9c179e"
             ],
             [
              0.4444444444444444,
              "#bd3786"
             ],
             [
              0.5555555555555556,
              "#d8576b"
             ],
             [
              0.6666666666666666,
              "#ed7953"
             ],
             [
              0.7777777777777778,
              "#fb9f3a"
             ],
             [
              0.8888888888888888,
              "#fdca26"
             ],
             [
              1,
              "#f0f921"
             ]
            ],
            "type": "histogram2d"
           }
          ],
          "histogram2dcontour": [
           {
            "colorbar": {
             "outlinewidth": 0,
             "ticks": ""
            },
            "colorscale": [
             [
              0,
              "#0d0887"
             ],
             [
              0.1111111111111111,
              "#46039f"
             ],
             [
              0.2222222222222222,
              "#7201a8"
             ],
             [
              0.3333333333333333,
              "#9c179e"
             ],
             [
              0.4444444444444444,
              "#bd3786"
             ],
             [
              0.5555555555555556,
              "#d8576b"
             ],
             [
              0.6666666666666666,
              "#ed7953"
             ],
             [
              0.7777777777777778,
              "#fb9f3a"
             ],
             [
              0.8888888888888888,
              "#fdca26"
             ],
             [
              1,
              "#f0f921"
             ]
            ],
            "type": "histogram2dcontour"
           }
          ],
          "mesh3d": [
           {
            "colorbar": {
             "outlinewidth": 0,
             "ticks": ""
            },
            "type": "mesh3d"
           }
          ],
          "parcoords": [
           {
            "line": {
             "colorbar": {
              "outlinewidth": 0,
              "ticks": ""
             }
            },
            "type": "parcoords"
           }
          ],
          "pie": [
           {
            "automargin": true,
            "type": "pie"
           }
          ],
          "scatter": [
           {
            "fillpattern": {
             "fillmode": "overlay",
             "size": 10,
             "solidity": 0.2
            },
            "type": "scatter"
           }
          ],
          "scatter3d": [
           {
            "line": {
             "colorbar": {
              "outlinewidth": 0,
              "ticks": ""
             }
            },
            "marker": {
             "colorbar": {
              "outlinewidth": 0,
              "ticks": ""
             }
            },
            "type": "scatter3d"
           }
          ],
          "scattercarpet": [
           {
            "marker": {
             "colorbar": {
              "outlinewidth": 0,
              "ticks": ""
             }
            },
            "type": "scattercarpet"
           }
          ],
          "scattergeo": [
           {
            "marker": {
             "colorbar": {
              "outlinewidth": 0,
              "ticks": ""
             }
            },
            "type": "scattergeo"
           }
          ],
          "scattergl": [
           {
            "marker": {
             "colorbar": {
              "outlinewidth": 0,
              "ticks": ""
             }
            },
            "type": "scattergl"
           }
          ],
          "scattermapbox": [
           {
            "marker": {
             "colorbar": {
              "outlinewidth": 0,
              "ticks": ""
             }
            },
            "type": "scattermapbox"
           }
          ],
          "scatterpolar": [
           {
            "marker": {
             "colorbar": {
              "outlinewidth": 0,
              "ticks": ""
             }
            },
            "type": "scatterpolar"
           }
          ],
          "scatterpolargl": [
           {
            "marker": {
             "colorbar": {
              "outlinewidth": 0,
              "ticks": ""
             }
            },
            "type": "scatterpolargl"
           }
          ],
          "scatterternary": [
           {
            "marker": {
             "colorbar": {
              "outlinewidth": 0,
              "ticks": ""
             }
            },
            "type": "scatterternary"
           }
          ],
          "surface": [
           {
            "colorbar": {
             "outlinewidth": 0,
             "ticks": ""
            },
            "colorscale": [
             [
              0,
              "#0d0887"
             ],
             [
              0.1111111111111111,
              "#46039f"
             ],
             [
              0.2222222222222222,
              "#7201a8"
             ],
             [
              0.3333333333333333,
              "#9c179e"
             ],
             [
              0.4444444444444444,
              "#bd3786"
             ],
             [
              0.5555555555555556,
              "#d8576b"
             ],
             [
              0.6666666666666666,
              "#ed7953"
             ],
             [
              0.7777777777777778,
              "#fb9f3a"
             ],
             [
              0.8888888888888888,
              "#fdca26"
             ],
             [
              1,
              "#f0f921"
             ]
            ],
            "type": "surface"
           }
          ],
          "table": [
           {
            "cells": {
             "fill": {
              "color": "#EBF0F8"
             },
             "line": {
              "color": "white"
             }
            },
            "header": {
             "fill": {
              "color": "#C8D4E3"
             },
             "line": {
              "color": "white"
             }
            },
            "type": "table"
           }
          ]
         },
         "layout": {
          "annotationdefaults": {
           "arrowcolor": "#2a3f5f",
           "arrowhead": 0,
           "arrowwidth": 1
          },
          "autotypenumbers": "strict",
          "coloraxis": {
           "colorbar": {
            "outlinewidth": 0,
            "ticks": ""
           }
          },
          "colorscale": {
           "diverging": [
            [
             0,
             "#8e0152"
            ],
            [
             0.1,
             "#c51b7d"
            ],
            [
             0.2,
             "#de77ae"
            ],
            [
             0.3,
             "#f1b6da"
            ],
            [
             0.4,
             "#fde0ef"
            ],
            [
             0.5,
             "#f7f7f7"
            ],
            [
             0.6,
             "#e6f5d0"
            ],
            [
             0.7,
             "#b8e186"
            ],
            [
             0.8,
             "#7fbc41"
            ],
            [
             0.9,
             "#4d9221"
            ],
            [
             1,
             "#276419"
            ]
           ],
           "sequential": [
            [
             0,
             "#0d0887"
            ],
            [
             0.1111111111111111,
             "#46039f"
            ],
            [
             0.2222222222222222,
             "#7201a8"
            ],
            [
             0.3333333333333333,
             "#9c179e"
            ],
            [
             0.4444444444444444,
             "#bd3786"
            ],
            [
             0.5555555555555556,
             "#d8576b"
            ],
            [
             0.6666666666666666,
             "#ed7953"
            ],
            [
             0.7777777777777778,
             "#fb9f3a"
            ],
            [
             0.8888888888888888,
             "#fdca26"
            ],
            [
             1,
             "#f0f921"
            ]
           ],
           "sequentialminus": [
            [
             0,
             "#0d0887"
            ],
            [
             0.1111111111111111,
             "#46039f"
            ],
            [
             0.2222222222222222,
             "#7201a8"
            ],
            [
             0.3333333333333333,
             "#9c179e"
            ],
            [
             0.4444444444444444,
             "#bd3786"
            ],
            [
             0.5555555555555556,
             "#d8576b"
            ],
            [
             0.6666666666666666,
             "#ed7953"
            ],
            [
             0.7777777777777778,
             "#fb9f3a"
            ],
            [
             0.8888888888888888,
             "#fdca26"
            ],
            [
             1,
             "#f0f921"
            ]
           ]
          },
          "colorway": [
           "#636efa",
           "#EF553B",
           "#00cc96",
           "#ab63fa",
           "#FFA15A",
           "#19d3f3",
           "#FF6692",
           "#B6E880",
           "#FF97FF",
           "#FECB52"
          ],
          "font": {
           "color": "#2a3f5f"
          },
          "geo": {
           "bgcolor": "white",
           "lakecolor": "white",
           "landcolor": "#E5ECF6",
           "showlakes": true,
           "showland": true,
           "subunitcolor": "white"
          },
          "hoverlabel": {
           "align": "left"
          },
          "hovermode": "closest",
          "mapbox": {
           "style": "light"
          },
          "paper_bgcolor": "white",
          "plot_bgcolor": "#E5ECF6",
          "polar": {
           "angularaxis": {
            "gridcolor": "white",
            "linecolor": "white",
            "ticks": ""
           },
           "bgcolor": "#E5ECF6",
           "radialaxis": {
            "gridcolor": "white",
            "linecolor": "white",
            "ticks": ""
           }
          },
          "scene": {
           "xaxis": {
            "backgroundcolor": "#E5ECF6",
            "gridcolor": "white",
            "gridwidth": 2,
            "linecolor": "white",
            "showbackground": true,
            "ticks": "",
            "zerolinecolor": "white"
           },
           "yaxis": {
            "backgroundcolor": "#E5ECF6",
            "gridcolor": "white",
            "gridwidth": 2,
            "linecolor": "white",
            "showbackground": true,
            "ticks": "",
            "zerolinecolor": "white"
           },
           "zaxis": {
            "backgroundcolor": "#E5ECF6",
            "gridcolor": "white",
            "gridwidth": 2,
            "linecolor": "white",
            "showbackground": true,
            "ticks": "",
            "zerolinecolor": "white"
           }
          },
          "shapedefaults": {
           "line": {
            "color": "#2a3f5f"
           }
          },
          "ternary": {
           "aaxis": {
            "gridcolor": "white",
            "linecolor": "white",
            "ticks": ""
           },
           "baxis": {
            "gridcolor": "white",
            "linecolor": "white",
            "ticks": ""
           },
           "bgcolor": "#E5ECF6",
           "caxis": {
            "gridcolor": "white",
            "linecolor": "white",
            "ticks": ""
           }
          },
          "title": {
           "x": 0.05
          },
          "xaxis": {
           "automargin": true,
           "gridcolor": "white",
           "linecolor": "white",
           "ticks": "",
           "title": {
            "standoff": 15
           },
           "zerolinecolor": "white",
           "zerolinewidth": 2
          },
          "yaxis": {
           "automargin": true,
           "gridcolor": "white",
           "linecolor": "white",
           "ticks": "",
           "title": {
            "standoff": 15
           },
           "zerolinecolor": "white",
           "zerolinewidth": 2
          }
         }
        },
        "title": {
         "text": "Distribution of Token Status and Course Status for Attempts 2"
        }
       }
      }
     },
     "metadata": {},
     "output_type": "display_data"
    },
    {
     "data": {
      "text/html": [
       "<div>\n",
       "<style scoped>\n",
       "    .dataframe tbody tr th:only-of-type {\n",
       "        vertical-align: middle;\n",
       "    }\n",
       "\n",
       "    .dataframe tbody tr th {\n",
       "        vertical-align: top;\n",
       "    }\n",
       "\n",
       "    .dataframe thead th {\n",
       "        text-align: right;\n",
       "    }\n",
       "</style>\n",
       "<table border=\"1\" class=\"dataframe\">\n",
       "  <thead>\n",
       "    <tr style=\"text-align: right;\">\n",
       "      <th></th>\n",
       "      <th>Token Status</th>\n",
       "      <th>Course Status</th>\n",
       "      <th>Count</th>\n",
       "      <th>Percentage</th>\n",
       "    </tr>\n",
       "  </thead>\n",
       "  <tbody>\n",
       "    <tr>\n",
       "      <th>0</th>\n",
       "      <td>Available</td>\n",
       "      <td>-</td>\n",
       "      <td>2</td>\n",
       "      <td>2.898551</td>\n",
       "    </tr>\n",
       "    <tr>\n",
       "      <th>1</th>\n",
       "      <td>Redeemed</td>\n",
       "      <td>Completed</td>\n",
       "      <td>36</td>\n",
       "      <td>52.173913</td>\n",
       "    </tr>\n",
       "    <tr>\n",
       "      <th>2</th>\n",
       "      <td>Redeemed</td>\n",
       "      <td>Failed</td>\n",
       "      <td>16</td>\n",
       "      <td>23.188406</td>\n",
       "    </tr>\n",
       "    <tr>\n",
       "      <th>3</th>\n",
       "      <td>Redeemed</td>\n",
       "      <td>In Progress</td>\n",
       "      <td>15</td>\n",
       "      <td>21.739130</td>\n",
       "    </tr>\n",
       "  </tbody>\n",
       "</table>\n",
       "</div>"
      ],
      "text/plain": [
       "  Token Status Course Status  Count  Percentage\n",
       "0    Available             -      2    2.898551\n",
       "1     Redeemed     Completed     36   52.173913\n",
       "2     Redeemed        Failed     16   23.188406\n",
       "3     Redeemed   In Progress     15   21.739130"
      ]
     },
     "execution_count": 14,
     "metadata": {},
     "output_type": "execute_result"
    }
   ],
   "source": [
    "# # ATT 2\n",
    "At2 = df[df['attempts'] == 2]\n",
    "At2 = At2.groupby(['Token Status', 'Course Status']).size().reset_index(name='Count')\n",
    "At2['Percentage'] = (At2['Count'] / At2['Count'].sum()) * 100\n",
    "import plotly.graph_objects as go\n",
    "\n",
    "labels = At2['Token Status'] + ' - ' + At2['Course Status']\n",
    "values = At2['Count']\n",
    "\n",
    "fig = go.Figure(data=[go.Pie(labels=labels, values=values)])\n",
    "fig.update_layout(title=\"Distribution of Token Status and Course Status for Attempts 2\")\n",
    "fig.show()\n",
    "\n",
    "At2\n",
    "\n"
   ]
  },
  {
   "cell_type": "code",
   "execution_count": 15,
   "metadata": {},
   "outputs": [
    {
     "data": {
      "application/vnd.plotly.v1+json": {
       "config": {
        "plotlyServerURL": "https://plot.ly"
       },
       "data": [
        {
         "domain": {
          "x": [
           0,
           1
          ],
          "y": [
           0,
           1
          ]
         },
         "hovertemplate": "Combined Status=%{label}<br>Count=%{value}<extra></extra>",
         "labels": [
          "Available - -",
          "Expired - -",
          "Redeemed - Completed",
          "Redeemed - Deactivated",
          "Redeemed - Failed",
          "Redeemed - In Progress",
          "Redeemed - Incomplete"
         ],
         "legendgroup": "",
         "name": "",
         "showlegend": true,
         "type": "pie",
         "values": [
          2,
          18,
          399,
          2,
          147,
          213,
          25
         ]
        }
       ],
       "layout": {
        "legend": {
         "tracegroupgap": 0
        },
        "template": {
         "data": {
          "bar": [
           {
            "error_x": {
             "color": "#2a3f5f"
            },
            "error_y": {
             "color": "#2a3f5f"
            },
            "marker": {
             "line": {
              "color": "#E5ECF6",
              "width": 0.5
             },
             "pattern": {
              "fillmode": "overlay",
              "size": 10,
              "solidity": 0.2
             }
            },
            "type": "bar"
           }
          ],
          "barpolar": [
           {
            "marker": {
             "line": {
              "color": "#E5ECF6",
              "width": 0.5
             },
             "pattern": {
              "fillmode": "overlay",
              "size": 10,
              "solidity": 0.2
             }
            },
            "type": "barpolar"
           }
          ],
          "carpet": [
           {
            "aaxis": {
             "endlinecolor": "#2a3f5f",
             "gridcolor": "white",
             "linecolor": "white",
             "minorgridcolor": "white",
             "startlinecolor": "#2a3f5f"
            },
            "baxis": {
             "endlinecolor": "#2a3f5f",
             "gridcolor": "white",
             "linecolor": "white",
             "minorgridcolor": "white",
             "startlinecolor": "#2a3f5f"
            },
            "type": "carpet"
           }
          ],
          "choropleth": [
           {
            "colorbar": {
             "outlinewidth": 0,
             "ticks": ""
            },
            "type": "choropleth"
           }
          ],
          "contour": [
           {
            "colorbar": {
             "outlinewidth": 0,
             "ticks": ""
            },
            "colorscale": [
             [
              0,
              "#0d0887"
             ],
             [
              0.1111111111111111,
              "#46039f"
             ],
             [
              0.2222222222222222,
              "#7201a8"
             ],
             [
              0.3333333333333333,
              "#9c179e"
             ],
             [
              0.4444444444444444,
              "#bd3786"
             ],
             [
              0.5555555555555556,
              "#d8576b"
             ],
             [
              0.6666666666666666,
              "#ed7953"
             ],
             [
              0.7777777777777778,
              "#fb9f3a"
             ],
             [
              0.8888888888888888,
              "#fdca26"
             ],
             [
              1,
              "#f0f921"
             ]
            ],
            "type": "contour"
           }
          ],
          "contourcarpet": [
           {
            "colorbar": {
             "outlinewidth": 0,
             "ticks": ""
            },
            "type": "contourcarpet"
           }
          ],
          "heatmap": [
           {
            "colorbar": {
             "outlinewidth": 0,
             "ticks": ""
            },
            "colorscale": [
             [
              0,
              "#0d0887"
             ],
             [
              0.1111111111111111,
              "#46039f"
             ],
             [
              0.2222222222222222,
              "#7201a8"
             ],
             [
              0.3333333333333333,
              "#9c179e"
             ],
             [
              0.4444444444444444,
              "#bd3786"
             ],
             [
              0.5555555555555556,
              "#d8576b"
             ],
             [
              0.6666666666666666,
              "#ed7953"
             ],
             [
              0.7777777777777778,
              "#fb9f3a"
             ],
             [
              0.8888888888888888,
              "#fdca26"
             ],
             [
              1,
              "#f0f921"
             ]
            ],
            "type": "heatmap"
           }
          ],
          "heatmapgl": [
           {
            "colorbar": {
             "outlinewidth": 0,
             "ticks": ""
            },
            "colorscale": [
             [
              0,
              "#0d0887"
             ],
             [
              0.1111111111111111,
              "#46039f"
             ],
             [
              0.2222222222222222,
              "#7201a8"
             ],
             [
              0.3333333333333333,
              "#9c179e"
             ],
             [
              0.4444444444444444,
              "#bd3786"
             ],
             [
              0.5555555555555556,
              "#d8576b"
             ],
             [
              0.6666666666666666,
              "#ed7953"
             ],
             [
              0.7777777777777778,
              "#fb9f3a"
             ],
             [
              0.8888888888888888,
              "#fdca26"
             ],
             [
              1,
              "#f0f921"
             ]
            ],
            "type": "heatmapgl"
           }
          ],
          "histogram": [
           {
            "marker": {
             "pattern": {
              "fillmode": "overlay",
              "size": 10,
              "solidity": 0.2
             }
            },
            "type": "histogram"
           }
          ],
          "histogram2d": [
           {
            "colorbar": {
             "outlinewidth": 0,
             "ticks": ""
            },
            "colorscale": [
             [
              0,
              "#0d0887"
             ],
             [
              0.1111111111111111,
              "#46039f"
             ],
             [
              0.2222222222222222,
              "#7201a8"
             ],
             [
              0.3333333333333333,
              "#9c179e"
             ],
             [
              0.4444444444444444,
              "#bd3786"
             ],
             [
              0.5555555555555556,
              "#d8576b"
             ],
             [
              0.6666666666666666,
              "#ed7953"
             ],
             [
              0.7777777777777778,
              "#fb9f3a"
             ],
             [
              0.8888888888888888,
              "#fdca26"
             ],
             [
              1,
              "#f0f921"
             ]
            ],
            "type": "histogram2d"
           }
          ],
          "histogram2dcontour": [
           {
            "colorbar": {
             "outlinewidth": 0,
             "ticks": ""
            },
            "colorscale": [
             [
              0,
              "#0d0887"
             ],
             [
              0.1111111111111111,
              "#46039f"
             ],
             [
              0.2222222222222222,
              "#7201a8"
             ],
             [
              0.3333333333333333,
              "#9c179e"
             ],
             [
              0.4444444444444444,
              "#bd3786"
             ],
             [
              0.5555555555555556,
              "#d8576b"
             ],
             [
              0.6666666666666666,
              "#ed7953"
             ],
             [
              0.7777777777777778,
              "#fb9f3a"
             ],
             [
              0.8888888888888888,
              "#fdca26"
             ],
             [
              1,
              "#f0f921"
             ]
            ],
            "type": "histogram2dcontour"
           }
          ],
          "mesh3d": [
           {
            "colorbar": {
             "outlinewidth": 0,
             "ticks": ""
            },
            "type": "mesh3d"
           }
          ],
          "parcoords": [
           {
            "line": {
             "colorbar": {
              "outlinewidth": 0,
              "ticks": ""
             }
            },
            "type": "parcoords"
           }
          ],
          "pie": [
           {
            "automargin": true,
            "type": "pie"
           }
          ],
          "scatter": [
           {
            "fillpattern": {
             "fillmode": "overlay",
             "size": 10,
             "solidity": 0.2
            },
            "type": "scatter"
           }
          ],
          "scatter3d": [
           {
            "line": {
             "colorbar": {
              "outlinewidth": 0,
              "ticks": ""
             }
            },
            "marker": {
             "colorbar": {
              "outlinewidth": 0,
              "ticks": ""
             }
            },
            "type": "scatter3d"
           }
          ],
          "scattercarpet": [
           {
            "marker": {
             "colorbar": {
              "outlinewidth": 0,
              "ticks": ""
             }
            },
            "type": "scattercarpet"
           }
          ],
          "scattergeo": [
           {
            "marker": {
             "colorbar": {
              "outlinewidth": 0,
              "ticks": ""
             }
            },
            "type": "scattergeo"
           }
          ],
          "scattergl": [
           {
            "marker": {
             "colorbar": {
              "outlinewidth": 0,
              "ticks": ""
             }
            },
            "type": "scattergl"
           }
          ],
          "scattermapbox": [
           {
            "marker": {
             "colorbar": {
              "outlinewidth": 0,
              "ticks": ""
             }
            },
            "type": "scattermapbox"
           }
          ],
          "scatterpolar": [
           {
            "marker": {
             "colorbar": {
              "outlinewidth": 0,
              "ticks": ""
             }
            },
            "type": "scatterpolar"
           }
          ],
          "scatterpolargl": [
           {
            "marker": {
             "colorbar": {
              "outlinewidth": 0,
              "ticks": ""
             }
            },
            "type": "scatterpolargl"
           }
          ],
          "scatterternary": [
           {
            "marker": {
             "colorbar": {
              "outlinewidth": 0,
              "ticks": ""
             }
            },
            "type": "scatterternary"
           }
          ],
          "surface": [
           {
            "colorbar": {
             "outlinewidth": 0,
             "ticks": ""
            },
            "colorscale": [
             [
              0,
              "#0d0887"
             ],
             [
              0.1111111111111111,
              "#46039f"
             ],
             [
              0.2222222222222222,
              "#7201a8"
             ],
             [
              0.3333333333333333,
              "#9c179e"
             ],
             [
              0.4444444444444444,
              "#bd3786"
             ],
             [
              0.5555555555555556,
              "#d8576b"
             ],
             [
              0.6666666666666666,
              "#ed7953"
             ],
             [
              0.7777777777777778,
              "#fb9f3a"
             ],
             [
              0.8888888888888888,
              "#fdca26"
             ],
             [
              1,
              "#f0f921"
             ]
            ],
            "type": "surface"
           }
          ],
          "table": [
           {
            "cells": {
             "fill": {
              "color": "#EBF0F8"
             },
             "line": {
              "color": "white"
             }
            },
            "header": {
             "fill": {
              "color": "#C8D4E3"
             },
             "line": {
              "color": "white"
             }
            },
            "type": "table"
           }
          ]
         },
         "layout": {
          "annotationdefaults": {
           "arrowcolor": "#2a3f5f",
           "arrowhead": 0,
           "arrowwidth": 1
          },
          "autotypenumbers": "strict",
          "coloraxis": {
           "colorbar": {
            "outlinewidth": 0,
            "ticks": ""
           }
          },
          "colorscale": {
           "diverging": [
            [
             0,
             "#8e0152"
            ],
            [
             0.1,
             "#c51b7d"
            ],
            [
             0.2,
             "#de77ae"
            ],
            [
             0.3,
             "#f1b6da"
            ],
            [
             0.4,
             "#fde0ef"
            ],
            [
             0.5,
             "#f7f7f7"
            ],
            [
             0.6,
             "#e6f5d0"
            ],
            [
             0.7,
             "#b8e186"
            ],
            [
             0.8,
             "#7fbc41"
            ],
            [
             0.9,
             "#4d9221"
            ],
            [
             1,
             "#276419"
            ]
           ],
           "sequential": [
            [
             0,
             "#0d0887"
            ],
            [
             0.1111111111111111,
             "#46039f"
            ],
            [
             0.2222222222222222,
             "#7201a8"
            ],
            [
             0.3333333333333333,
             "#9c179e"
            ],
            [
             0.4444444444444444,
             "#bd3786"
            ],
            [
             0.5555555555555556,
             "#d8576b"
            ],
            [
             0.6666666666666666,
             "#ed7953"
            ],
            [
             0.7777777777777778,
             "#fb9f3a"
            ],
            [
             0.8888888888888888,
             "#fdca26"
            ],
            [
             1,
             "#f0f921"
            ]
           ],
           "sequentialminus": [
            [
             0,
             "#0d0887"
            ],
            [
             0.1111111111111111,
             "#46039f"
            ],
            [
             0.2222222222222222,
             "#7201a8"
            ],
            [
             0.3333333333333333,
             "#9c179e"
            ],
            [
             0.4444444444444444,
             "#bd3786"
            ],
            [
             0.5555555555555556,
             "#d8576b"
            ],
            [
             0.6666666666666666,
             "#ed7953"
            ],
            [
             0.7777777777777778,
             "#fb9f3a"
            ],
            [
             0.8888888888888888,
             "#fdca26"
            ],
            [
             1,
             "#f0f921"
            ]
           ]
          },
          "colorway": [
           "#636efa",
           "#EF553B",
           "#00cc96",
           "#ab63fa",
           "#FFA15A",
           "#19d3f3",
           "#FF6692",
           "#B6E880",
           "#FF97FF",
           "#FECB52"
          ],
          "font": {
           "color": "#2a3f5f"
          },
          "geo": {
           "bgcolor": "white",
           "lakecolor": "white",
           "landcolor": "#E5ECF6",
           "showlakes": true,
           "showland": true,
           "subunitcolor": "white"
          },
          "hoverlabel": {
           "align": "left"
          },
          "hovermode": "closest",
          "mapbox": {
           "style": "light"
          },
          "paper_bgcolor": "white",
          "plot_bgcolor": "#E5ECF6",
          "polar": {
           "angularaxis": {
            "gridcolor": "white",
            "linecolor": "white",
            "ticks": ""
           },
           "bgcolor": "#E5ECF6",
           "radialaxis": {
            "gridcolor": "white",
            "linecolor": "white",
            "ticks": ""
           }
          },
          "scene": {
           "xaxis": {
            "backgroundcolor": "#E5ECF6",
            "gridcolor": "white",
            "gridwidth": 2,
            "linecolor": "white",
            "showbackground": true,
            "ticks": "",
            "zerolinecolor": "white"
           },
           "yaxis": {
            "backgroundcolor": "#E5ECF6",
            "gridcolor": "white",
            "gridwidth": 2,
            "linecolor": "white",
            "showbackground": true,
            "ticks": "",
            "zerolinecolor": "white"
           },
           "zaxis": {
            "backgroundcolor": "#E5ECF6",
            "gridcolor": "white",
            "gridwidth": 2,
            "linecolor": "white",
            "showbackground": true,
            "ticks": "",
            "zerolinecolor": "white"
           }
          },
          "shapedefaults": {
           "line": {
            "color": "#2a3f5f"
           }
          },
          "ternary": {
           "aaxis": {
            "gridcolor": "white",
            "linecolor": "white",
            "ticks": ""
           },
           "baxis": {
            "gridcolor": "white",
            "linecolor": "white",
            "ticks": ""
           },
           "bgcolor": "#E5ECF6",
           "caxis": {
            "gridcolor": "white",
            "linecolor": "white",
            "ticks": ""
           }
          },
          "title": {
           "x": 0.05
          },
          "xaxis": {
           "automargin": true,
           "gridcolor": "white",
           "linecolor": "white",
           "ticks": "",
           "title": {
            "standoff": 15
           },
           "zerolinecolor": "white",
           "zerolinewidth": 2
          },
          "yaxis": {
           "automargin": true,
           "gridcolor": "white",
           "linecolor": "white",
           "ticks": "",
           "title": {
            "standoff": 15
           },
           "zerolinecolor": "white",
           "zerolinewidth": 2
          }
         }
        },
        "title": {
         "text": "Combined Status Distribution"
        }
       }
      }
     },
     "metadata": {},
     "output_type": "display_data"
    },
    {
     "name": "stdout",
     "output_type": "stream",
     "text": [
      "806\n"
     ]
    },
    {
     "data": {
      "text/html": [
       "<div>\n",
       "<style scoped>\n",
       "    .dataframe tbody tr th:only-of-type {\n",
       "        vertical-align: middle;\n",
       "    }\n",
       "\n",
       "    .dataframe tbody tr th {\n",
       "        vertical-align: top;\n",
       "    }\n",
       "\n",
       "    .dataframe thead th {\n",
       "        text-align: right;\n",
       "    }\n",
       "</style>\n",
       "<table border=\"1\" class=\"dataframe\">\n",
       "  <thead>\n",
       "    <tr style=\"text-align: right;\">\n",
       "      <th></th>\n",
       "      <th>Token Status</th>\n",
       "      <th>Course Status</th>\n",
       "      <th>Count</th>\n",
       "      <th>Combined Status</th>\n",
       "      <th>Percentage</th>\n",
       "    </tr>\n",
       "  </thead>\n",
       "  <tbody>\n",
       "    <tr>\n",
       "      <th>0</th>\n",
       "      <td>Available</td>\n",
       "      <td>-</td>\n",
       "      <td>2</td>\n",
       "      <td>Available - -</td>\n",
       "      <td>0.248139</td>\n",
       "    </tr>\n",
       "    <tr>\n",
       "      <th>1</th>\n",
       "      <td>Expired</td>\n",
       "      <td>-</td>\n",
       "      <td>18</td>\n",
       "      <td>Expired - -</td>\n",
       "      <td>2.233251</td>\n",
       "    </tr>\n",
       "    <tr>\n",
       "      <th>2</th>\n",
       "      <td>Redeemed</td>\n",
       "      <td>Completed</td>\n",
       "      <td>399</td>\n",
       "      <td>Redeemed - Completed</td>\n",
       "      <td>49.503722</td>\n",
       "    </tr>\n",
       "    <tr>\n",
       "      <th>3</th>\n",
       "      <td>Redeemed</td>\n",
       "      <td>Deactivated</td>\n",
       "      <td>2</td>\n",
       "      <td>Redeemed - Deactivated</td>\n",
       "      <td>0.248139</td>\n",
       "    </tr>\n",
       "    <tr>\n",
       "      <th>4</th>\n",
       "      <td>Redeemed</td>\n",
       "      <td>Failed</td>\n",
       "      <td>147</td>\n",
       "      <td>Redeemed - Failed</td>\n",
       "      <td>18.238213</td>\n",
       "    </tr>\n",
       "    <tr>\n",
       "      <th>5</th>\n",
       "      <td>Redeemed</td>\n",
       "      <td>In Progress</td>\n",
       "      <td>213</td>\n",
       "      <td>Redeemed - In Progress</td>\n",
       "      <td>26.426799</td>\n",
       "    </tr>\n",
       "    <tr>\n",
       "      <th>6</th>\n",
       "      <td>Redeemed</td>\n",
       "      <td>Incomplete</td>\n",
       "      <td>25</td>\n",
       "      <td>Redeemed - Incomplete</td>\n",
       "      <td>3.101737</td>\n",
       "    </tr>\n",
       "  </tbody>\n",
       "</table>\n",
       "</div>"
      ],
      "text/plain": [
       "  Token Status Course Status  Count         Combined Status  Percentage\n",
       "0    Available             -      2           Available - -    0.248139\n",
       "1      Expired             -     18             Expired - -    2.233251\n",
       "2     Redeemed     Completed    399    Redeemed - Completed   49.503722\n",
       "3     Redeemed   Deactivated      2  Redeemed - Deactivated    0.248139\n",
       "4     Redeemed        Failed    147       Redeemed - Failed   18.238213\n",
       "5     Redeemed   In Progress    213  Redeemed - In Progress   26.426799\n",
       "6     Redeemed    Incomplete     25   Redeemed - Incomplete    3.101737"
      ]
     },
     "execution_count": 15,
     "metadata": {},
     "output_type": "execute_result"
    }
   ],
   "source": [
    "# Total Attempts 1 and 2\n",
    "grouped_df = df.groupby(['Token Status', 'Course Status']).size().reset_index(name='Count')\n",
    "grouped_df['Combined Status'] = grouped_df['Token Status'] + ' - ' + grouped_df['Course Status']\n",
    "grouped_df['Percentage'] = (grouped_df['Count'] / grouped_df['Count'].sum()) * 100\n",
    "import plotly.express as px\n",
    "\n",
    "fig = px.pie(grouped_df, values='Count', names='Combined Status', title='Combined Status Distribution')\n",
    "fig.show()\n",
    "\n",
    "grouped_df\n",
    "count_sum = grouped_df['Count'].sum()\n",
    "print(count_sum)\n",
    "grouped_df\n"
   ]
  },
  {
   "cell_type": "code",
   "execution_count": 16,
   "metadata": {},
   "outputs": [
    {
     "data": {
      "text/html": [
       "<div>\n",
       "<style scoped>\n",
       "    .dataframe tbody tr th:only-of-type {\n",
       "        vertical-align: middle;\n",
       "    }\n",
       "\n",
       "    .dataframe tbody tr th {\n",
       "        vertical-align: top;\n",
       "    }\n",
       "\n",
       "    .dataframe thead th {\n",
       "        text-align: right;\n",
       "    }\n",
       "</style>\n",
       "<table border=\"1\" class=\"dataframe\">\n",
       "  <thead>\n",
       "    <tr style=\"text-align: right;\">\n",
       "      <th>attempts</th>\n",
       "      <th>1</th>\n",
       "      <th>2</th>\n",
       "      <th>Total Attempts</th>\n",
       "    </tr>\n",
       "    <tr>\n",
       "      <th>Year</th>\n",
       "      <th></th>\n",
       "      <th></th>\n",
       "      <th></th>\n",
       "    </tr>\n",
       "  </thead>\n",
       "  <tbody>\n",
       "    <tr>\n",
       "      <th>2021</th>\n",
       "      <td>27</td>\n",
       "      <td>4</td>\n",
       "      <td>31</td>\n",
       "    </tr>\n",
       "    <tr>\n",
       "      <th>2022</th>\n",
       "      <td>210</td>\n",
       "      <td>11</td>\n",
       "      <td>221</td>\n",
       "    </tr>\n",
       "    <tr>\n",
       "      <th>2023</th>\n",
       "      <td>379</td>\n",
       "      <td>36</td>\n",
       "      <td>415</td>\n",
       "    </tr>\n",
       "    <tr>\n",
       "      <th>2024</th>\n",
       "      <td>121</td>\n",
       "      <td>18</td>\n",
       "      <td>139</td>\n",
       "    </tr>\n",
       "  </tbody>\n",
       "</table>\n",
       "</div>"
      ],
      "text/plain": [
       "attempts    1   2  Total Attempts\n",
       "Year                             \n",
       "2021       27   4              31\n",
       "2022      210  11             221\n",
       "2023      379  36             415\n",
       "2024      121  18             139"
      ]
     },
     "execution_count": 16,
     "metadata": {},
     "output_type": "execute_result"
    }
   ],
   "source": [
    "df['Year'] = df['Token Expiry Date'].dt.year\n",
    "year_counts = df.groupby('Year').count()\n",
    "year_counts = year_counts[['Token']]\n",
    "year_counts.columns = ['Count']\n",
    "attempts_by_year = df.groupby(['Year', 'attempts']).size().unstack().fillna(0)\n",
    "attempts_by_year['Total Attempts'] = attempts_by_year[1] + attempts_by_year[2]\n",
    "attempts_by_year\n"
   ]
  }
 ],
 "metadata": {
  "kernelspec": {
   "display_name": "python_data",
   "language": "python",
   "name": "python3"
  },
  "language_info": {
   "codemirror_mode": {
    "name": "ipython",
    "version": 3
   },
   "file_extension": ".py",
   "mimetype": "text/x-python",
   "name": "python",
   "nbconvert_exporter": "python",
   "pygments_lexer": "ipython3",
   "version": "3.11.7"
  }
 },
 "nbformat": 4,
 "nbformat_minor": 2
}
